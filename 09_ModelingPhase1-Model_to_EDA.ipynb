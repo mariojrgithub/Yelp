{
 "cells": [
  {
   "cell_type": "markdown",
   "metadata": {},
   "source": [
    "# This notebook will select key features that have a high correlation to income\n",
    "\n",
    "This notebook will go over:\n",
    "- Feature engineering\n",
    "- Creating Dummy Variables for cities\n",
    "- Using Elastic Net as EDA --> decided to not use this model to pick features\n",
    "- Using SelectKBest to select optimal features --> only picked cities thus, we won't be using this \n",
    "- Using for-loop to find optimal features --> utilizing this method to model\n",
    "- Cross val score before PCA\n",
    "- Cross Val Score of models to determine which models to GridSearch (PCA)\n",
    "- GridSearch top performing models\n",
    "- Transform demo model to prep for testing (on Flask)\n",
    "- Save model in pickle for flask\n",
    "- Predicting income using demo model to make sure flask is performing correctly"
   ]
  },
  {
   "cell_type": "code",
   "execution_count": 1,
   "metadata": {},
   "outputs": [],
   "source": [
    "import pandas as pd"
   ]
  },
  {
   "cell_type": "code",
   "execution_count": 2,
   "metadata": {},
   "outputs": [
    {
     "data": {
      "text/html": [
       "<div>\n",
       "<style scoped>\n",
       "    .dataframe tbody tr th:only-of-type {\n",
       "        vertical-align: middle;\n",
       "    }\n",
       "\n",
       "    .dataframe tbody tr th {\n",
       "        vertical-align: top;\n",
       "    }\n",
       "\n",
       "    .dataframe thead th {\n",
       "        text-align: right;\n",
       "    }\n",
       "</style>\n",
       "<table border=\"1\" class=\"dataframe\">\n",
       "  <thead>\n",
       "    <tr style=\"text-align: right;\">\n",
       "      <th></th>\n",
       "      <th>Unnamed: 0</th>\n",
       "      <th>zip_code</th>\n",
       "      <th>count</th>\n",
       "      <th>latitude</th>\n",
       "      <th>longitude</th>\n",
       "      <th>Price_1</th>\n",
       "      <th>Price_2</th>\n",
       "      <th>Price_3</th>\n",
       "      <th>Price_4</th>\n",
       "      <th>Rating_1</th>\n",
       "      <th>...</th>\n",
       "      <th>wineries</th>\n",
       "      <th>winetasteclasses</th>\n",
       "      <th>winetastingroom</th>\n",
       "      <th>winetours</th>\n",
       "      <th>womenscloth</th>\n",
       "      <th>wraps</th>\n",
       "      <th>yelpevents</th>\n",
       "      <th>yoga</th>\n",
       "      <th>zoos</th>\n",
       "      <th>income</th>\n",
       "    </tr>\n",
       "  </thead>\n",
       "  <tbody>\n",
       "    <tr>\n",
       "      <th>0</th>\n",
       "      <td>0</td>\n",
       "      <td>90001</td>\n",
       "      <td>30</td>\n",
       "      <td>33.976530</td>\n",
       "      <td>-118.249230</td>\n",
       "      <td>18</td>\n",
       "      <td>12</td>\n",
       "      <td>0</td>\n",
       "      <td>0</td>\n",
       "      <td>0</td>\n",
       "      <td>...</td>\n",
       "      <td>0</td>\n",
       "      <td>0</td>\n",
       "      <td>0</td>\n",
       "      <td>0</td>\n",
       "      <td>0</td>\n",
       "      <td>0</td>\n",
       "      <td>0</td>\n",
       "      <td>0</td>\n",
       "      <td>0</td>\n",
       "      <td>35660</td>\n",
       "    </tr>\n",
       "    <tr>\n",
       "      <th>1</th>\n",
       "      <td>1</td>\n",
       "      <td>90002</td>\n",
       "      <td>4</td>\n",
       "      <td>33.948102</td>\n",
       "      <td>-118.248582</td>\n",
       "      <td>3</td>\n",
       "      <td>1</td>\n",
       "      <td>0</td>\n",
       "      <td>0</td>\n",
       "      <td>0</td>\n",
       "      <td>...</td>\n",
       "      <td>0</td>\n",
       "      <td>0</td>\n",
       "      <td>0</td>\n",
       "      <td>0</td>\n",
       "      <td>0</td>\n",
       "      <td>0</td>\n",
       "      <td>0</td>\n",
       "      <td>0</td>\n",
       "      <td>0</td>\n",
       "      <td>34000</td>\n",
       "    </tr>\n",
       "    <tr>\n",
       "      <th>2</th>\n",
       "      <td>2</td>\n",
       "      <td>90003</td>\n",
       "      <td>20</td>\n",
       "      <td>33.971906</td>\n",
       "      <td>-118.272539</td>\n",
       "      <td>16</td>\n",
       "      <td>4</td>\n",
       "      <td>0</td>\n",
       "      <td>0</td>\n",
       "      <td>0</td>\n",
       "      <td>...</td>\n",
       "      <td>0</td>\n",
       "      <td>0</td>\n",
       "      <td>0</td>\n",
       "      <td>0</td>\n",
       "      <td>0</td>\n",
       "      <td>0</td>\n",
       "      <td>0</td>\n",
       "      <td>0</td>\n",
       "      <td>0</td>\n",
       "      <td>34397</td>\n",
       "    </tr>\n",
       "    <tr>\n",
       "      <th>3</th>\n",
       "      <td>3</td>\n",
       "      <td>90004</td>\n",
       "      <td>29</td>\n",
       "      <td>34.076563</td>\n",
       "      <td>-118.310331</td>\n",
       "      <td>10</td>\n",
       "      <td>19</td>\n",
       "      <td>0</td>\n",
       "      <td>0</td>\n",
       "      <td>0</td>\n",
       "      <td>...</td>\n",
       "      <td>0</td>\n",
       "      <td>0</td>\n",
       "      <td>0</td>\n",
       "      <td>0</td>\n",
       "      <td>0</td>\n",
       "      <td>0</td>\n",
       "      <td>0</td>\n",
       "      <td>0</td>\n",
       "      <td>0</td>\n",
       "      <td>46581</td>\n",
       "    </tr>\n",
       "    <tr>\n",
       "      <th>4</th>\n",
       "      <td>4</td>\n",
       "      <td>90005</td>\n",
       "      <td>45</td>\n",
       "      <td>34.059083</td>\n",
       "      <td>-118.298835</td>\n",
       "      <td>11</td>\n",
       "      <td>33</td>\n",
       "      <td>1</td>\n",
       "      <td>0</td>\n",
       "      <td>0</td>\n",
       "      <td>...</td>\n",
       "      <td>0</td>\n",
       "      <td>0</td>\n",
       "      <td>0</td>\n",
       "      <td>0</td>\n",
       "      <td>0</td>\n",
       "      <td>0</td>\n",
       "      <td>0</td>\n",
       "      <td>0</td>\n",
       "      <td>0</td>\n",
       "      <td>32461</td>\n",
       "    </tr>\n",
       "  </tbody>\n",
       "</table>\n",
       "<p>5 rows × 497 columns</p>\n",
       "</div>"
      ],
      "text/plain": [
       "   Unnamed: 0  zip_code  count   latitude   longitude  Price_1  Price_2  \\\n",
       "0           0     90001     30  33.976530 -118.249230       18       12   \n",
       "1           1     90002      4  33.948102 -118.248582        3        1   \n",
       "2           2     90003     20  33.971906 -118.272539       16        4   \n",
       "3           3     90004     29  34.076563 -118.310331       10       19   \n",
       "4           4     90005     45  34.059083 -118.298835       11       33   \n",
       "\n",
       "   Price_3  Price_4  Rating_1  ...  wineries  winetasteclasses  \\\n",
       "0        0        0         0  ...         0                 0   \n",
       "1        0        0         0  ...         0                 0   \n",
       "2        0        0         0  ...         0                 0   \n",
       "3        0        0         0  ...         0                 0   \n",
       "4        1        0         0  ...         0                 0   \n",
       "\n",
       "   winetastingroom  winetours  womenscloth  wraps  yelpevents  yoga  zoos  \\\n",
       "0                0          0            0      0           0     0     0   \n",
       "1                0          0            0      0           0     0     0   \n",
       "2                0          0            0      0           0     0     0   \n",
       "3                0          0            0      0           0     0     0   \n",
       "4                0          0            0      0           0     0     0   \n",
       "\n",
       "  income  \n",
       "0  35660  \n",
       "1  34000  \n",
       "2  34397  \n",
       "3  46581  \n",
       "4  32461  \n",
       "\n",
       "[5 rows x 497 columns]"
      ]
     },
     "execution_count": 2,
     "metadata": {},
     "output_type": "execute_result"
    }
   ],
   "source": [
    "df = pd.read_csv('./datasets/Grandma.csv')\n",
    "df.head()"
   ]
  },
  {
   "cell_type": "markdown",
   "metadata": {},
   "source": [
    "# Feature Engineering Price"
   ]
  },
  {
   "cell_type": "code",
   "execution_count": 3,
   "metadata": {},
   "outputs": [],
   "source": [
    "df['price_1_percentage'] = df['Price_1']/ df['count']"
   ]
  },
  {
   "cell_type": "code",
   "execution_count": 4,
   "metadata": {},
   "outputs": [
    {
     "data": {
      "text/html": [
       "<div>\n",
       "<style scoped>\n",
       "    .dataframe tbody tr th:only-of-type {\n",
       "        vertical-align: middle;\n",
       "    }\n",
       "\n",
       "    .dataframe tbody tr th {\n",
       "        vertical-align: top;\n",
       "    }\n",
       "\n",
       "    .dataframe thead th {\n",
       "        text-align: right;\n",
       "    }\n",
       "</style>\n",
       "<table border=\"1\" class=\"dataframe\">\n",
       "  <thead>\n",
       "    <tr style=\"text-align: right;\">\n",
       "      <th></th>\n",
       "      <th>Unnamed: 0</th>\n",
       "      <th>zip_code</th>\n",
       "      <th>count</th>\n",
       "      <th>latitude</th>\n",
       "      <th>longitude</th>\n",
       "      <th>Price_1</th>\n",
       "      <th>Price_2</th>\n",
       "      <th>Price_3</th>\n",
       "      <th>Price_4</th>\n",
       "      <th>Rating_1</th>\n",
       "      <th>...</th>\n",
       "      <th>winetasteclasses</th>\n",
       "      <th>winetastingroom</th>\n",
       "      <th>winetours</th>\n",
       "      <th>womenscloth</th>\n",
       "      <th>wraps</th>\n",
       "      <th>yelpevents</th>\n",
       "      <th>yoga</th>\n",
       "      <th>zoos</th>\n",
       "      <th>income</th>\n",
       "      <th>price_1_percentage</th>\n",
       "    </tr>\n",
       "  </thead>\n",
       "  <tbody>\n",
       "    <tr>\n",
       "      <th>0</th>\n",
       "      <td>0</td>\n",
       "      <td>90001</td>\n",
       "      <td>30</td>\n",
       "      <td>33.976530</td>\n",
       "      <td>-118.249230</td>\n",
       "      <td>18</td>\n",
       "      <td>12</td>\n",
       "      <td>0</td>\n",
       "      <td>0</td>\n",
       "      <td>0</td>\n",
       "      <td>...</td>\n",
       "      <td>0</td>\n",
       "      <td>0</td>\n",
       "      <td>0</td>\n",
       "      <td>0</td>\n",
       "      <td>0</td>\n",
       "      <td>0</td>\n",
       "      <td>0</td>\n",
       "      <td>0</td>\n",
       "      <td>35660</td>\n",
       "      <td>0.600000</td>\n",
       "    </tr>\n",
       "    <tr>\n",
       "      <th>1</th>\n",
       "      <td>1</td>\n",
       "      <td>90002</td>\n",
       "      <td>4</td>\n",
       "      <td>33.948102</td>\n",
       "      <td>-118.248582</td>\n",
       "      <td>3</td>\n",
       "      <td>1</td>\n",
       "      <td>0</td>\n",
       "      <td>0</td>\n",
       "      <td>0</td>\n",
       "      <td>...</td>\n",
       "      <td>0</td>\n",
       "      <td>0</td>\n",
       "      <td>0</td>\n",
       "      <td>0</td>\n",
       "      <td>0</td>\n",
       "      <td>0</td>\n",
       "      <td>0</td>\n",
       "      <td>0</td>\n",
       "      <td>34000</td>\n",
       "      <td>0.750000</td>\n",
       "    </tr>\n",
       "    <tr>\n",
       "      <th>2</th>\n",
       "      <td>2</td>\n",
       "      <td>90003</td>\n",
       "      <td>20</td>\n",
       "      <td>33.971906</td>\n",
       "      <td>-118.272539</td>\n",
       "      <td>16</td>\n",
       "      <td>4</td>\n",
       "      <td>0</td>\n",
       "      <td>0</td>\n",
       "      <td>0</td>\n",
       "      <td>...</td>\n",
       "      <td>0</td>\n",
       "      <td>0</td>\n",
       "      <td>0</td>\n",
       "      <td>0</td>\n",
       "      <td>0</td>\n",
       "      <td>0</td>\n",
       "      <td>0</td>\n",
       "      <td>0</td>\n",
       "      <td>34397</td>\n",
       "      <td>0.800000</td>\n",
       "    </tr>\n",
       "    <tr>\n",
       "      <th>3</th>\n",
       "      <td>3</td>\n",
       "      <td>90004</td>\n",
       "      <td>29</td>\n",
       "      <td>34.076563</td>\n",
       "      <td>-118.310331</td>\n",
       "      <td>10</td>\n",
       "      <td>19</td>\n",
       "      <td>0</td>\n",
       "      <td>0</td>\n",
       "      <td>0</td>\n",
       "      <td>...</td>\n",
       "      <td>0</td>\n",
       "      <td>0</td>\n",
       "      <td>0</td>\n",
       "      <td>0</td>\n",
       "      <td>0</td>\n",
       "      <td>0</td>\n",
       "      <td>0</td>\n",
       "      <td>0</td>\n",
       "      <td>46581</td>\n",
       "      <td>0.344828</td>\n",
       "    </tr>\n",
       "    <tr>\n",
       "      <th>4</th>\n",
       "      <td>4</td>\n",
       "      <td>90005</td>\n",
       "      <td>45</td>\n",
       "      <td>34.059083</td>\n",
       "      <td>-118.298835</td>\n",
       "      <td>11</td>\n",
       "      <td>33</td>\n",
       "      <td>1</td>\n",
       "      <td>0</td>\n",
       "      <td>0</td>\n",
       "      <td>...</td>\n",
       "      <td>0</td>\n",
       "      <td>0</td>\n",
       "      <td>0</td>\n",
       "      <td>0</td>\n",
       "      <td>0</td>\n",
       "      <td>0</td>\n",
       "      <td>0</td>\n",
       "      <td>0</td>\n",
       "      <td>32461</td>\n",
       "      <td>0.244444</td>\n",
       "    </tr>\n",
       "  </tbody>\n",
       "</table>\n",
       "<p>5 rows × 498 columns</p>\n",
       "</div>"
      ],
      "text/plain": [
       "   Unnamed: 0  zip_code  count   latitude   longitude  Price_1  Price_2  \\\n",
       "0           0     90001     30  33.976530 -118.249230       18       12   \n",
       "1           1     90002      4  33.948102 -118.248582        3        1   \n",
       "2           2     90003     20  33.971906 -118.272539       16        4   \n",
       "3           3     90004     29  34.076563 -118.310331       10       19   \n",
       "4           4     90005     45  34.059083 -118.298835       11       33   \n",
       "\n",
       "   Price_3  Price_4  Rating_1  ...  winetasteclasses  winetastingroom  \\\n",
       "0        0        0         0  ...                 0                0   \n",
       "1        0        0         0  ...                 0                0   \n",
       "2        0        0         0  ...                 0                0   \n",
       "3        0        0         0  ...                 0                0   \n",
       "4        1        0         0  ...                 0                0   \n",
       "\n",
       "   winetours  womenscloth  wraps  yelpevents  yoga  zoos  income  \\\n",
       "0          0            0      0           0     0     0   35660   \n",
       "1          0            0      0           0     0     0   34000   \n",
       "2          0            0      0           0     0     0   34397   \n",
       "3          0            0      0           0     0     0   46581   \n",
       "4          0            0      0           0     0     0   32461   \n",
       "\n",
       "  price_1_percentage  \n",
       "0           0.600000  \n",
       "1           0.750000  \n",
       "2           0.800000  \n",
       "3           0.344828  \n",
       "4           0.244444  \n",
       "\n",
       "[5 rows x 498 columns]"
      ]
     },
     "execution_count": 4,
     "metadata": {},
     "output_type": "execute_result"
    }
   ],
   "source": [
    "#sanity check if it worked \n",
    "df.head()"
   ]
  },
  {
   "cell_type": "code",
   "execution_count": 5,
   "metadata": {},
   "outputs": [],
   "source": [
    "\n",
    "df['price_2_percentage'] = df['Price_2']/ df['count']\n",
    "df['price_3_percentage'] = df['Price_3']/ df['count']\n",
    "df['price_4_percentage'] = df['Price_4']/ df['count']"
   ]
  },
  {
   "cell_type": "code",
   "execution_count": 6,
   "metadata": {},
   "outputs": [
    {
     "data": {
      "text/html": [
       "<div>\n",
       "<style scoped>\n",
       "    .dataframe tbody tr th:only-of-type {\n",
       "        vertical-align: middle;\n",
       "    }\n",
       "\n",
       "    .dataframe tbody tr th {\n",
       "        vertical-align: top;\n",
       "    }\n",
       "\n",
       "    .dataframe thead th {\n",
       "        text-align: right;\n",
       "    }\n",
       "</style>\n",
       "<table border=\"1\" class=\"dataframe\">\n",
       "  <thead>\n",
       "    <tr style=\"text-align: right;\">\n",
       "      <th></th>\n",
       "      <th>Unnamed: 0</th>\n",
       "      <th>zip_code</th>\n",
       "      <th>count</th>\n",
       "      <th>latitude</th>\n",
       "      <th>longitude</th>\n",
       "      <th>Price_1</th>\n",
       "      <th>Price_2</th>\n",
       "      <th>Price_3</th>\n",
       "      <th>Price_4</th>\n",
       "      <th>Rating_1</th>\n",
       "      <th>...</th>\n",
       "      <th>womenscloth</th>\n",
       "      <th>wraps</th>\n",
       "      <th>yelpevents</th>\n",
       "      <th>yoga</th>\n",
       "      <th>zoos</th>\n",
       "      <th>income</th>\n",
       "      <th>price_1_percentage</th>\n",
       "      <th>price_2_percentage</th>\n",
       "      <th>price_3_percentage</th>\n",
       "      <th>price_4_percentage</th>\n",
       "    </tr>\n",
       "  </thead>\n",
       "  <tbody>\n",
       "    <tr>\n",
       "      <th>0</th>\n",
       "      <td>0</td>\n",
       "      <td>90001</td>\n",
       "      <td>30</td>\n",
       "      <td>33.976530</td>\n",
       "      <td>-118.249230</td>\n",
       "      <td>18</td>\n",
       "      <td>12</td>\n",
       "      <td>0</td>\n",
       "      <td>0</td>\n",
       "      <td>0</td>\n",
       "      <td>...</td>\n",
       "      <td>0</td>\n",
       "      <td>0</td>\n",
       "      <td>0</td>\n",
       "      <td>0</td>\n",
       "      <td>0</td>\n",
       "      <td>35660</td>\n",
       "      <td>0.600000</td>\n",
       "      <td>0.400000</td>\n",
       "      <td>0.000000</td>\n",
       "      <td>0.0</td>\n",
       "    </tr>\n",
       "    <tr>\n",
       "      <th>1</th>\n",
       "      <td>1</td>\n",
       "      <td>90002</td>\n",
       "      <td>4</td>\n",
       "      <td>33.948102</td>\n",
       "      <td>-118.248582</td>\n",
       "      <td>3</td>\n",
       "      <td>1</td>\n",
       "      <td>0</td>\n",
       "      <td>0</td>\n",
       "      <td>0</td>\n",
       "      <td>...</td>\n",
       "      <td>0</td>\n",
       "      <td>0</td>\n",
       "      <td>0</td>\n",
       "      <td>0</td>\n",
       "      <td>0</td>\n",
       "      <td>34000</td>\n",
       "      <td>0.750000</td>\n",
       "      <td>0.250000</td>\n",
       "      <td>0.000000</td>\n",
       "      <td>0.0</td>\n",
       "    </tr>\n",
       "    <tr>\n",
       "      <th>2</th>\n",
       "      <td>2</td>\n",
       "      <td>90003</td>\n",
       "      <td>20</td>\n",
       "      <td>33.971906</td>\n",
       "      <td>-118.272539</td>\n",
       "      <td>16</td>\n",
       "      <td>4</td>\n",
       "      <td>0</td>\n",
       "      <td>0</td>\n",
       "      <td>0</td>\n",
       "      <td>...</td>\n",
       "      <td>0</td>\n",
       "      <td>0</td>\n",
       "      <td>0</td>\n",
       "      <td>0</td>\n",
       "      <td>0</td>\n",
       "      <td>34397</td>\n",
       "      <td>0.800000</td>\n",
       "      <td>0.200000</td>\n",
       "      <td>0.000000</td>\n",
       "      <td>0.0</td>\n",
       "    </tr>\n",
       "    <tr>\n",
       "      <th>3</th>\n",
       "      <td>3</td>\n",
       "      <td>90004</td>\n",
       "      <td>29</td>\n",
       "      <td>34.076563</td>\n",
       "      <td>-118.310331</td>\n",
       "      <td>10</td>\n",
       "      <td>19</td>\n",
       "      <td>0</td>\n",
       "      <td>0</td>\n",
       "      <td>0</td>\n",
       "      <td>...</td>\n",
       "      <td>0</td>\n",
       "      <td>0</td>\n",
       "      <td>0</td>\n",
       "      <td>0</td>\n",
       "      <td>0</td>\n",
       "      <td>46581</td>\n",
       "      <td>0.344828</td>\n",
       "      <td>0.655172</td>\n",
       "      <td>0.000000</td>\n",
       "      <td>0.0</td>\n",
       "    </tr>\n",
       "    <tr>\n",
       "      <th>4</th>\n",
       "      <td>4</td>\n",
       "      <td>90005</td>\n",
       "      <td>45</td>\n",
       "      <td>34.059083</td>\n",
       "      <td>-118.298835</td>\n",
       "      <td>11</td>\n",
       "      <td>33</td>\n",
       "      <td>1</td>\n",
       "      <td>0</td>\n",
       "      <td>0</td>\n",
       "      <td>...</td>\n",
       "      <td>0</td>\n",
       "      <td>0</td>\n",
       "      <td>0</td>\n",
       "      <td>0</td>\n",
       "      <td>0</td>\n",
       "      <td>32461</td>\n",
       "      <td>0.244444</td>\n",
       "      <td>0.733333</td>\n",
       "      <td>0.022222</td>\n",
       "      <td>0.0</td>\n",
       "    </tr>\n",
       "  </tbody>\n",
       "</table>\n",
       "<p>5 rows × 501 columns</p>\n",
       "</div>"
      ],
      "text/plain": [
       "   Unnamed: 0  zip_code  count   latitude   longitude  Price_1  Price_2  \\\n",
       "0           0     90001     30  33.976530 -118.249230       18       12   \n",
       "1           1     90002      4  33.948102 -118.248582        3        1   \n",
       "2           2     90003     20  33.971906 -118.272539       16        4   \n",
       "3           3     90004     29  34.076563 -118.310331       10       19   \n",
       "4           4     90005     45  34.059083 -118.298835       11       33   \n",
       "\n",
       "   Price_3  Price_4  Rating_1  ...  womenscloth  wraps  yelpevents  yoga  \\\n",
       "0        0        0         0  ...            0      0           0     0   \n",
       "1        0        0         0  ...            0      0           0     0   \n",
       "2        0        0         0  ...            0      0           0     0   \n",
       "3        0        0         0  ...            0      0           0     0   \n",
       "4        1        0         0  ...            0      0           0     0   \n",
       "\n",
       "   zoos  income  price_1_percentage  price_2_percentage  price_3_percentage  \\\n",
       "0     0   35660            0.600000            0.400000            0.000000   \n",
       "1     0   34000            0.750000            0.250000            0.000000   \n",
       "2     0   34397            0.800000            0.200000            0.000000   \n",
       "3     0   46581            0.344828            0.655172            0.000000   \n",
       "4     0   32461            0.244444            0.733333            0.022222   \n",
       "\n",
       "  price_4_percentage  \n",
       "0                0.0  \n",
       "1                0.0  \n",
       "2                0.0  \n",
       "3                0.0  \n",
       "4                0.0  \n",
       "\n",
       "[5 rows x 501 columns]"
      ]
     },
     "execution_count": 6,
     "metadata": {},
     "output_type": "execute_result"
    }
   ],
   "source": [
    "df.head()"
   ]
  },
  {
   "cell_type": "markdown",
   "metadata": {},
   "source": [
    "# Feature Engineering Ratings"
   ]
  },
  {
   "cell_type": "code",
   "execution_count": 7,
   "metadata": {},
   "outputs": [
    {
     "data": {
      "text/plain": [
       "['Rating_1',\n",
       " 'Rating_1.5',\n",
       " 'Rating_2',\n",
       " 'Rating_2.5',\n",
       " 'Rating_3',\n",
       " 'Rating_3.5',\n",
       " 'Rating_4',\n",
       " 'Rating_4.5',\n",
       " 'Rating_5']"
      ]
     },
     "execution_count": 7,
     "metadata": {},
     "output_type": "execute_result"
    }
   ],
   "source": [
    "ratings_col = [col for col in df if col.startswith('Rating')]\n",
    "ratings_col"
   ]
  },
  {
   "cell_type": "code",
   "execution_count": 8,
   "metadata": {},
   "outputs": [],
   "source": [
    "df['rate_1_percentage'] = df['Rating_1']/ df['count']\n",
    "df['rate_1.5_percentage'] = df['Rating_1.5']/ df['count']\n",
    "df['rate_2_percentage'] = df['Rating_2']/ df['count']\n",
    "\n",
    "df['rate_2.5_percentage'] = df['Rating_2.5']/ df['count']\n",
    "df['rate_3_percentage'] = df['Rating_3']/ df['count']\n",
    "df['rate_3.5_percentage'] = df['Rating_3.5']/ df['count']\n",
    "\n",
    "df['rate_4_percentage'] = df['Rating_4']/ df['count']\n",
    "df['rate_4.5_percentage'] = df['Rating_4.5']/ df['count']\n",
    "df['rate_5_percentage'] = df['Rating_5']/ df['count']"
   ]
  },
  {
   "cell_type": "code",
   "execution_count": 9,
   "metadata": {},
   "outputs": [
    {
     "data": {
      "text/html": [
       "<div>\n",
       "<style scoped>\n",
       "    .dataframe tbody tr th:only-of-type {\n",
       "        vertical-align: middle;\n",
       "    }\n",
       "\n",
       "    .dataframe tbody tr th {\n",
       "        vertical-align: top;\n",
       "    }\n",
       "\n",
       "    .dataframe thead th {\n",
       "        text-align: right;\n",
       "    }\n",
       "</style>\n",
       "<table border=\"1\" class=\"dataframe\">\n",
       "  <thead>\n",
       "    <tr style=\"text-align: right;\">\n",
       "      <th></th>\n",
       "      <th>Unnamed: 0</th>\n",
       "      <th>zip_code</th>\n",
       "      <th>count</th>\n",
       "      <th>latitude</th>\n",
       "      <th>longitude</th>\n",
       "      <th>Price_1</th>\n",
       "      <th>Price_2</th>\n",
       "      <th>Price_3</th>\n",
       "      <th>Price_4</th>\n",
       "      <th>Rating_1</th>\n",
       "      <th>...</th>\n",
       "      <th>price_4_percentage</th>\n",
       "      <th>rate_1_percentage</th>\n",
       "      <th>rate_1.5_percentage</th>\n",
       "      <th>rate_2_percentage</th>\n",
       "      <th>rate_2.5_percentage</th>\n",
       "      <th>rate_3_percentage</th>\n",
       "      <th>rate_3.5_percentage</th>\n",
       "      <th>rate_4_percentage</th>\n",
       "      <th>rate_4.5_percentage</th>\n",
       "      <th>rate_5_percentage</th>\n",
       "    </tr>\n",
       "  </thead>\n",
       "  <tbody>\n",
       "    <tr>\n",
       "      <th>0</th>\n",
       "      <td>0</td>\n",
       "      <td>90001</td>\n",
       "      <td>30</td>\n",
       "      <td>33.976530</td>\n",
       "      <td>-118.249230</td>\n",
       "      <td>18</td>\n",
       "      <td>12</td>\n",
       "      <td>0</td>\n",
       "      <td>0</td>\n",
       "      <td>0</td>\n",
       "      <td>...</td>\n",
       "      <td>0.0</td>\n",
       "      <td>0.0</td>\n",
       "      <td>0.0</td>\n",
       "      <td>0.0</td>\n",
       "      <td>0.00</td>\n",
       "      <td>0.000000</td>\n",
       "      <td>0.200000</td>\n",
       "      <td>0.266667</td>\n",
       "      <td>0.433333</td>\n",
       "      <td>0.100000</td>\n",
       "    </tr>\n",
       "    <tr>\n",
       "      <th>1</th>\n",
       "      <td>1</td>\n",
       "      <td>90002</td>\n",
       "      <td>4</td>\n",
       "      <td>33.948102</td>\n",
       "      <td>-118.248582</td>\n",
       "      <td>3</td>\n",
       "      <td>1</td>\n",
       "      <td>0</td>\n",
       "      <td>0</td>\n",
       "      <td>0</td>\n",
       "      <td>...</td>\n",
       "      <td>0.0</td>\n",
       "      <td>0.0</td>\n",
       "      <td>0.0</td>\n",
       "      <td>0.0</td>\n",
       "      <td>0.00</td>\n",
       "      <td>0.000000</td>\n",
       "      <td>0.000000</td>\n",
       "      <td>0.750000</td>\n",
       "      <td>0.250000</td>\n",
       "      <td>0.000000</td>\n",
       "    </tr>\n",
       "    <tr>\n",
       "      <th>2</th>\n",
       "      <td>2</td>\n",
       "      <td>90003</td>\n",
       "      <td>20</td>\n",
       "      <td>33.971906</td>\n",
       "      <td>-118.272539</td>\n",
       "      <td>16</td>\n",
       "      <td>4</td>\n",
       "      <td>0</td>\n",
       "      <td>0</td>\n",
       "      <td>0</td>\n",
       "      <td>...</td>\n",
       "      <td>0.0</td>\n",
       "      <td>0.0</td>\n",
       "      <td>0.0</td>\n",
       "      <td>0.0</td>\n",
       "      <td>0.05</td>\n",
       "      <td>0.050000</td>\n",
       "      <td>0.150000</td>\n",
       "      <td>0.350000</td>\n",
       "      <td>0.350000</td>\n",
       "      <td>0.050000</td>\n",
       "    </tr>\n",
       "    <tr>\n",
       "      <th>3</th>\n",
       "      <td>3</td>\n",
       "      <td>90004</td>\n",
       "      <td>29</td>\n",
       "      <td>34.076563</td>\n",
       "      <td>-118.310331</td>\n",
       "      <td>10</td>\n",
       "      <td>19</td>\n",
       "      <td>0</td>\n",
       "      <td>0</td>\n",
       "      <td>0</td>\n",
       "      <td>...</td>\n",
       "      <td>0.0</td>\n",
       "      <td>0.0</td>\n",
       "      <td>0.0</td>\n",
       "      <td>0.0</td>\n",
       "      <td>0.00</td>\n",
       "      <td>0.000000</td>\n",
       "      <td>0.034483</td>\n",
       "      <td>0.655172</td>\n",
       "      <td>0.206897</td>\n",
       "      <td>0.103448</td>\n",
       "    </tr>\n",
       "    <tr>\n",
       "      <th>4</th>\n",
       "      <td>4</td>\n",
       "      <td>90005</td>\n",
       "      <td>45</td>\n",
       "      <td>34.059083</td>\n",
       "      <td>-118.298835</td>\n",
       "      <td>11</td>\n",
       "      <td>33</td>\n",
       "      <td>1</td>\n",
       "      <td>0</td>\n",
       "      <td>0</td>\n",
       "      <td>...</td>\n",
       "      <td>0.0</td>\n",
       "      <td>0.0</td>\n",
       "      <td>0.0</td>\n",
       "      <td>0.0</td>\n",
       "      <td>0.00</td>\n",
       "      <td>0.022222</td>\n",
       "      <td>0.133333</td>\n",
       "      <td>0.511111</td>\n",
       "      <td>0.333333</td>\n",
       "      <td>0.000000</td>\n",
       "    </tr>\n",
       "  </tbody>\n",
       "</table>\n",
       "<p>5 rows × 510 columns</p>\n",
       "</div>"
      ],
      "text/plain": [
       "   Unnamed: 0  zip_code  count   latitude   longitude  Price_1  Price_2  \\\n",
       "0           0     90001     30  33.976530 -118.249230       18       12   \n",
       "1           1     90002      4  33.948102 -118.248582        3        1   \n",
       "2           2     90003     20  33.971906 -118.272539       16        4   \n",
       "3           3     90004     29  34.076563 -118.310331       10       19   \n",
       "4           4     90005     45  34.059083 -118.298835       11       33   \n",
       "\n",
       "   Price_3  Price_4  Rating_1  ...  price_4_percentage  rate_1_percentage  \\\n",
       "0        0        0         0  ...                 0.0                0.0   \n",
       "1        0        0         0  ...                 0.0                0.0   \n",
       "2        0        0         0  ...                 0.0                0.0   \n",
       "3        0        0         0  ...                 0.0                0.0   \n",
       "4        1        0         0  ...                 0.0                0.0   \n",
       "\n",
       "   rate_1.5_percentage  rate_2_percentage  rate_2.5_percentage  \\\n",
       "0                  0.0                0.0                 0.00   \n",
       "1                  0.0                0.0                 0.00   \n",
       "2                  0.0                0.0                 0.05   \n",
       "3                  0.0                0.0                 0.00   \n",
       "4                  0.0                0.0                 0.00   \n",
       "\n",
       "   rate_3_percentage  rate_3.5_percentage  rate_4_percentage  \\\n",
       "0           0.000000             0.200000           0.266667   \n",
       "1           0.000000             0.000000           0.750000   \n",
       "2           0.050000             0.150000           0.350000   \n",
       "3           0.000000             0.034483           0.655172   \n",
       "4           0.022222             0.133333           0.511111   \n",
       "\n",
       "   rate_4.5_percentage rate_5_percentage  \n",
       "0             0.433333          0.100000  \n",
       "1             0.250000          0.000000  \n",
       "2             0.350000          0.050000  \n",
       "3             0.206897          0.103448  \n",
       "4             0.333333          0.000000  \n",
       "\n",
       "[5 rows x 510 columns]"
      ]
     },
     "execution_count": 9,
     "metadata": {},
     "output_type": "execute_result"
    }
   ],
   "source": [
    "df.head()"
   ]
  },
  {
   "cell_type": "markdown",
   "metadata": {},
   "source": [
    "# Creating Dummy Variables for Cities"
   ]
  },
  {
   "cell_type": "code",
   "execution_count": 10,
   "metadata": {},
   "outputs": [],
   "source": [
    "df = pd.get_dummies(df, columns = ['city'])"
   ]
  },
  {
   "cell_type": "code",
   "execution_count": 11,
   "metadata": {},
   "outputs": [
    {
     "data": {
      "text/html": [
       "<div>\n",
       "<style scoped>\n",
       "    .dataframe tbody tr th:only-of-type {\n",
       "        vertical-align: middle;\n",
       "    }\n",
       "\n",
       "    .dataframe tbody tr th {\n",
       "        vertical-align: top;\n",
       "    }\n",
       "\n",
       "    .dataframe thead th {\n",
       "        text-align: right;\n",
       "    }\n",
       "</style>\n",
       "<table border=\"1\" class=\"dataframe\">\n",
       "  <thead>\n",
       "    <tr style=\"text-align: right;\">\n",
       "      <th></th>\n",
       "      <th>Unnamed: 0</th>\n",
       "      <th>zip_code</th>\n",
       "      <th>count</th>\n",
       "      <th>latitude</th>\n",
       "      <th>longitude</th>\n",
       "      <th>Price_1</th>\n",
       "      <th>Price_2</th>\n",
       "      <th>Price_3</th>\n",
       "      <th>Price_4</th>\n",
       "      <th>Rating_1</th>\n",
       "      <th>...</th>\n",
       "      <th>city_Yorba Linda</th>\n",
       "      <th>city_Yosemite National Park</th>\n",
       "      <th>city_Yountville</th>\n",
       "      <th>city_Yreka</th>\n",
       "      <th>city_Yuba City</th>\n",
       "      <th>city_Yucaipa</th>\n",
       "      <th>city_Yucca Valley</th>\n",
       "      <th>city_Zamora</th>\n",
       "      <th>city_Zillah</th>\n",
       "      <th>city_carlsbad</th>\n",
       "    </tr>\n",
       "  </thead>\n",
       "  <tbody>\n",
       "    <tr>\n",
       "      <th>0</th>\n",
       "      <td>0</td>\n",
       "      <td>90001</td>\n",
       "      <td>30</td>\n",
       "      <td>33.976530</td>\n",
       "      <td>-118.249230</td>\n",
       "      <td>18</td>\n",
       "      <td>12</td>\n",
       "      <td>0</td>\n",
       "      <td>0</td>\n",
       "      <td>0</td>\n",
       "      <td>...</td>\n",
       "      <td>0</td>\n",
       "      <td>0</td>\n",
       "      <td>0</td>\n",
       "      <td>0</td>\n",
       "      <td>0</td>\n",
       "      <td>0</td>\n",
       "      <td>0</td>\n",
       "      <td>0</td>\n",
       "      <td>0</td>\n",
       "      <td>0</td>\n",
       "    </tr>\n",
       "    <tr>\n",
       "      <th>1</th>\n",
       "      <td>1</td>\n",
       "      <td>90002</td>\n",
       "      <td>4</td>\n",
       "      <td>33.948102</td>\n",
       "      <td>-118.248582</td>\n",
       "      <td>3</td>\n",
       "      <td>1</td>\n",
       "      <td>0</td>\n",
       "      <td>0</td>\n",
       "      <td>0</td>\n",
       "      <td>...</td>\n",
       "      <td>0</td>\n",
       "      <td>0</td>\n",
       "      <td>0</td>\n",
       "      <td>0</td>\n",
       "      <td>0</td>\n",
       "      <td>0</td>\n",
       "      <td>0</td>\n",
       "      <td>0</td>\n",
       "      <td>0</td>\n",
       "      <td>0</td>\n",
       "    </tr>\n",
       "    <tr>\n",
       "      <th>2</th>\n",
       "      <td>2</td>\n",
       "      <td>90003</td>\n",
       "      <td>20</td>\n",
       "      <td>33.971906</td>\n",
       "      <td>-118.272539</td>\n",
       "      <td>16</td>\n",
       "      <td>4</td>\n",
       "      <td>0</td>\n",
       "      <td>0</td>\n",
       "      <td>0</td>\n",
       "      <td>...</td>\n",
       "      <td>0</td>\n",
       "      <td>0</td>\n",
       "      <td>0</td>\n",
       "      <td>0</td>\n",
       "      <td>0</td>\n",
       "      <td>0</td>\n",
       "      <td>0</td>\n",
       "      <td>0</td>\n",
       "      <td>0</td>\n",
       "      <td>0</td>\n",
       "    </tr>\n",
       "    <tr>\n",
       "      <th>3</th>\n",
       "      <td>3</td>\n",
       "      <td>90004</td>\n",
       "      <td>29</td>\n",
       "      <td>34.076563</td>\n",
       "      <td>-118.310331</td>\n",
       "      <td>10</td>\n",
       "      <td>19</td>\n",
       "      <td>0</td>\n",
       "      <td>0</td>\n",
       "      <td>0</td>\n",
       "      <td>...</td>\n",
       "      <td>0</td>\n",
       "      <td>0</td>\n",
       "      <td>0</td>\n",
       "      <td>0</td>\n",
       "      <td>0</td>\n",
       "      <td>0</td>\n",
       "      <td>0</td>\n",
       "      <td>0</td>\n",
       "      <td>0</td>\n",
       "      <td>0</td>\n",
       "    </tr>\n",
       "    <tr>\n",
       "      <th>4</th>\n",
       "      <td>4</td>\n",
       "      <td>90005</td>\n",
       "      <td>45</td>\n",
       "      <td>34.059083</td>\n",
       "      <td>-118.298835</td>\n",
       "      <td>11</td>\n",
       "      <td>33</td>\n",
       "      <td>1</td>\n",
       "      <td>0</td>\n",
       "      <td>0</td>\n",
       "      <td>...</td>\n",
       "      <td>0</td>\n",
       "      <td>0</td>\n",
       "      <td>0</td>\n",
       "      <td>0</td>\n",
       "      <td>0</td>\n",
       "      <td>0</td>\n",
       "      <td>0</td>\n",
       "      <td>0</td>\n",
       "      <td>0</td>\n",
       "      <td>0</td>\n",
       "    </tr>\n",
       "  </tbody>\n",
       "</table>\n",
       "<p>5 rows × 2056 columns</p>\n",
       "</div>"
      ],
      "text/plain": [
       "   Unnamed: 0  zip_code  count   latitude   longitude  Price_1  Price_2  \\\n",
       "0           0     90001     30  33.976530 -118.249230       18       12   \n",
       "1           1     90002      4  33.948102 -118.248582        3        1   \n",
       "2           2     90003     20  33.971906 -118.272539       16        4   \n",
       "3           3     90004     29  34.076563 -118.310331       10       19   \n",
       "4           4     90005     45  34.059083 -118.298835       11       33   \n",
       "\n",
       "   Price_3  Price_4  Rating_1  ...  city_Yorba Linda  \\\n",
       "0        0        0         0  ...                 0   \n",
       "1        0        0         0  ...                 0   \n",
       "2        0        0         0  ...                 0   \n",
       "3        0        0         0  ...                 0   \n",
       "4        1        0         0  ...                 0   \n",
       "\n",
       "   city_Yosemite National Park  city_Yountville  city_Yreka  city_Yuba City  \\\n",
       "0                            0                0           0               0   \n",
       "1                            0                0           0               0   \n",
       "2                            0                0           0               0   \n",
       "3                            0                0           0               0   \n",
       "4                            0                0           0               0   \n",
       "\n",
       "   city_Yucaipa  city_Yucca Valley  city_Zamora  city_Zillah city_carlsbad  \n",
       "0             0                  0            0            0             0  \n",
       "1             0                  0            0            0             0  \n",
       "2             0                  0            0            0             0  \n",
       "3             0                  0            0            0             0  \n",
       "4             0                  0            0            0             0  \n",
       "\n",
       "[5 rows x 2056 columns]"
      ]
     },
     "execution_count": 11,
     "metadata": {},
     "output_type": "execute_result"
    }
   ],
   "source": [
    "df.head()"
   ]
  },
  {
   "cell_type": "code",
   "execution_count": 12,
   "metadata": {},
   "outputs": [],
   "source": [
    "df.to_csv('./datasets/ALLMOTHERS.csv')"
   ]
  },
  {
   "cell_type": "markdown",
   "metadata": {},
   "source": [
    "# Let's select key features we want to feed in our Elastic Net Model to determine best optimal features for other regression models\n",
    "- This is called modeling as EDA"
   ]
  },
  {
   "cell_type": "code",
   "execution_count": 13,
   "metadata": {},
   "outputs": [],
   "source": [
    "#category list\n",
    "categories = list(df.loc[:, 'acaibowls':'zoos'].columns)"
   ]
  },
  {
   "cell_type": "code",
   "execution_count": 14,
   "metadata": {},
   "outputs": [
    {
     "data": {
      "text/plain": [
       "468"
      ]
     },
     "execution_count": 14,
     "metadata": {},
     "output_type": "execute_result"
    }
   ],
   "source": [
    "len(categories)"
   ]
  },
  {
   "cell_type": "code",
   "execution_count": 15,
   "metadata": {},
   "outputs": [
    {
     "data": {
      "text/plain": [
       "['price_1_percentage',\n",
       " 'price_2_percentage',\n",
       " 'price_3_percentage',\n",
       " 'price_4_percentage',\n",
       " 'rate_1_percentage',\n",
       " 'rate_1.5_percentage',\n",
       " 'rate_2_percentage',\n",
       " 'rate_2.5_percentage',\n",
       " 'rate_3_percentage',\n",
       " 'rate_3.5_percentage',\n",
       " 'rate_4_percentage',\n",
       " 'rate_4.5_percentage',\n",
       " 'rate_5_percentage']"
      ]
     },
     "execution_count": 15,
     "metadata": {},
     "output_type": "execute_result"
    }
   ],
   "source": [
    "#creating a list of all percentage columns (should be 13 columns total)\n",
    "percentage_col = [col for col in df if col.endswith('percentage')]\n",
    "percentage_col"
   ]
  },
  {
   "cell_type": "code",
   "execution_count": 16,
   "metadata": {},
   "outputs": [
    {
     "data": {
      "text/plain": [
       "13"
      ]
     },
     "execution_count": 16,
     "metadata": {},
     "output_type": "execute_result"
    }
   ],
   "source": [
    "len(percentage_col)"
   ]
  },
  {
   "cell_type": "code",
   "execution_count": 17,
   "metadata": {},
   "outputs": [
    {
     "data": {
      "text/plain": [
       "['city_Aberdeen',\n",
       " 'city_Acampo',\n",
       " 'city_Acme',\n",
       " 'city_Acton',\n",
       " 'city_Adin',\n",
       " 'city_Agoura Hills',\n",
       " 'city_Agua Dulce',\n",
       " 'city_Aguanga',\n",
       " 'city_Ahwahnee',\n",
       " 'city_Aiea',\n",
       " 'city_Airway Heights',\n",
       " 'city_Alameda',\n",
       " 'city_Alamo',\n",
       " 'city_Albany',\n",
       " 'city_Albion',\n",
       " 'city_Algona',\n",
       " 'city_Alhambra',\n",
       " 'city_Aliso Viejo',\n",
       " 'city_Allyn',\n",
       " 'city_Alpine',\n",
       " 'city_Alsea',\n",
       " 'city_Alturas',\n",
       " 'city_Alviso',\n",
       " 'city_Amanda Park',\n",
       " 'city_Amboy',\n",
       " 'city_American Canyon',\n",
       " 'city_Amity',\n",
       " 'city_Anacortes',\n",
       " 'city_Anaheim',\n",
       " 'city_Anahola',\n",
       " 'city_Anchor Point',\n",
       " 'city_Anchorage',\n",
       " 'city_Anderson',\n",
       " 'city_Anderson Island',\n",
       " 'city_Angels Camp',\n",
       " 'city_Angwin',\n",
       " 'city_Antelope',\n",
       " 'city_Antioch',\n",
       " 'city_Anza',\n",
       " 'city_Apple Valley',\n",
       " 'city_Applegate',\n",
       " 'city_Aptos',\n",
       " 'city_Arbuckle',\n",
       " 'city_Arcadia',\n",
       " 'city_Arcata',\n",
       " 'city_Arlington',\n",
       " 'city_Armona',\n",
       " 'city_Arnold',\n",
       " 'city_Aromas',\n",
       " 'city_Arroyo Grande',\n",
       " 'city_Artesia',\n",
       " 'city_Arvin',\n",
       " 'city_Ashford',\n",
       " 'city_Ashland',\n",
       " 'city_Astoria',\n",
       " 'city_Atascadero',\n",
       " 'city_Athena',\n",
       " 'city_Atwater',\n",
       " 'city_Auberry',\n",
       " 'city_Auburn',\n",
       " 'city_Aumsville',\n",
       " 'city_Aurora',\n",
       " 'city_Avalon',\n",
       " 'city_Avenal',\n",
       " 'city_Avery',\n",
       " 'city_Avila Beach',\n",
       " 'city_Azalea',\n",
       " 'city_Azusa',\n",
       " 'city_Bainbridge Island',\n",
       " 'city_Baker',\n",
       " 'city_Baker City',\n",
       " 'city_Bakersfield',\n",
       " 'city_Baldwin Park',\n",
       " 'city_Ballico',\n",
       " 'city_Bandon',\n",
       " 'city_Bangor',\n",
       " 'city_Banks',\n",
       " 'city_Banning',\n",
       " 'city_Barstow',\n",
       " 'city_Bass Lake',\n",
       " 'city_Battle Ground',\n",
       " 'city_Bay Area',\n",
       " 'city_Bay Center',\n",
       " 'city_Bay City',\n",
       " 'city_Bayside',\n",
       " 'city_Beale Afb',\n",
       " 'city_Beaumont',\n",
       " 'city_Beavercreek',\n",
       " 'city_Beaverton',\n",
       " 'city_Belfair',\n",
       " 'city_Bell',\n",
       " 'city_Bella Vista',\n",
       " 'city_Bellevue',\n",
       " 'city_Bellflower',\n",
       " 'city_Bellingham',\n",
       " 'city_Belmont',\n",
       " 'city_Ben Lomond',\n",
       " 'city_Bend',\n",
       " 'city_Benicia',\n",
       " 'city_Benton City',\n",
       " 'city_Berkeley',\n",
       " 'city_Bethel',\n",
       " 'city_Bethel Island',\n",
       " 'city_Beverly Hills',\n",
       " 'city_Bickleton',\n",
       " 'city_Bieber',\n",
       " 'city_Big Bear Lake',\n",
       " 'city_Big Lake',\n",
       " 'city_Big Pine',\n",
       " 'city_Big Sur',\n",
       " 'city_Biggs',\n",
       " 'city_Biggs Junction',\n",
       " 'city_Bingen',\n",
       " 'city_Bishop',\n",
       " 'city_Black Diamond',\n",
       " 'city_Blaine',\n",
       " 'city_Bloomington',\n",
       " 'city_Blue Lake',\n",
       " 'city_Blue River',\n",
       " 'city_Bly',\n",
       " 'city_Blythe',\n",
       " 'city_Boardman',\n",
       " 'city_Bodega Bay',\n",
       " 'city_Bodfish',\n",
       " 'city_Bolinas',\n",
       " 'city_Bonanza',\n",
       " 'city_Bonita',\n",
       " 'city_Bonney Lake',\n",
       " 'city_Bonsall',\n",
       " 'city_Boonville',\n",
       " 'city_Boring',\n",
       " 'city_Boron',\n",
       " 'city_Borrego Springs',\n",
       " 'city_Bothell',\n",
       " 'city_Boulder Creek',\n",
       " 'city_Bow',\n",
       " 'city_Brawley',\n",
       " 'city_Brea',\n",
       " 'city_Bremerton',\n",
       " 'city_Brentwood Ca',\n",
       " 'city_Brewster',\n",
       " 'city_Bridgeport',\n",
       " 'city_Brinnon',\n",
       " 'city_Brisbane',\n",
       " 'city_Brooks',\n",
       " 'city_Browns Valley',\n",
       " 'city_Brownsville',\n",
       " 'city_Brush Prairie',\n",
       " 'city_Buckley',\n",
       " 'city_Buellton',\n",
       " 'city_Buena Park',\n",
       " 'city_Burbank',\n",
       " 'city_Burien',\n",
       " 'city_Burlingame',\n",
       " 'city_Burlington',\n",
       " 'city_Burney',\n",
       " 'city_Burns',\n",
       " 'city_Butte Falls',\n",
       " 'city_Butte Meadows',\n",
       " 'city_Buttonwillow',\n",
       " 'city_Byron',\n",
       " 'city_Cabazon',\n",
       " 'city_Calabasas',\n",
       " 'city_Calexico',\n",
       " 'city_Caliente',\n",
       " 'city_California City',\n",
       " 'city_Calimesa',\n",
       " 'city_Calipatria',\n",
       " 'city_Calistoga',\n",
       " 'city_Camano Island',\n",
       " 'city_Camarillo',\n",
       " 'city_Camas',\n",
       " 'city_Camas Valley',\n",
       " 'city_Cambria',\n",
       " 'city_Cameron Park',\n",
       " 'city_Camino',\n",
       " 'city_Camp Sherman',\n",
       " 'city_Campbell',\n",
       " 'city_Campo',\n",
       " 'city_Camptonville',\n",
       " 'city_Canby',\n",
       " 'city_Cannon Beach',\n",
       " 'city_Canoga Park',\n",
       " 'city_Cantua Creek',\n",
       " 'city_Canyon City',\n",
       " 'city_Canyon Country',\n",
       " 'city_Canyon Lake',\n",
       " 'city_Canyonville',\n",
       " 'city_Capay',\n",
       " 'city_Capitola',\n",
       " 'city_Captain Cook',\n",
       " 'city_Carbonado',\n",
       " 'city_Cardiff',\n",
       " 'city_Carlotta',\n",
       " 'city_Carlsbad',\n",
       " 'city_Carlton',\n",
       " 'city_Carmel',\n",
       " 'city_Carmel Valley',\n",
       " 'city_Carmichael',\n",
       " 'city_Carnation',\n",
       " 'city_Carnelian Bay',\n",
       " 'city_Carpinteria',\n",
       " 'city_Carson',\n",
       " 'city_Caruthers',\n",
       " 'city_Cascade Locks',\n",
       " 'city_Cashmere',\n",
       " 'city_Castaic',\n",
       " 'city_Castle Rock',\n",
       " 'city_Castro Valley',\n",
       " 'city_Castroville',\n",
       " 'city_Cathedral City',\n",
       " 'city_Catheys Valley',\n",
       " 'city_Cathlamet',\n",
       " 'city_Cave Junction',\n",
       " 'city_Cayucos',\n",
       " 'city_Cazadero',\n",
       " 'city_Cedar Glen',\n",
       " 'city_Cedarville',\n",
       " 'city_Central Point',\n",
       " 'city_Centralia',\n",
       " 'city_Ceres',\n",
       " 'city_Cerritos',\n",
       " 'city_Chattaroy',\n",
       " 'city_Chehalis',\n",
       " 'city_Chelan',\n",
       " 'city_Chemult',\n",
       " 'city_Cheney',\n",
       " 'city_Chester',\n",
       " 'city_Chewelah',\n",
       " 'city_Chico',\n",
       " 'city_Chilcoot',\n",
       " 'city_Chiloquin',\n",
       " 'city_Chimacum',\n",
       " 'city_Chino',\n",
       " 'city_Chino Hills',\n",
       " 'city_Cholame',\n",
       " 'city_Chowchilla',\n",
       " 'city_Christmas Valley',\n",
       " 'city_Chualar',\n",
       " 'city_Chugiak',\n",
       " 'city_Chula Vista',\n",
       " 'city_Citrus Heights',\n",
       " 'city_Clackamas',\n",
       " 'city_Clallam Bay',\n",
       " 'city_Claremont',\n",
       " 'city_Clarksburg',\n",
       " 'city_Clarkston',\n",
       " 'city_Clatskanie',\n",
       " 'city_Clayton',\n",
       " 'city_Cle Elum',\n",
       " 'city_Clearlake',\n",
       " 'city_Clearlake Oaks',\n",
       " 'city_Clements',\n",
       " 'city_Clinton',\n",
       " 'city_Clio',\n",
       " 'city_Cloverdale',\n",
       " 'city_Clovis',\n",
       " 'city_Coachella',\n",
       " 'city_Coalinga',\n",
       " 'city_Coarsegold',\n",
       " 'city_Cobb',\n",
       " 'city_Colbert',\n",
       " 'city_Cold Springs',\n",
       " 'city_Coleville',\n",
       " 'city_Colfax',\n",
       " 'city_College Place',\n",
       " 'city_Colton',\n",
       " 'city_Columbia',\n",
       " 'city_Colusa',\n",
       " 'city_Colville',\n",
       " 'city_Commerce',\n",
       " 'city_Compton',\n",
       " 'city_Conconully',\n",
       " 'city_Concord',\n",
       " 'city_Concrete',\n",
       " 'city_Condon',\n",
       " 'city_Connell',\n",
       " 'city_Cool',\n",
       " 'city_Cooper Landing',\n",
       " 'city_Coos Bay',\n",
       " 'city_Copper Center',\n",
       " 'city_Copperopolis',\n",
       " 'city_Coquille',\n",
       " 'city_Corbett',\n",
       " 'city_Corcoran',\n",
       " 'city_Cordova',\n",
       " 'city_Cornelius',\n",
       " 'city_Corning',\n",
       " 'city_Corona',\n",
       " 'city_Corona Del Mar',\n",
       " 'city_Coronado',\n",
       " 'city_Corte Madera',\n",
       " 'city_Corvallis',\n",
       " 'city_Cosmopolis',\n",
       " 'city_Costa Mesa',\n",
       " 'city_Cotati',\n",
       " 'city_Cottage Grove',\n",
       " 'city_Cottonwood',\n",
       " 'city_Coulee City',\n",
       " 'city_Coulee Dam',\n",
       " 'city_Coulterville',\n",
       " 'city_Coupeville',\n",
       " 'city_Courtland',\n",
       " 'city_Cove',\n",
       " 'city_Covelo',\n",
       " 'city_Covina',\n",
       " 'city_Covington',\n",
       " 'city_Cowiche',\n",
       " 'city_Craig',\n",
       " 'city_Crescent',\n",
       " 'city_Crescent City',\n",
       " 'city_Crestline',\n",
       " 'city_Creston',\n",
       " 'city_Creswell',\n",
       " 'city_Crockett',\n",
       " 'city_Crows Landing',\n",
       " 'city_Culver',\n",
       " 'city_Culver City',\n",
       " 'city_Cupertino',\n",
       " 'city_Curlew',\n",
       " 'city_Custer',\n",
       " 'city_Cutler',\n",
       " 'city_Cypress',\n",
       " 'city_Daggett',\n",
       " 'city_Dallas',\n",
       " 'city_Daly City',\n",
       " 'city_Damascus',\n",
       " 'city_Dana Point',\n",
       " 'city_Danville',\n",
       " 'city_Darrington',\n",
       " 'city_Davenport',\n",
       " 'city_Davis',\n",
       " 'city_Dayton',\n",
       " 'city_Dayville',\n",
       " 'city_Death Valley',\n",
       " 'city_Deer Harbor',\n",
       " 'city_Deer Park',\n",
       " 'city_Del Mar',\n",
       " 'city_Delano',\n",
       " 'city_Delhi',\n",
       " 'city_Delta Junction',\n",
       " 'city_Deming',\n",
       " 'city_Denair',\n",
       " 'city_Denali National Park',\n",
       " 'city_Descanso',\n",
       " 'city_Desert Hot Springs',\n",
       " 'city_Detroit',\n",
       " 'city_Dexter',\n",
       " 'city_Diamond Bar',\n",
       " 'city_Diamond Springs',\n",
       " 'city_Dillingham',\n",
       " 'city_Dinuba',\n",
       " 'city_Discovery Bay',\n",
       " 'city_Dixon',\n",
       " 'city_Donald',\n",
       " 'city_Dorris',\n",
       " 'city_Dos Palos',\n",
       " 'city_Douglas',\n",
       " 'city_Douglas City',\n",
       " 'city_Downey',\n",
       " 'city_Doyle',\n",
       " 'city_Drain',\n",
       " 'city_DuPont',\n",
       " 'city_Duarte',\n",
       " 'city_Dublin',\n",
       " 'city_Ducor',\n",
       " 'city_Dufur',\n",
       " 'city_Dulzura',\n",
       " 'city_Dundee',\n",
       " 'city_Dunnigan',\n",
       " 'city_Dunsmuir',\n",
       " 'city_Durham',\n",
       " 'city_Dutch Flat',\n",
       " 'city_Dutch Harbor',\n",
       " 'city_Duvall',\n",
       " 'city_Eagle Creek',\n",
       " 'city_Eagle Point',\n",
       " 'city_Eagle River',\n",
       " 'city_Earlimart',\n",
       " 'city_Earp',\n",
       " 'city_East Nicolaus',\n",
       " 'city_East Wenatchee',\n",
       " 'city_Easton',\n",
       " 'city_Eastsound',\n",
       " 'city_Eatonville',\n",
       " 'city_Echo',\n",
       " 'city_Edmonds',\n",
       " 'city_Edwards AFB',\n",
       " 'city_Eielson Air Force Base',\n",
       " 'city_El Cajon',\n",
       " 'city_El Centro',\n",
       " 'city_El Cerrito',\n",
       " 'city_El Dorado',\n",
       " 'city_El Dorado Hills',\n",
       " 'city_El Monte',\n",
       " 'city_El Portal',\n",
       " 'city_El Segundo',\n",
       " 'city_El Sobrante',\n",
       " 'city_Electric City',\n",
       " 'city_Eleele',\n",
       " 'city_Elgin',\n",
       " 'city_Elk',\n",
       " 'city_Elk Creek',\n",
       " 'city_Elk Grove',\n",
       " 'city_Elkton',\n",
       " 'city_Ellensburg',\n",
       " 'city_Elma',\n",
       " 'city_Elmira',\n",
       " 'city_Elverta',\n",
       " 'city_Empire',\n",
       " 'city_Encinitas',\n",
       " 'city_Encino',\n",
       " 'city_Enterprise',\n",
       " 'city_Entiat',\n",
       " 'city_Enumclaw',\n",
       " 'city_Ephrata',\n",
       " 'city_Escalon',\n",
       " 'city_Escondido',\n",
       " 'city_Esparto',\n",
       " 'city_Estacada',\n",
       " 'city_Ethel',\n",
       " 'city_Etna',\n",
       " 'city_Eugene',\n",
       " 'city_Eureka',\n",
       " 'city_Everett',\n",
       " 'city_Everson',\n",
       " 'city_Ewa Beach',\n",
       " 'city_Exeter',\n",
       " 'city_Fair Oaks',\n",
       " 'city_Fairbanks',\n",
       " 'city_Fairchild AFB',\n",
       " 'city_Fairfax',\n",
       " 'city_Fairfield',\n",
       " 'city_Fairview',\n",
       " 'city_Fall River Mills',\n",
       " 'city_Fall city',\n",
       " 'city_Fallbrook',\n",
       " 'city_Falls City',\n",
       " 'city_Fargher Lake',\n",
       " 'city_Farmersville',\n",
       " 'city_Farmington',\n",
       " 'city_Fawnskin',\n",
       " 'city_Federal Way',\n",
       " 'city_Felton',\n",
       " 'city_Ferndale',\n",
       " 'city_Fife',\n",
       " 'city_Fillmore',\n",
       " 'city_Fircrest',\n",
       " 'city_Firebaugh',\n",
       " 'city_Florence',\n",
       " 'city_Folsom',\n",
       " 'city_Fontana',\n",
       " 'city_Foothill Ranch',\n",
       " 'city_Forest Falls',\n",
       " 'city_Forest Grove',\n",
       " 'city_Forest Knolls',\n",
       " 'city_Foresthill',\n",
       " 'city_Forestville',\n",
       " 'city_Forks',\n",
       " 'city_Fort Bragg',\n",
       " 'city_Fort Irwin',\n",
       " 'city_Fort Jones',\n",
       " 'city_Fort Wainwright',\n",
       " 'city_Fortuna',\n",
       " 'city_Fossil',\n",
       " 'city_Fountain Valley',\n",
       " 'city_Fowler',\n",
       " 'city_Frazier Park',\n",
       " 'city_Freedom',\n",
       " 'city_Freeland',\n",
       " 'city_Fremont',\n",
       " 'city_French Camp',\n",
       " 'city_French Gulch',\n",
       " 'city_Fresno',\n",
       " 'city_Friant',\n",
       " 'city_Friday Harbor',\n",
       " 'city_Fullerton',\n",
       " 'city_Gales Creek',\n",
       " 'city_Galt',\n",
       " 'city_Garberville',\n",
       " 'city_Garden Grove',\n",
       " 'city_Garden Valley',\n",
       " 'city_Gardena',\n",
       " 'city_Garibaldi',\n",
       " 'city_Gasquet',\n",
       " 'city_Gaston',\n",
       " 'city_Gates',\n",
       " 'city_Gaviota',\n",
       " 'city_Gearhart',\n",
       " 'city_George',\n",
       " 'city_Georgetown',\n",
       " 'city_Geyserville',\n",
       " 'city_Gig Harbor',\n",
       " 'city_Gilchrist',\n",
       " 'city_Gilroy',\n",
       " 'city_Girdwood',\n",
       " 'city_Glacier View',\n",
       " 'city_Gladstone',\n",
       " 'city_Glen Ellen',\n",
       " 'city_Glendale',\n",
       " 'city_Glendora',\n",
       " 'city_Gleneden Beach',\n",
       " 'city_Glennville',\n",
       " 'city_Glenwood',\n",
       " 'city_Glide',\n",
       " 'city_Gold Bar',\n",
       " 'city_Gold Beach',\n",
       " 'city_Gold Run',\n",
       " 'city_Goldendale',\n",
       " 'city_Gonzales',\n",
       " 'city_Government Camp',\n",
       " 'city_Graeagle',\n",
       " 'city_Graham',\n",
       " 'city_Granada Hills',\n",
       " 'city_Grand Coulee',\n",
       " 'city_Grand Ronde',\n",
       " 'city_Grand Terrace',\n",
       " 'city_Grandview',\n",
       " 'city_Granger',\n",
       " 'city_Granite Bay',\n",
       " 'city_Granite Falls',\n",
       " 'city_Grants Pass',\n",
       " 'city_Grass Valley',\n",
       " 'city_Graton',\n",
       " 'city_Grayland',\n",
       " 'city_Greenbank',\n",
       " 'city_Greenfield',\n",
       " 'city_Greenville',\n",
       " 'city_Gresham',\n",
       " 'city_Gridley',\n",
       " 'city_Groveland',\n",
       " 'city_Grover Beach',\n",
       " 'city_Guadalupe',\n",
       " 'city_Gualala',\n",
       " 'city_Guerneville',\n",
       " 'city_Gustine',\n",
       " 'city_Hacienda Heights',\n",
       " 'city_Haiku',\n",
       " 'city_Haines',\n",
       " 'city_Hakalau',\n",
       " 'city_Haleiwa',\n",
       " 'city_Half Moon Bay',\n",
       " 'city_Halfway',\n",
       " 'city_Halsey',\n",
       " 'city_Hamilton City',\n",
       " 'city_Hammond',\n",
       " 'city_Hana',\n",
       " 'city_Hanalei',\n",
       " 'city_Hanapp',\n",
       " 'city_Hanford',\n",
       " 'city_Hansville',\n",
       " 'city_Happy Camp',\n",
       " 'city_Happy Valley',\n",
       " 'city_Harbor City',\n",
       " 'city_Harrah',\n",
       " 'city_Harrington',\n",
       " 'city_Harrisburg',\n",
       " 'city_Hauula',\n",
       " 'city_Hawaiian Gardens',\n",
       " 'city_Hawi',\n",
       " 'city_Hawthorne',\n",
       " 'city_Hayfork',\n",
       " 'city_Hayward',\n",
       " 'city_Healdsburg',\n",
       " 'city_Healy',\n",
       " 'city_Heber',\n",
       " 'city_Hebo',\n",
       " 'city_Helendale',\n",
       " 'city_Hemet',\n",
       " 'city_Heppner',\n",
       " 'city_Hercules',\n",
       " 'city_Hermiston',\n",
       " 'city_Hermosa Beach',\n",
       " 'city_Hesperia',\n",
       " 'city_Hickman',\n",
       " 'city_Hidden Valley Lake',\n",
       " 'city_Highland',\n",
       " 'city_Hillsboro',\n",
       " 'city_Hilmar',\n",
       " 'city_Hilo',\n",
       " 'city_Hines',\n",
       " 'city_Hinkley',\n",
       " 'city_Hollister',\n",
       " 'city_Holtville',\n",
       " 'city_Holualoa',\n",
       " 'city_Homeland',\n",
       " 'city_Homer',\n",
       " 'city_Homewood',\n",
       " 'city_Honaunau-Napoopoo',\n",
       " 'city_Honokaa',\n",
       " 'city_Honolulu',\n",
       " 'city_Honomu',\n",
       " 'city_Hood River',\n",
       " 'city_Hoodsport',\n",
       " 'city_Hoonah',\n",
       " 'city_Hoopa',\n",
       " 'city_Hope Valley',\n",
       " 'city_Hopland',\n",
       " 'city_Hoquiam',\n",
       " 'city_Hubbard',\n",
       " 'city_Hughson',\n",
       " 'city_Hunters',\n",
       " 'city_Huntington',\n",
       " 'city_Huntington Beach',\n",
       " 'city_Huntington Park',\n",
       " 'city_Huron',\n",
       " 'city_Idleyld Park',\n",
       " 'city_Idyllwild',\n",
       " 'city_Ilwaco',\n",
       " 'city_Imperial',\n",
       " 'city_Imperial Beach',\n",
       " 'city_Independence',\n",
       " 'city_Index',\n",
       " 'city_Indian',\n",
       " 'city_Indian Wells',\n",
       " 'city_Indianola',\n",
       " 'city_Indio',\n",
       " 'city_Inglewood',\n",
       " 'city_Inverness',\n",
       " 'city_Inyokern',\n",
       " 'city_Ione',\n",
       " 'city_Irrigon',\n",
       " 'city_Irvine',\n",
       " 'city_Isleton',\n",
       " 'city_Issaquah',\n",
       " 'city_Ivanhoe',\n",
       " 'city_Jackson',\n",
       " 'city_Jacumba Hot Springs',\n",
       " 'city_Jamestown',\n",
       " 'city_Jamul',\n",
       " 'city_Janesville',\n",
       " 'city_Jefferson',\n",
       " 'city_Jenner',\n",
       " 'city_John Day',\n",
       " 'city_Joint Base Lewis-McChord',\n",
       " 'city_Jordan Valley',\n",
       " 'city_Joseph',\n",
       " 'city_Joshua Tree',\n",
       " 'city_Julian',\n",
       " 'city_Junction City',\n",
       " 'city_June Lake',\n",
       " 'city_Juneau',\n",
       " 'city_Kaaawa',\n",
       " 'city_Kahakuloa',\n",
       " 'city_Kahuku',\n",
       " 'city_Kahului',\n",
       " 'city_Kailua-Kona',\n",
       " 'city_Kake',\n",
       " 'city_Kalaheo',\n",
       " 'city_Kalama',\n",
       " 'city_Kamuela',\n",
       " 'city_Kaneohe',\n",
       " 'city_Kapaa',\n",
       " 'city_Kapolei',\n",
       " 'city_Kasilof',\n",
       " 'city_Kaumakani',\n",
       " 'city_Kaunakakai',\n",
       " 'city_Keaau',\n",
       " 'city_Kealakekua',\n",
       " 'city_Keene',\n",
       " 'city_Kekaha',\n",
       " 'city_Kelseyville',\n",
       " 'city_Kelso',\n",
       " 'city_Kenai',\n",
       " 'city_Kenmore',\n",
       " 'city_Kennewick',\n",
       " 'city_Keno',\n",
       " 'city_Kensington',\n",
       " 'city_Kent',\n",
       " 'city_Kentfield',\n",
       " 'city_Kenwood',\n",
       " 'city_Kerman',\n",
       " 'city_Kernville',\n",
       " 'city_Ketchikan',\n",
       " 'city_Kettle Falls',\n",
       " 'city_Kettleman City',\n",
       " 'city_Keyes',\n",
       " 'city_Keyport',\n",
       " 'city_Kilauea',\n",
       " 'city_King City',\n",
       " 'city_King Salmon',\n",
       " 'city_Kings Beach',\n",
       " 'city_Kingston',\n",
       " 'city_Kirkland',\n",
       " 'city_Kittitas',\n",
       " 'city_Klamath',\n",
       " 'city_Klamath Falls',\n",
       " 'city_Klickitat',\n",
       " 'city_Knights Landing',\n",
       " 'city_Kodiak',\n",
       " 'city_Koloa',\n",
       " 'city_Kualapuu',\n",
       " 'city_Kurtistown',\n",
       " 'city_La Cañada Flintridge',\n",
       " 'city_La Center',\n",
       " 'city_La Conner',\n",
       " 'city_La Crescenta-Montrose',\n",
       " 'city_La Grande',\n",
       " 'city_La Grange',\n",
       " 'city_La Habra',\n",
       " 'city_La Honda',\n",
       " 'city_La Jolla',\n",
       " 'city_La Mesa',\n",
       " 'city_La Mirada',\n",
       " 'city_La Palma',\n",
       " 'city_La Pine',\n",
       " 'city_La Puente',\n",
       " 'city_La Push',\n",
       " 'city_La Quinta',\n",
       " 'city_La Verne',\n",
       " 'city_Lacey',\n",
       " 'city_Ladera Ranch',\n",
       " 'city_Lafayette',\n",
       " 'city_Laguna Beach',\n",
       " 'city_Laguna Hills',\n",
       " 'city_Laguna Niguel',\n",
       " 'city_Laguna Woods',\n",
       " 'city_Lagunitas',\n",
       " 'city_Lahaina',\n",
       " 'city_Laie',\n",
       " 'city_Lake Arrowhead',\n",
       " 'city_Lake Elsinore',\n",
       " 'city_Lake Forest',\n",
       " 'city_Lake Hughes',\n",
       " 'city_Lake Isabella',\n",
       " 'city_Lake Los Angeles',\n",
       " 'city_Lake Oswego',\n",
       " 'city_Lake Stevens',\n",
       " 'city_Lakebay',\n",
       " 'city_Lakehead',\n",
       " 'city_Lakeport',\n",
       " 'city_Lakeside',\n",
       " 'city_Lakeview',\n",
       " 'city_Lakewood',\n",
       " 'city_Lamont',\n",
       " 'city_Lanai City',\n",
       " 'city_Lancaster',\n",
       " 'city_Landers',\n",
       " 'city_Langley',\n",
       " 'city_Langlois',\n",
       " 'city_Larkspur',\n",
       " 'city_Lathrop',\n",
       " 'city_Lawndale',\n",
       " 'city_Laytonville',\n",
       " 'city_LeGrand',\n",
       " 'city_Leaburg',\n",
       " 'city_Leavenworth',\n",
       " 'city_Lebanon',\n",
       " 'city_Lebec',\n",
       " 'city_Leggett',\n",
       " 'city_Lemon Grove',\n",
       " 'city_Lemoore',\n",
       " 'city_Lewiston',\n",
       " 'city_Liberty Lake',\n",
       " 'city_Lihue',\n",
       " 'city_Lincoln',\n",
       " 'city_Lincoln Beach',\n",
       " 'city_Lincoln City',\n",
       " 'city_Lind',\n",
       " 'city_Linden',\n",
       " 'city_Lindsay',\n",
       " 'city_Little River',\n",
       " 'city_Littlerock',\n",
       " 'city_Live Oak',\n",
       " 'city_Livermore',\n",
       " 'city_Livingston',\n",
       " 'city_Lockeford',\n",
       " 'city_Lodi',\n",
       " 'city_Loleta',\n",
       " 'city_Loma Linda',\n",
       " 'city_Lomita',\n",
       " 'city_Lompoc',\n",
       " 'city_Lone Pine',\n",
       " 'city_Long Beach',\n",
       " 'city_Longview',\n",
       " 'city_Loomis',\n",
       " 'city_Loon Lake',\n",
       " 'city_Lopez Island',\n",
       " 'city_Lorane',\n",
       " 'city_Los Alamitos',\n",
       " 'city_Los Alamos',\n",
       " 'city_Los Altos',\n",
       " 'city_Los Angeles',\n",
       " 'city_Los Banos',\n",
       " 'city_Los Gatos',\n",
       " 'city_Los Olivos',\n",
       " 'city_Los Osos',\n",
       " 'city_Lost Hills',\n",
       " 'city_Lotus',\n",
       " 'city_Lowell',\n",
       " 'city_Lower Lake',\n",
       " 'city_Loyalton',\n",
       " 'city_Lucerne',\n",
       " 'city_Lucerne Valley',\n",
       " 'city_Lummi Island',\n",
       " 'city_Lyle',\n",
       " 'city_Lynden',\n",
       " 'city_Lynnwood',\n",
       " 'city_Lynwood',\n",
       " 'city_Lyons',\n",
       " 'city_Lytle Creek',\n",
       " 'city_Mad River',\n",
       " 'city_Madera',\n",
       " 'city_Madison',\n",
       " 'city_Madras',\n",
       " 'city_Magalia',\n",
       " 'city_Makawao',\n",
       " 'city_Malibu',\n",
       " 'city_Malin',\n",
       " 'city_Mammoth Lakes',\n",
       " 'city_Manhattan Beach',\n",
       " 'city_Manson',\n",
       " 'city_Manteca',\n",
       " 'city_Manton',\n",
       " 'city_Manzanita',\n",
       " 'city_Maple Falls',\n",
       " 'city_Mapleton',\n",
       " 'city_Marblemount',\n",
       " 'city_Marcola',\n",
       " 'city_Maricopa',\n",
       " 'city_Marina',\n",
       " 'city_Marina Del Rey',\n",
       " 'city_Marine Corps Base Hawaii (MCBH)',\n",
       " 'city_Mariposa',\n",
       " 'city_Marrowstone',\n",
       " 'city_Martinez',\n",
       " 'city_Marysville',\n",
       " 'city_Mather',\n",
       " 'city_Mattawa',\n",
       " 'city_Maupin',\n",
       " 'city_Maywood',\n",
       " 'city_McArthur',\n",
       " 'city_McCleary',\n",
       " 'city_McCloud',\n",
       " 'city_McFarland',\n",
       " 'city_McKenna',\n",
       " 'city_McKinleyville',\n",
       " 'city_McMinnville',\n",
       " 'city_Mead',\n",
       " 'city_Meadow Valley',\n",
       " 'city_Meadow Vista',\n",
       " 'city_Mecca',\n",
       " 'city_Medford',\n",
       " 'city_Medical Lake',\n",
       " 'city_Mendocino',\n",
       " 'city_Mendota',\n",
       " 'city_Menifee',\n",
       " 'city_Menlo Park',\n",
       " 'city_Mentone',\n",
       " 'city_Merced',\n",
       " 'city_Mercer Island',\n",
       " 'city_Meridian',\n",
       " 'city_Merlin',\n",
       " 'city_Merrill',\n",
       " 'city_Metaline Falls',\n",
       " 'city_Mi-Wuk Village',\n",
       " 'city_Midpines',\n",
       " 'city_Mililani',\n",
       " 'city_Mill City',\n",
       " 'city_Mill Valley',\n",
       " 'city_Millbrae',\n",
       " 'city_Milpitas',\n",
       " 'city_Milton',\n",
       " 'city_Milton Freewater',\n",
       " 'city_Milwaukie',\n",
       " 'city_Mineral',\n",
       " 'city_Mira Loma',\n",
       " 'city_Miramonte',\n",
       " 'city_Miranda',\n",
       " 'city_Mission Hills',\n",
       " 'city_Mission Viejo',\n",
       " 'city_Mitchell',\n",
       " 'city_Modesto',\n",
       " 'city_Mojave',\n",
       " 'city_Mokelumne Hill',\n",
       " 'city_Molalla',\n",
       " 'city_Monmouth',\n",
       " 'city_Monroe',\n",
       " 'city_Monrovia',\n",
       " 'city_Montague',\n",
       " 'city_Montara',\n",
       " 'city_Montclair',\n",
       " 'city_Monte Rio',\n",
       " 'city_Montebello',\n",
       " 'city_Montecito',\n",
       " 'city_Monterey',\n",
       " 'city_Monterey Park',\n",
       " 'city_Montesano',\n",
       " 'city_Montgomery Creek',\n",
       " 'city_Montrose',\n",
       " 'city_Moorpark',\n",
       " 'city_Moraga',\n",
       " 'city_Moreno Valley',\n",
       " 'city_Morgan Hill',\n",
       " 'city_Morongo Valley',\n",
       " 'city_Morro Bay',\n",
       " 'city_Morton',\n",
       " 'city_Moses Lake',\n",
       " 'city_Moss Beach',\n",
       " 'city_Moss Landing',\n",
       " 'city_Mossyrock',\n",
       " 'city_Mount Angel',\n",
       " 'city_Mount Baldy',\n",
       " 'city_Mount Hood',\n",
       " 'city_Mount Shasta',\n",
       " 'city_Mount Vernon',\n",
       " 'city_Mountain Center',\n",
       " 'city_Mountain Ranch',\n",
       " 'city_Mountain View',\n",
       " 'city_Mountlake Terrace',\n",
       " 'city_Moxee',\n",
       " 'city_Mukilteo',\n",
       " 'city_Mulino',\n",
       " 'city_Murphys',\n",
       " 'city_Murrieta',\n",
       " 'city_Myers Flat',\n",
       " 'city_Myrtle Creek',\n",
       " 'city_Myrtle Point',\n",
       " 'city_Naalehu',\n",
       " 'city_Naches',\n",
       " 'city_Naknek',\n",
       " 'city_Napa',\n",
       " 'city_Napavine',\n",
       " 'city_Naselle',\n",
       " 'city_National City',\n",
       " 'city_Neah Bay',\n",
       " 'city_Nehalem',\n",
       " 'city_Neskowin',\n",
       " 'city_Nevada City',\n",
       " 'city_New Cuyama',\n",
       " 'city_Newark',\n",
       " 'city_Newberg',\n",
       " 'city_Newberry Springs',\n",
       " 'city_Newbury Park',\n",
       " 'city_Newcastle',\n",
       " 'city_Newman',\n",
       " 'city_Newport',\n",
       " 'city_Newport Beach',\n",
       " 'city_Nicasio',\n",
       " 'city_Nice',\n",
       " 'city_Nine Mile Falls',\n",
       " 'city_Ninilchik',\n",
       " 'city_Nipomo',\n",
       " 'city_Norco',\n",
       " 'city_Normandy Park',\n",
       " 'city_North Bend',\n",
       " 'city_North Fork',\n",
       " 'city_North Highlands',\n",
       " 'city_North Hollywood',\n",
       " 'city_North Plains',\n",
       " 'city_North Pole',\n",
       " 'city_North Powder',\n",
       " 'city_North San Juan',\n",
       " 'city_Northport',\n",
       " 'city_Northridge',\n",
       " 'city_Norwalk',\n",
       " 'city_Novato',\n",
       " 'city_Nuevo',\n",
       " 'city_Nyssa',\n",
       " 'city_O Brien',\n",
       " 'city_Oak Harbor',\n",
       " 'city_Oak Park',\n",
       " 'city_Oak View',\n",
       " 'city_Oakdale',\n",
       " 'city_Oakhurst',\n",
       " 'city_Oakland',\n",
       " 'city_Oakley',\n",
       " 'city_Oakridge',\n",
       " 'city_Oakville',\n",
       " 'city_Occidental',\n",
       " 'city_Ocean Park',\n",
       " 'city_Ocean Shores',\n",
       " 'city_Ocean View',\n",
       " 'city_Oceano',\n",
       " 'city_Oceanside',\n",
       " 'city_Ocotillo',\n",
       " 'city_Odessa',\n",
       " 'city_Ojai',\n",
       " 'city_Okanogan',\n",
       " 'city_Olalla',\n",
       " 'city_Olga',\n",
       " 'city_Olivehurst',\n",
       " 'city_Olympia',\n",
       " 'city_Omak',\n",
       " 'city_Onalaska',\n",
       " 'city_Ontario',\n",
       " 'city_Orange',\n",
       " 'city_Orange Cove',\n",
       " 'city_Orangevale',\n",
       " 'city_Orcas',\n",
       " 'city_Oregon City',\n",
       " 'city_Orick',\n",
       " 'city_Orinda',\n",
       " 'city_Orland',\n",
       " 'city_Oro Grande',\n",
       " 'city_Orondo',\n",
       " 'city_Orosi',\n",
       " 'city_Oroville',\n",
       " 'city_Orting',\n",
       " 'city_Othello',\n",
       " ...]"
      ]
     },
     "execution_count": 17,
     "metadata": {},
     "output_type": "execute_result"
    }
   ],
   "source": [
    "#creating list of cities (should be 1547)\n",
    "cities_col = [col for col in df if col.startswith('city')]\n",
    "cities_col"
   ]
  },
  {
   "cell_type": "code",
   "execution_count": 18,
   "metadata": {},
   "outputs": [
    {
     "data": {
      "text/plain": [
       "1547"
      ]
     },
     "execution_count": 18,
     "metadata": {},
     "output_type": "execute_result"
    }
   ],
   "source": [
    "len(cities_col)"
   ]
  },
  {
   "cell_type": "code",
   "execution_count": 19,
   "metadata": {},
   "outputs": [
    {
     "data": {
      "text/plain": [
       "5"
      ]
     },
     "execution_count": 19,
     "metadata": {},
     "output_type": "execute_result"
    }
   ],
   "source": [
    "#miscellaneous columns I want to keep that are VERY important\n",
    "features  = ['zip_code', 'count', 'latitude', 'longitude', 'income']\n",
    "len(features)"
   ]
  },
  {
   "cell_type": "markdown",
   "metadata": {},
   "source": [
    "# 4 Main Lists that we want to use for our elastic net model\n",
    "- categories\n",
    "- percentage_col\n",
    "- cities_col\n",
    "- features"
   ]
  },
  {
   "cell_type": "code",
   "execution_count": 20,
   "metadata": {},
   "outputs": [
    {
     "data": {
      "text/plain": [
       "2033"
      ]
     },
     "execution_count": 20,
     "metadata": {},
     "output_type": "execute_result"
    }
   ],
   "source": [
    "main_features = categories + percentage_col + cities_col + features\n",
    "len(main_features)"
   ]
  },
  {
   "cell_type": "code",
   "execution_count": 21,
   "metadata": {},
   "outputs": [
    {
     "data": {
      "text/plain": [
       "2033"
      ]
     },
     "execution_count": 21,
     "metadata": {},
     "output_type": "execute_result"
    }
   ],
   "source": [
    "#sanity check \n",
    "len(set(main_features))"
   ]
  },
  {
   "cell_type": "markdown",
   "metadata": {},
   "source": [
    "# Creating dataframe with key numeric variables to prep for Elastic Net"
   ]
  },
  {
   "cell_type": "code",
   "execution_count": 22,
   "metadata": {},
   "outputs": [
    {
     "data": {
      "text/plain": [
       "(2373, 2033)"
      ]
     },
     "execution_count": 22,
     "metadata": {},
     "output_type": "execute_result"
    }
   ],
   "source": [
    "elastic_df = df[main_features]\n",
    "elastic_df.shape"
   ]
  },
  {
   "cell_type": "code",
   "execution_count": 23,
   "metadata": {},
   "outputs": [],
   "source": [
    "from sklearn.linear_model import ElasticNet\n",
    "from sklearn.model_selection import GridSearchCV\n",
    "from sklearn.pipeline import Pipeline"
   ]
  },
  {
   "cell_type": "code",
   "execution_count": 24,
   "metadata": {},
   "outputs": [],
   "source": [
    "#creating X and y\n",
    "X = elastic_df.drop(labels = 'income', axis = 'columns')\n",
    "y = elastic_df['income']"
   ]
  },
  {
   "cell_type": "code",
   "execution_count": 25,
   "metadata": {},
   "outputs": [
    {
     "data": {
      "text/plain": [
       "(2373, 2032)"
      ]
     },
     "execution_count": 25,
     "metadata": {},
     "output_type": "execute_result"
    }
   ],
   "source": [
    "X.shape"
   ]
  },
  {
   "cell_type": "code",
   "execution_count": 26,
   "metadata": {},
   "outputs": [
    {
     "data": {
      "text/plain": [
       "(2373,)"
      ]
     },
     "execution_count": 26,
     "metadata": {},
     "output_type": "execute_result"
    }
   ],
   "source": [
    "y.shape"
   ]
  },
  {
   "cell_type": "markdown",
   "metadata": {},
   "source": [
    "# Elastic Gridsearch Time"
   ]
  },
  {
   "cell_type": "code",
   "execution_count": 27,
   "metadata": {},
   "outputs": [
    {
     "name": "stderr",
     "output_type": "stream",
     "text": [
      "/Users/erinhwang/anaconda3/lib/python3.7/site-packages/sklearn/model_selection/_search.py:813: DeprecationWarning: The default of the `iid` parameter will change from True to False in version 0.22 and will be removed in 0.24. This will change numeric results when test-set sizes are unequal.\n",
      "  DeprecationWarning)\n"
     ]
    },
    {
     "name": "stdout",
     "output_type": "stream",
     "text": [
      "-0.21178597695682908\n"
     ]
    },
    {
     "data": {
      "text/plain": [
       "{'e__alpha': 0.01, 'e__l1_ratio': 0.8}"
      ]
     },
     "execution_count": 27,
     "metadata": {},
     "output_type": "execute_result"
    }
   ],
   "source": [
    "pipe = Pipeline([\n",
    "    ('e', ElasticNet())\n",
    "])\n",
    "\n",
    "pipe_params = {\n",
    "    'e__alpha': [0, 0.05, 0.01],\n",
    "    'e__l1_ratio': [0.92, 0.1, 0.8, 0.5]\n",
    "   \n",
    "}\n",
    "\n",
    "\n",
    "gs = GridSearchCV(pipe, param_grid=pipe_params, cv=5, n_jobs = 3)\n",
    "\n",
    "\n",
    "gs.fit(X, y)\n",
    "\n",
    "\n",
    "print(gs.best_score_)\n",
    "gs.best_params_"
   ]
  },
  {
   "cell_type": "code",
   "execution_count": 28,
   "metadata": {},
   "outputs": [],
   "source": [
    "elastic = ElasticNet(alpha= 0.01, l1_ratio= 0.8)"
   ]
  },
  {
   "cell_type": "code",
   "execution_count": 29,
   "metadata": {},
   "outputs": [
    {
     "data": {
      "text/plain": [
       "ElasticNet(alpha=0.01, copy_X=True, fit_intercept=True, l1_ratio=0.8,\n",
       "           max_iter=1000, normalize=False, positive=False, precompute=False,\n",
       "           random_state=None, selection='cyclic', tol=0.0001, warm_start=False)"
      ]
     },
     "execution_count": 29,
     "metadata": {},
     "output_type": "execute_result"
    }
   ],
   "source": [
    "elastic.fit(X, y)"
   ]
  },
  {
   "cell_type": "code",
   "execution_count": 30,
   "metadata": {},
   "outputs": [],
   "source": [
    "coefficients = list(elastic.coef_)"
   ]
  },
  {
   "cell_type": "code",
   "execution_count": 31,
   "metadata": {},
   "outputs": [],
   "source": [
    "cols = list(X.columns)"
   ]
  },
  {
   "cell_type": "code",
   "execution_count": 32,
   "metadata": {},
   "outputs": [],
   "source": [
    "elastic_pd = pd.DataFrame()"
   ]
  },
  {
   "cell_type": "code",
   "execution_count": 33,
   "metadata": {},
   "outputs": [],
   "source": [
    "elastic_pd['coef'] = coefficients\n",
    "elastic_pd['column_name'] = cols"
   ]
  },
  {
   "cell_type": "code",
   "execution_count": 34,
   "metadata": {},
   "outputs": [
    {
     "data": {
      "text/plain": [
       "(2032, 2)"
      ]
     },
     "execution_count": 34,
     "metadata": {},
     "output_type": "execute_result"
    }
   ],
   "source": [
    "elastic_pd.shape"
   ]
  },
  {
   "cell_type": "code",
   "execution_count": 35,
   "metadata": {},
   "outputs": [
    {
     "data": {
      "text/html": [
       "<div>\n",
       "<style scoped>\n",
       "    .dataframe tbody tr th:only-of-type {\n",
       "        vertical-align: middle;\n",
       "    }\n",
       "\n",
       "    .dataframe tbody tr th {\n",
       "        vertical-align: top;\n",
       "    }\n",
       "\n",
       "    .dataframe thead th {\n",
       "        text-align: right;\n",
       "    }\n",
       "</style>\n",
       "<table border=\"1\" class=\"dataframe\">\n",
       "  <thead>\n",
       "    <tr style=\"text-align: right;\">\n",
       "      <th></th>\n",
       "      <th>coef</th>\n",
       "      <th>column_name</th>\n",
       "    </tr>\n",
       "  </thead>\n",
       "  <tbody>\n",
       "    <tr>\n",
       "      <th>0</th>\n",
       "      <td>4805.956288</td>\n",
       "      <td>acaibowls</td>\n",
       "    </tr>\n",
       "    <tr>\n",
       "      <th>1</th>\n",
       "      <td>-485.943412</td>\n",
       "      <td>accessories</td>\n",
       "    </tr>\n",
       "    <tr>\n",
       "      <th>2</th>\n",
       "      <td>1327.828508</td>\n",
       "      <td>active</td>\n",
       "    </tr>\n",
       "    <tr>\n",
       "      <th>3</th>\n",
       "      <td>-122.776354</td>\n",
       "      <td>acupuncture</td>\n",
       "    </tr>\n",
       "    <tr>\n",
       "      <th>4</th>\n",
       "      <td>-1562.857229</td>\n",
       "      <td>adultedu</td>\n",
       "    </tr>\n",
       "  </tbody>\n",
       "</table>\n",
       "</div>"
      ],
      "text/plain": [
       "          coef  column_name\n",
       "0  4805.956288    acaibowls\n",
       "1  -485.943412  accessories\n",
       "2  1327.828508       active\n",
       "3  -122.776354  acupuncture\n",
       "4 -1562.857229     adultedu"
      ]
     },
     "execution_count": 35,
     "metadata": {},
     "output_type": "execute_result"
    }
   ],
   "source": [
    "elastic_pd.head()"
   ]
  },
  {
   "cell_type": "code",
   "execution_count": 36,
   "metadata": {
    "scrolled": true
   },
   "outputs": [
    {
     "data": {
      "text/html": [
       "<div>\n",
       "<style scoped>\n",
       "    .dataframe tbody tr th:only-of-type {\n",
       "        vertical-align: middle;\n",
       "    }\n",
       "\n",
       "    .dataframe tbody tr th {\n",
       "        vertical-align: top;\n",
       "    }\n",
       "\n",
       "    .dataframe thead th {\n",
       "        text-align: right;\n",
       "    }\n",
       "</style>\n",
       "<table border=\"1\" class=\"dataframe\">\n",
       "  <thead>\n",
       "    <tr style=\"text-align: right;\">\n",
       "      <th></th>\n",
       "      <th>coef</th>\n",
       "      <th>column_name</th>\n",
       "    </tr>\n",
       "  </thead>\n",
       "  <tbody>\n",
       "    <tr>\n",
       "      <th>468</th>\n",
       "      <td>-16206.583718</td>\n",
       "      <td>price_1_percentage</td>\n",
       "    </tr>\n",
       "    <tr>\n",
       "      <th>1669</th>\n",
       "      <td>-13142.693619</td>\n",
       "      <td>city_San Bernardino</td>\n",
       "    </tr>\n",
       "    <tr>\n",
       "      <th>1348</th>\n",
       "      <td>-11411.357820</td>\n",
       "      <td>city_Miramonte</td>\n",
       "    </tr>\n",
       "    <tr>\n",
       "      <th>1263</th>\n",
       "      <td>-11365.316436</td>\n",
       "      <td>city_Los Angeles</td>\n",
       "    </tr>\n",
       "    <tr>\n",
       "      <th>431</th>\n",
       "      <td>-11102.022721</td>\n",
       "      <td>ukrainian</td>\n",
       "    </tr>\n",
       "    <tr>\n",
       "      <th>1685</th>\n",
       "      <td>-10751.580316</td>\n",
       "      <td>city_San Luis Obispo</td>\n",
       "    </tr>\n",
       "    <tr>\n",
       "      <th>954</th>\n",
       "      <td>-10659.944423</td>\n",
       "      <td>city_Fresno</td>\n",
       "    </tr>\n",
       "    <tr>\n",
       "      <th>243</th>\n",
       "      <td>-10479.802176</td>\n",
       "      <td>landmarks</td>\n",
       "    </tr>\n",
       "    <tr>\n",
       "      <th>1919</th>\n",
       "      <td>-10035.413986</td>\n",
       "      <td>city_Vernon</td>\n",
       "    </tr>\n",
       "    <tr>\n",
       "      <th>1912</th>\n",
       "      <td>-9733.292206</td>\n",
       "      <td>city_Van Nuys</td>\n",
       "    </tr>\n",
       "    <tr>\n",
       "      <th>1846</th>\n",
       "      <td>-9516.487853</td>\n",
       "      <td>city_Thermal</td>\n",
       "    </tr>\n",
       "    <tr>\n",
       "      <th>1921</th>\n",
       "      <td>-9487.902116</td>\n",
       "      <td>city_Victorville</td>\n",
       "    </tr>\n",
       "    <tr>\n",
       "      <th>731</th>\n",
       "      <td>-9461.314086</td>\n",
       "      <td>city_Clearlake</td>\n",
       "    </tr>\n",
       "    <tr>\n",
       "      <th>963</th>\n",
       "      <td>-9395.756395</td>\n",
       "      <td>city_Gardena</td>\n",
       "    </tr>\n",
       "    <tr>\n",
       "      <th>1216</th>\n",
       "      <td>-9278.746373</td>\n",
       "      <td>city_Lanai City</td>\n",
       "    </tr>\n",
       "    <tr>\n",
       "      <th>1296</th>\n",
       "      <td>-9223.522794</td>\n",
       "      <td>city_Maple Falls</td>\n",
       "    </tr>\n",
       "    <tr>\n",
       "      <th>1996</th>\n",
       "      <td>-8885.733743</td>\n",
       "      <td>city_Winterhaven</td>\n",
       "    </tr>\n",
       "    <tr>\n",
       "      <th>1804</th>\n",
       "      <td>-8881.019822</td>\n",
       "      <td>city_Stockton</td>\n",
       "    </tr>\n",
       "    <tr>\n",
       "      <th>815</th>\n",
       "      <td>-8821.093720</td>\n",
       "      <td>city_Death Valley</td>\n",
       "    </tr>\n",
       "    <tr>\n",
       "      <th>330</th>\n",
       "      <td>-8619.453158</td>\n",
       "      <td>popupshops</td>\n",
       "    </tr>\n",
       "    <tr>\n",
       "      <th>221</th>\n",
       "      <td>-8574.739325</td>\n",
       "      <td>internetcafe</td>\n",
       "    </tr>\n",
       "    <tr>\n",
       "      <th>188</th>\n",
       "      <td>-8505.813489</td>\n",
       "      <td>hardware</td>\n",
       "    </tr>\n",
       "    <tr>\n",
       "      <th>1870</th>\n",
       "      <td>-8486.050405</td>\n",
       "      <td>city_Trapper Creek</td>\n",
       "    </tr>\n",
       "    <tr>\n",
       "      <th>479</th>\n",
       "      <td>-8420.154639</td>\n",
       "      <td>rate_4.5_percentage</td>\n",
       "    </tr>\n",
       "    <tr>\n",
       "      <th>1466</th>\n",
       "      <td>-8403.494096</td>\n",
       "      <td>city_Ontario</td>\n",
       "    </tr>\n",
       "    <tr>\n",
       "      <th>137</th>\n",
       "      <td>-8366.615386</td>\n",
       "      <td>ethiopian</td>\n",
       "    </tr>\n",
       "    <tr>\n",
       "      <th>1282</th>\n",
       "      <td>-8334.640650</td>\n",
       "      <td>city_Mad River</td>\n",
       "    </tr>\n",
       "    <tr>\n",
       "      <th>1440</th>\n",
       "      <td>-8169.912642</td>\n",
       "      <td>city_O Brien</td>\n",
       "    </tr>\n",
       "    <tr>\n",
       "      <th>826</th>\n",
       "      <td>-8131.971961</td>\n",
       "      <td>city_Desert Hot Springs</td>\n",
       "    </tr>\n",
       "    <tr>\n",
       "      <th>1028</th>\n",
       "      <td>-8087.973760</td>\n",
       "      <td>city_Hanalei</td>\n",
       "    </tr>\n",
       "    <tr>\n",
       "      <th>...</th>\n",
       "      <td>...</td>\n",
       "      <td>...</td>\n",
       "    </tr>\n",
       "    <tr>\n",
       "      <th>916</th>\n",
       "      <td>11809.517856</td>\n",
       "      <td>city_Fall city</td>\n",
       "    </tr>\n",
       "    <tr>\n",
       "      <th>1923</th>\n",
       "      <td>11837.418059</td>\n",
       "      <td>city_Villa Park</td>\n",
       "    </tr>\n",
       "    <tr>\n",
       "      <th>1174</th>\n",
       "      <td>11976.716065</td>\n",
       "      <td>city_La Cañada Flintridge</td>\n",
       "    </tr>\n",
       "    <tr>\n",
       "      <th>386</th>\n",
       "      <td>12007.082326</td>\n",
       "      <td>southafrican</td>\n",
       "    </tr>\n",
       "    <tr>\n",
       "      <th>1641</th>\n",
       "      <td>12024.469127</td>\n",
       "      <td>city_Rolling Hills Estate</td>\n",
       "    </tr>\n",
       "    <tr>\n",
       "      <th>430</th>\n",
       "      <td>12243.065133</td>\n",
       "      <td>tuscan</td>\n",
       "    </tr>\n",
       "    <tr>\n",
       "      <th>1722</th>\n",
       "      <td>12910.175012</td>\n",
       "      <td>city_Seattle</td>\n",
       "    </tr>\n",
       "    <tr>\n",
       "      <th>1562</th>\n",
       "      <td>13169.853818</td>\n",
       "      <td>city_Port Costa</td>\n",
       "    </tr>\n",
       "    <tr>\n",
       "      <th>1711</th>\n",
       "      <td>13326.063128</td>\n",
       "      <td>city_Saratoga</td>\n",
       "    </tr>\n",
       "    <tr>\n",
       "      <th>2009</th>\n",
       "      <td>13387.531033</td>\n",
       "      <td>city_Woodside</td>\n",
       "    </tr>\n",
       "    <tr>\n",
       "      <th>1664</th>\n",
       "      <td>13579.554359</td>\n",
       "      <td>city_Sammamish</td>\n",
       "    </tr>\n",
       "    <tr>\n",
       "      <th>1866</th>\n",
       "      <td>13625.196856</td>\n",
       "      <td>city_Trabuco Canyon</td>\n",
       "    </tr>\n",
       "    <tr>\n",
       "      <th>809</th>\n",
       "      <td>13655.849988</td>\n",
       "      <td>city_Danville</td>\n",
       "    </tr>\n",
       "    <tr>\n",
       "      <th>1580</th>\n",
       "      <td>13986.016121</td>\n",
       "      <td>city_Preston</td>\n",
       "    </tr>\n",
       "    <tr>\n",
       "      <th>1850</th>\n",
       "      <td>14695.040904</td>\n",
       "      <td>city_Tiburon</td>\n",
       "    </tr>\n",
       "    <tr>\n",
       "      <th>1473</th>\n",
       "      <td>15239.581257</td>\n",
       "      <td>city_Orinda</td>\n",
       "    </tr>\n",
       "    <tr>\n",
       "      <th>2005</th>\n",
       "      <td>15623.086012</td>\n",
       "      <td>city_Woodinville</td>\n",
       "    </tr>\n",
       "    <tr>\n",
       "      <th>1418</th>\n",
       "      <td>16610.271676</td>\n",
       "      <td>city_Newport Beach</td>\n",
       "    </tr>\n",
       "    <tr>\n",
       "      <th>1693</th>\n",
       "      <td>17534.818070</td>\n",
       "      <td>city_San Ramon</td>\n",
       "    </tr>\n",
       "    <tr>\n",
       "      <th>1491</th>\n",
       "      <td>17721.342090</td>\n",
       "      <td>city_Pacific Palisades</td>\n",
       "    </tr>\n",
       "    <tr>\n",
       "      <th>1105</th>\n",
       "      <td>17936.539865</td>\n",
       "      <td>city_Issaquah</td>\n",
       "    </tr>\n",
       "    <tr>\n",
       "      <th>470</th>\n",
       "      <td>18018.018554</td>\n",
       "      <td>price_3_percentage</td>\n",
       "    </tr>\n",
       "    <tr>\n",
       "      <th>1742</th>\n",
       "      <td>18377.667676</td>\n",
       "      <td>city_Sierra City</td>\n",
       "    </tr>\n",
       "    <tr>\n",
       "      <th>493</th>\n",
       "      <td>18850.266029</td>\n",
       "      <td>city_Alamo</td>\n",
       "    </tr>\n",
       "    <tr>\n",
       "      <th>1675</th>\n",
       "      <td>18911.064079</td>\n",
       "      <td>city_San Francisco</td>\n",
       "    </tr>\n",
       "    <tr>\n",
       "      <th>1265</th>\n",
       "      <td>25335.096997</td>\n",
       "      <td>city_Los Gatos</td>\n",
       "    </tr>\n",
       "    <tr>\n",
       "      <th>1680</th>\n",
       "      <td>26275.715160</td>\n",
       "      <td>city_San Jose</td>\n",
       "    </tr>\n",
       "    <tr>\n",
       "      <th>1649</th>\n",
       "      <td>28185.177548</td>\n",
       "      <td>city_Ross</td>\n",
       "    </tr>\n",
       "    <tr>\n",
       "      <th>1572</th>\n",
       "      <td>28256.400377</td>\n",
       "      <td>city_Portola Valley</td>\n",
       "    </tr>\n",
       "    <tr>\n",
       "      <th>1262</th>\n",
       "      <td>34567.620971</td>\n",
       "      <td>city_Los Altos</td>\n",
       "    </tr>\n",
       "  </tbody>\n",
       "</table>\n",
       "<p>2032 rows × 2 columns</p>\n",
       "</div>"
      ],
      "text/plain": [
       "              coef                column_name\n",
       "468  -16206.583718         price_1_percentage\n",
       "1669 -13142.693619        city_San Bernardino\n",
       "1348 -11411.357820             city_Miramonte\n",
       "1263 -11365.316436           city_Los Angeles\n",
       "431  -11102.022721                  ukrainian\n",
       "1685 -10751.580316       city_San Luis Obispo\n",
       "954  -10659.944423                city_Fresno\n",
       "243  -10479.802176                  landmarks\n",
       "1919 -10035.413986                city_Vernon\n",
       "1912  -9733.292206              city_Van Nuys\n",
       "1846  -9516.487853               city_Thermal\n",
       "1921  -9487.902116           city_Victorville\n",
       "731   -9461.314086             city_Clearlake\n",
       "963   -9395.756395               city_Gardena\n",
       "1216  -9278.746373            city_Lanai City\n",
       "1296  -9223.522794           city_Maple Falls\n",
       "1996  -8885.733743           city_Winterhaven\n",
       "1804  -8881.019822              city_Stockton\n",
       "815   -8821.093720          city_Death Valley\n",
       "330   -8619.453158                 popupshops\n",
       "221   -8574.739325               internetcafe\n",
       "188   -8505.813489                   hardware\n",
       "1870  -8486.050405         city_Trapper Creek\n",
       "479   -8420.154639        rate_4.5_percentage\n",
       "1466  -8403.494096               city_Ontario\n",
       "137   -8366.615386                  ethiopian\n",
       "1282  -8334.640650             city_Mad River\n",
       "1440  -8169.912642               city_O Brien\n",
       "826   -8131.971961    city_Desert Hot Springs\n",
       "1028  -8087.973760               city_Hanalei\n",
       "...            ...                        ...\n",
       "916   11809.517856             city_Fall city\n",
       "1923  11837.418059            city_Villa Park\n",
       "1174  11976.716065  city_La Cañada Flintridge\n",
       "386   12007.082326               southafrican\n",
       "1641  12024.469127  city_Rolling Hills Estate\n",
       "430   12243.065133                     tuscan\n",
       "1722  12910.175012               city_Seattle\n",
       "1562  13169.853818            city_Port Costa\n",
       "1711  13326.063128              city_Saratoga\n",
       "2009  13387.531033              city_Woodside\n",
       "1664  13579.554359             city_Sammamish\n",
       "1866  13625.196856        city_Trabuco Canyon\n",
       "809   13655.849988              city_Danville\n",
       "1580  13986.016121               city_Preston\n",
       "1850  14695.040904               city_Tiburon\n",
       "1473  15239.581257                city_Orinda\n",
       "2005  15623.086012           city_Woodinville\n",
       "1418  16610.271676         city_Newport Beach\n",
       "1693  17534.818070             city_San Ramon\n",
       "1491  17721.342090     city_Pacific Palisades\n",
       "1105  17936.539865              city_Issaquah\n",
       "470   18018.018554         price_3_percentage\n",
       "1742  18377.667676           city_Sierra City\n",
       "493   18850.266029                 city_Alamo\n",
       "1675  18911.064079         city_San Francisco\n",
       "1265  25335.096997             city_Los Gatos\n",
       "1680  26275.715160              city_San Jose\n",
       "1649  28185.177548                  city_Ross\n",
       "1572  28256.400377        city_Portola Valley\n",
       "1262  34567.620971             city_Los Altos\n",
       "\n",
       "[2032 rows x 2 columns]"
      ]
     },
     "execution_count": 36,
     "metadata": {},
     "output_type": "execute_result"
    }
   ],
   "source": [
    "elastic_pd.sort_values(by=['coef'])"
   ]
  },
  {
   "cell_type": "markdown",
   "metadata": {},
   "source": [
    "### Conclusion: We will not use ElasticNet to help us pick optimal features"
   ]
  },
  {
   "cell_type": "markdown",
   "metadata": {},
   "source": [
    "# Use SelectKBest- Bad"
   ]
  },
  {
   "cell_type": "code",
   "execution_count": 37,
   "metadata": {
    "scrolled": true
   },
   "outputs": [
    {
     "name": "stderr",
     "output_type": "stream",
     "text": [
      "/Users/erinhwang/anaconda3/lib/python3.7/site-packages/sklearn/feature_selection/univariate_selection.py:114: UserWarning: Features [   2    3    4 ... 2025 2026 2027] are constant.\n",
      "  UserWarning)\n",
      "/Users/erinhwang/anaconda3/lib/python3.7/site-packages/sklearn/feature_selection/univariate_selection.py:115: RuntimeWarning: divide by zero encountered in true_divide\n",
      "  f = msb / msw\n",
      "/Users/erinhwang/anaconda3/lib/python3.7/site-packages/sklearn/feature_selection/univariate_selection.py:115: RuntimeWarning: invalid value encountered in true_divide\n",
      "  f = msb / msw\n"
     ]
    },
    {
     "data": {
      "text/plain": [
       "['city_White Salmon',\n",
       " 'city_White Swan',\n",
       " 'city_Whitethorn',\n",
       " 'city_Wildomar',\n",
       " 'city_Wilkeson',\n",
       " 'city_Willits',\n",
       " 'city_Willow',\n",
       " 'city_Willow Creek',\n",
       " 'city_Willows',\n",
       " 'city_Wilmington',\n",
       " 'city_Wilsonville',\n",
       " 'city_Wilton',\n",
       " 'city_Winchester',\n",
       " 'city_Windsor',\n",
       " 'city_Winlock',\n",
       " 'city_Winston',\n",
       " 'city_Winterhaven',\n",
       " 'city_Winters',\n",
       " 'city_Winton',\n",
       " 'city_Wofford Heights',\n",
       " 'city_Wolf Creek',\n",
       " 'city_Wood Village',\n",
       " 'city_Woodacre',\n",
       " 'city_Woodbridge',\n",
       " 'city_Woodburn',\n",
       " 'city_Woodinville',\n",
       " 'city_Woodlake',\n",
       " 'city_Woodland',\n",
       " 'city_Woodland Hills',\n",
       " 'city_Woodside',\n",
       " 'city_Wrangell',\n",
       " 'city_Wrightwood',\n",
       " 'city_Yachats',\n",
       " 'city_Yakima',\n",
       " 'city_Yamhill',\n",
       " 'city_Yelm',\n",
       " 'city_Yermo',\n",
       " 'city_Yoncalla',\n",
       " 'city_Yorba Linda',\n",
       " 'city_Yosemite National Park',\n",
       " 'city_Yountville',\n",
       " 'city_Yreka',\n",
       " 'city_Yuba City',\n",
       " 'city_Yucaipa',\n",
       " 'city_Yucca Valley',\n",
       " 'city_Zamora',\n",
       " 'city_Zillah',\n",
       " 'city_carlsbad']"
      ]
     },
     "execution_count": 37,
     "metadata": {},
     "output_type": "execute_result"
    }
   ],
   "source": [
    "from sklearn.feature_selection import SelectKBest\n",
    "#from sklearn.feature_selection import chi2\n",
    "\n",
    "\n",
    "selector = SelectKBest(k = 48) #since sqrt 2373 is 48.blahblahblah\n",
    "selector.fit(X, y)\n",
    "\n",
    "#X_new = selector.transform(X)\n",
    "#print(X_new.shape)\n",
    "\n",
    "\n",
    "\n",
    "\n",
    "#2nd way\n",
    "X.columns[selector.get_support(indices=True)].tolist()"
   ]
  },
  {
   "cell_type": "markdown",
   "metadata": {},
   "source": [
    "### Conclusion: We will not use SelectKBest to help us pick optimal features"
   ]
  },
  {
   "cell_type": "markdown",
   "metadata": {},
   "source": [
    "# 4 Main Lists of Features\n",
    "- categories\n",
    "- percentage_col\n",
    "- cities_col\n",
    "- features"
   ]
  },
  {
   "cell_type": "markdown",
   "metadata": {},
   "source": [
    "# Finding categories first"
   ]
  },
  {
   "cell_type": "code",
   "execution_count": 38,
   "metadata": {},
   "outputs": [
    {
     "data": {
      "text/plain": [
       "468"
      ]
     },
     "execution_count": 38,
     "metadata": {},
     "output_type": "execute_result"
    }
   ],
   "source": [
    "len(categories)"
   ]
  },
  {
   "cell_type": "code",
   "execution_count": 39,
   "metadata": {},
   "outputs": [
    {
     "data": {
      "text/plain": [
       "True"
      ]
     },
     "execution_count": 39,
     "metadata": {},
     "output_type": "execute_result"
    }
   ],
   "source": [
    "'income' in df"
   ]
  },
  {
   "cell_type": "code",
   "execution_count": 40,
   "metadata": {},
   "outputs": [],
   "source": [
    "#find all categories where correlation is higher than 0.15\n",
    "pos_corr_categories = []\n",
    "for col in categories:\n",
    "    corr = df['income'].corr(df[col])\n",
    "    if corr> 0.15:\n",
    "        pos_corr_categories.append(col)"
   ]
  },
  {
   "cell_type": "code",
   "execution_count": 116,
   "metadata": {
    "collapsed": true
   },
   "outputs": [
    {
     "data": {
      "text/plain": [
       "['acaibowls',\n",
       " 'asianfusion',\n",
       " 'bakeries',\n",
       " 'breakfast_brunch',\n",
       " 'bubbletea',\n",
       " 'cafes',\n",
       " 'coffee',\n",
       " 'cupcakes',\n",
       " 'desserts',\n",
       " 'french',\n",
       " 'gluten_free',\n",
       " 'greek',\n",
       " 'indpak',\n",
       " 'italian',\n",
       " 'japanese',\n",
       " 'mediterranean',\n",
       " 'mideastern',\n",
       " 'newamerican',\n",
       " 'persian',\n",
       " 'pizza',\n",
       " 'salad',\n",
       " 'sandwiches',\n",
       " 'seafood',\n",
       " 'sushi',\n",
       " 'thai',\n",
       " 'turkish',\n",
       " 'vegetarian',\n",
       " 'vietnamese',\n",
       " 'wine_bars']"
      ]
     },
     "execution_count": 116,
     "metadata": {},
     "output_type": "execute_result"
    }
   ],
   "source": [
    "pos_corr_categories"
   ]
  },
  {
   "cell_type": "code",
   "execution_count": 42,
   "metadata": {},
   "outputs": [],
   "source": [
    "#find all categories where correlation is less than -0.05\n",
    "neg_corr_categories = []\n",
    "for col in categories:\n",
    "    corr = df['income'].corr(df[col])\n",
    "    if corr< -0.05:\n",
    "        neg_corr_categories.append(col)"
   ]
  },
  {
   "cell_type": "code",
   "execution_count": 43,
   "metadata": {},
   "outputs": [
    {
     "data": {
      "text/plain": [
       "['casinos', 'galleries', 'restaurants', 'salvadoran', 'soulfood']"
      ]
     },
     "execution_count": 43,
     "metadata": {},
     "output_type": "execute_result"
    }
   ],
   "source": [
    "neg_corr_categories"
   ]
  },
  {
   "cell_type": "code",
   "execution_count": 44,
   "metadata": {},
   "outputs": [],
   "source": [
    "neg_corr_categories.remove('restaurants')"
   ]
  },
  {
   "cell_type": "code",
   "execution_count": 45,
   "metadata": {},
   "outputs": [
    {
     "data": {
      "text/plain": [
       "['casinos', 'galleries', 'salvadoran', 'soulfood']"
      ]
     },
     "execution_count": 45,
     "metadata": {},
     "output_type": "execute_result"
    }
   ],
   "source": [
    "neg_corr_categories"
   ]
  },
  {
   "cell_type": "markdown",
   "metadata": {},
   "source": [
    "- `pos_corr_categories`\n",
    "- `neg_corr_categories`"
   ]
  },
  {
   "cell_type": "markdown",
   "metadata": {},
   "source": [
    "# Finding Percentage Col Second"
   ]
  },
  {
   "cell_type": "code",
   "execution_count": 46,
   "metadata": {},
   "outputs": [],
   "source": [
    "#same method for positive percentage\n",
    "pos_corr_percentage = []\n",
    "for col in percentage_col:\n",
    "    corr = df['income'].corr(df[col])\n",
    "    if corr> 0.1:\n",
    "        pos_corr_percentage.append(col)"
   ]
  },
  {
   "cell_type": "code",
   "execution_count": 47,
   "metadata": {},
   "outputs": [
    {
     "data": {
      "text/plain": [
       "['price_2_percentage', 'price_3_percentage', 'rate_4_percentage']"
      ]
     },
     "execution_count": 47,
     "metadata": {},
     "output_type": "execute_result"
    }
   ],
   "source": [
    "pos_corr_percentage"
   ]
  },
  {
   "cell_type": "code",
   "execution_count": 48,
   "metadata": {},
   "outputs": [],
   "source": [
    "#same method for negative percentage\n",
    "neg_corr_percentage = []\n",
    "for col in percentage_col:\n",
    "    corr = df['income'].corr(df[col])\n",
    "    if corr< -0.1:\n",
    "        neg_corr_percentage.append(col)"
   ]
  },
  {
   "cell_type": "code",
   "execution_count": 49,
   "metadata": {},
   "outputs": [
    {
     "data": {
      "text/plain": [
       "['price_1_percentage', 'rate_2_percentage']"
      ]
     },
     "execution_count": 49,
     "metadata": {},
     "output_type": "execute_result"
    }
   ],
   "source": [
    "neg_corr_percentage"
   ]
  },
  {
   "cell_type": "markdown",
   "metadata": {},
   "source": [
    "- `pos_corr_percentage`\n",
    "- `neg_corr_percentage`"
   ]
  },
  {
   "cell_type": "markdown",
   "metadata": {},
   "source": [
    "# Finding cities third "
   ]
  },
  {
   "cell_type": "code",
   "execution_count": 50,
   "metadata": {},
   "outputs": [],
   "source": [
    "#positive correlation for cities\n",
    "pos_corr_cities = []\n",
    "for col in cities_col:\n",
    "    corr = df['income'].corr(df[col])\n",
    "    if corr> 0.05:\n",
    "        pos_corr_cities.append(col)\n"
   ]
  },
  {
   "cell_type": "code",
   "execution_count": 51,
   "metadata": {
    "scrolled": true
   },
   "outputs": [
    {
     "data": {
      "text/plain": [
       "['city_Alamo',\n",
       " 'city_Bellevue',\n",
       " 'city_Beverly Hills',\n",
       " 'city_Carlsbad',\n",
       " 'city_Corona Del Mar',\n",
       " 'city_Cupertino',\n",
       " 'city_Danville',\n",
       " 'city_Fremont',\n",
       " 'city_Irvine',\n",
       " 'city_Issaquah',\n",
       " 'city_Kensington',\n",
       " 'city_La Cañada Flintridge',\n",
       " 'city_Ladera Ranch',\n",
       " 'city_Los Altos',\n",
       " 'city_Los Gatos',\n",
       " 'city_Malibu',\n",
       " 'city_Manhattan Beach',\n",
       " 'city_Menlo Park',\n",
       " 'city_Mercer Island',\n",
       " 'city_Moraga',\n",
       " 'city_Moss Beach',\n",
       " 'city_Newport Beach',\n",
       " 'city_Orinda',\n",
       " 'city_Pacific Palisades',\n",
       " 'city_Palo Alto',\n",
       " 'city_Pleasanton',\n",
       " 'city_Port Costa',\n",
       " 'city_Portola Valley',\n",
       " 'city_Redwood City',\n",
       " 'city_Rolling Hills Estate',\n",
       " 'city_Ross',\n",
       " 'city_Sammamish',\n",
       " 'city_San Francisco',\n",
       " 'city_San Jose',\n",
       " 'city_San Marino',\n",
       " 'city_San Mateo',\n",
       " 'city_San Ramon',\n",
       " 'city_Santa Clara',\n",
       " 'city_Saratoga',\n",
       " 'city_Seattle',\n",
       " 'city_Sierra City',\n",
       " 'city_Sunnyvale',\n",
       " 'city_Tiburon',\n",
       " 'city_Trabuco Canyon',\n",
       " 'city_Villa Park',\n",
       " 'city_Woodinville',\n",
       " 'city_Woodside',\n",
       " 'city_Yorba Linda']"
      ]
     },
     "execution_count": 51,
     "metadata": {},
     "output_type": "execute_result"
    }
   ],
   "source": [
    "pos_corr_cities"
   ]
  },
  {
   "cell_type": "code",
   "execution_count": 52,
   "metadata": {},
   "outputs": [],
   "source": [
    "#negative correlation for cities\n",
    "neg_corr_cities = []\n",
    "for col in cities_col:\n",
    "    corr = df['income'].corr(df[col])\n",
    "    if corr< -0.03:\n",
    "        neg_corr_cities.append(col)"
   ]
  },
  {
   "cell_type": "code",
   "execution_count": 53,
   "metadata": {},
   "outputs": [
    {
     "data": {
      "text/plain": [
       "['city_Avery',\n",
       " 'city_Bodfish',\n",
       " 'city_Clearlake',\n",
       " 'city_Desert Hot Springs',\n",
       " 'city_Detroit',\n",
       " 'city_El Monte',\n",
       " 'city_Fresno',\n",
       " 'city_Hemet',\n",
       " 'city_Inglewood',\n",
       " 'city_Los Angeles',\n",
       " 'city_Marblemount',\n",
       " 'city_Miramonte',\n",
       " 'city_Oroville',\n",
       " 'city_San Bernardino',\n",
       " 'city_Sierraville',\n",
       " 'city_Skamokawa',\n",
       " 'city_Slab City',\n",
       " 'city_Spokane',\n",
       " 'city_Stockton',\n",
       " 'city_Sumpter',\n",
       " 'city_Thermal',\n",
       " 'city_Vernon',\n",
       " 'city_Wilderville']"
      ]
     },
     "execution_count": 53,
     "metadata": {},
     "output_type": "execute_result"
    }
   ],
   "source": [
    "neg_corr_cities"
   ]
  },
  {
   "cell_type": "markdown",
   "metadata": {},
   "source": [
    "- `pos_corr_cities`\n",
    "- `neg_corr_cities`"
   ]
  },
  {
   "cell_type": "markdown",
   "metadata": {},
   "source": [
    "### How about count of businesses?"
   ]
  },
  {
   "cell_type": "code",
   "execution_count": 54,
   "metadata": {},
   "outputs": [
    {
     "data": {
      "text/plain": [
       "0.11476383993636025"
      ]
     },
     "execution_count": 54,
     "metadata": {},
     "output_type": "execute_result"
    }
   ],
   "source": [
    "df['income'].corr(df['count'])"
   ]
  },
  {
   "cell_type": "code",
   "execution_count": 55,
   "metadata": {},
   "outputs": [],
   "source": [
    "misc = ['count']"
   ]
  },
  {
   "cell_type": "markdown",
   "metadata": {},
   "source": [
    "- `misc`"
   ]
  },
  {
   "cell_type": "code",
   "execution_count": 56,
   "metadata": {},
   "outputs": [],
   "source": [
    "main_list = pos_corr_categories + pos_corr_cities + pos_corr_percentage + neg_corr_categories + neg_corr_cities + neg_corr_percentage + misc"
   ]
  },
  {
   "cell_type": "code",
   "execution_count": 57,
   "metadata": {},
   "outputs": [
    {
     "data": {
      "text/plain": [
       "110"
      ]
     },
     "execution_count": 57,
     "metadata": {},
     "output_type": "execute_result"
    }
   ],
   "source": [
    "#sanity\n",
    "len(main_list)"
   ]
  },
  {
   "cell_type": "code",
   "execution_count": 58,
   "metadata": {},
   "outputs": [
    {
     "data": {
      "text/plain": [
       "110"
      ]
     },
     "execution_count": 58,
     "metadata": {},
     "output_type": "execute_result"
    }
   ],
   "source": [
    "#sanity\n",
    "len(set(main_list))"
   ]
  },
  {
   "cell_type": "code",
   "execution_count": 59,
   "metadata": {
    "scrolled": true
   },
   "outputs": [
    {
     "data": {
      "text/plain": [
       "['acaibowls',\n",
       " 'asianfusion',\n",
       " 'bakeries',\n",
       " 'breakfast_brunch',\n",
       " 'bubbletea',\n",
       " 'cafes',\n",
       " 'coffee',\n",
       " 'cupcakes',\n",
       " 'desserts',\n",
       " 'french',\n",
       " 'gluten_free',\n",
       " 'greek',\n",
       " 'indpak',\n",
       " 'italian',\n",
       " 'japanese',\n",
       " 'mediterranean',\n",
       " 'mideastern',\n",
       " 'newamerican',\n",
       " 'persian',\n",
       " 'pizza',\n",
       " 'salad',\n",
       " 'sandwiches',\n",
       " 'seafood',\n",
       " 'sushi',\n",
       " 'thai',\n",
       " 'turkish',\n",
       " 'vegetarian',\n",
       " 'vietnamese',\n",
       " 'wine_bars',\n",
       " 'city_Alamo',\n",
       " 'city_Bellevue',\n",
       " 'city_Beverly Hills',\n",
       " 'city_Carlsbad',\n",
       " 'city_Corona Del Mar',\n",
       " 'city_Cupertino',\n",
       " 'city_Danville',\n",
       " 'city_Fremont',\n",
       " 'city_Irvine',\n",
       " 'city_Issaquah',\n",
       " 'city_Kensington',\n",
       " 'city_La Cañada Flintridge',\n",
       " 'city_Ladera Ranch',\n",
       " 'city_Los Altos',\n",
       " 'city_Los Gatos',\n",
       " 'city_Malibu',\n",
       " 'city_Manhattan Beach',\n",
       " 'city_Menlo Park',\n",
       " 'city_Mercer Island',\n",
       " 'city_Moraga',\n",
       " 'city_Moss Beach',\n",
       " 'city_Newport Beach',\n",
       " 'city_Orinda',\n",
       " 'city_Pacific Palisades',\n",
       " 'city_Palo Alto',\n",
       " 'city_Pleasanton',\n",
       " 'city_Port Costa',\n",
       " 'city_Portola Valley',\n",
       " 'city_Redwood City',\n",
       " 'city_Rolling Hills Estate',\n",
       " 'city_Ross',\n",
       " 'city_Sammamish',\n",
       " 'city_San Francisco',\n",
       " 'city_San Jose',\n",
       " 'city_San Marino',\n",
       " 'city_San Mateo',\n",
       " 'city_San Ramon',\n",
       " 'city_Santa Clara',\n",
       " 'city_Saratoga',\n",
       " 'city_Seattle',\n",
       " 'city_Sierra City',\n",
       " 'city_Sunnyvale',\n",
       " 'city_Tiburon',\n",
       " 'city_Trabuco Canyon',\n",
       " 'city_Villa Park',\n",
       " 'city_Woodinville',\n",
       " 'city_Woodside',\n",
       " 'city_Yorba Linda',\n",
       " 'price_2_percentage',\n",
       " 'price_3_percentage',\n",
       " 'rate_4_percentage',\n",
       " 'casinos',\n",
       " 'galleries',\n",
       " 'salvadoran',\n",
       " 'soulfood',\n",
       " 'city_Avery',\n",
       " 'city_Bodfish',\n",
       " 'city_Clearlake',\n",
       " 'city_Desert Hot Springs',\n",
       " 'city_Detroit',\n",
       " 'city_El Monte',\n",
       " 'city_Fresno',\n",
       " 'city_Hemet',\n",
       " 'city_Inglewood',\n",
       " 'city_Los Angeles',\n",
       " 'city_Marblemount',\n",
       " 'city_Miramonte',\n",
       " 'city_Oroville',\n",
       " 'city_San Bernardino',\n",
       " 'city_Sierraville',\n",
       " 'city_Skamokawa',\n",
       " 'city_Slab City',\n",
       " 'city_Spokane',\n",
       " 'city_Stockton',\n",
       " 'city_Sumpter',\n",
       " 'city_Thermal',\n",
       " 'city_Vernon',\n",
       " 'city_Wilderville',\n",
       " 'price_1_percentage',\n",
       " 'rate_2_percentage',\n",
       " 'count']"
      ]
     },
     "execution_count": 59,
     "metadata": {},
     "output_type": "execute_result"
    }
   ],
   "source": [
    "#list of optimal features we will use \n",
    "main_list"
   ]
  },
  {
   "cell_type": "code",
   "execution_count": 60,
   "metadata": {},
   "outputs": [
    {
     "data": {
      "text/html": [
       "<div>\n",
       "<style scoped>\n",
       "    .dataframe tbody tr th:only-of-type {\n",
       "        vertical-align: middle;\n",
       "    }\n",
       "\n",
       "    .dataframe tbody tr th {\n",
       "        vertical-align: top;\n",
       "    }\n",
       "\n",
       "    .dataframe thead th {\n",
       "        text-align: right;\n",
       "    }\n",
       "</style>\n",
       "<table border=\"1\" class=\"dataframe\">\n",
       "  <thead>\n",
       "    <tr style=\"text-align: right;\">\n",
       "      <th></th>\n",
       "      <th>Unnamed: 0</th>\n",
       "      <th>zip_code</th>\n",
       "      <th>count</th>\n",
       "      <th>latitude</th>\n",
       "      <th>longitude</th>\n",
       "      <th>Price_1</th>\n",
       "      <th>Price_2</th>\n",
       "      <th>Price_3</th>\n",
       "      <th>Price_4</th>\n",
       "      <th>Rating_1</th>\n",
       "      <th>...</th>\n",
       "      <th>city_Yorba Linda</th>\n",
       "      <th>city_Yosemite National Park</th>\n",
       "      <th>city_Yountville</th>\n",
       "      <th>city_Yreka</th>\n",
       "      <th>city_Yuba City</th>\n",
       "      <th>city_Yucaipa</th>\n",
       "      <th>city_Yucca Valley</th>\n",
       "      <th>city_Zamora</th>\n",
       "      <th>city_Zillah</th>\n",
       "      <th>city_carlsbad</th>\n",
       "    </tr>\n",
       "  </thead>\n",
       "  <tbody>\n",
       "    <tr>\n",
       "      <th>0</th>\n",
       "      <td>0</td>\n",
       "      <td>90001</td>\n",
       "      <td>30</td>\n",
       "      <td>33.976530</td>\n",
       "      <td>-118.249230</td>\n",
       "      <td>18</td>\n",
       "      <td>12</td>\n",
       "      <td>0</td>\n",
       "      <td>0</td>\n",
       "      <td>0</td>\n",
       "      <td>...</td>\n",
       "      <td>0</td>\n",
       "      <td>0</td>\n",
       "      <td>0</td>\n",
       "      <td>0</td>\n",
       "      <td>0</td>\n",
       "      <td>0</td>\n",
       "      <td>0</td>\n",
       "      <td>0</td>\n",
       "      <td>0</td>\n",
       "      <td>0</td>\n",
       "    </tr>\n",
       "    <tr>\n",
       "      <th>1</th>\n",
       "      <td>1</td>\n",
       "      <td>90002</td>\n",
       "      <td>4</td>\n",
       "      <td>33.948102</td>\n",
       "      <td>-118.248582</td>\n",
       "      <td>3</td>\n",
       "      <td>1</td>\n",
       "      <td>0</td>\n",
       "      <td>0</td>\n",
       "      <td>0</td>\n",
       "      <td>...</td>\n",
       "      <td>0</td>\n",
       "      <td>0</td>\n",
       "      <td>0</td>\n",
       "      <td>0</td>\n",
       "      <td>0</td>\n",
       "      <td>0</td>\n",
       "      <td>0</td>\n",
       "      <td>0</td>\n",
       "      <td>0</td>\n",
       "      <td>0</td>\n",
       "    </tr>\n",
       "    <tr>\n",
       "      <th>2</th>\n",
       "      <td>2</td>\n",
       "      <td>90003</td>\n",
       "      <td>20</td>\n",
       "      <td>33.971906</td>\n",
       "      <td>-118.272539</td>\n",
       "      <td>16</td>\n",
       "      <td>4</td>\n",
       "      <td>0</td>\n",
       "      <td>0</td>\n",
       "      <td>0</td>\n",
       "      <td>...</td>\n",
       "      <td>0</td>\n",
       "      <td>0</td>\n",
       "      <td>0</td>\n",
       "      <td>0</td>\n",
       "      <td>0</td>\n",
       "      <td>0</td>\n",
       "      <td>0</td>\n",
       "      <td>0</td>\n",
       "      <td>0</td>\n",
       "      <td>0</td>\n",
       "    </tr>\n",
       "    <tr>\n",
       "      <th>3</th>\n",
       "      <td>3</td>\n",
       "      <td>90004</td>\n",
       "      <td>29</td>\n",
       "      <td>34.076563</td>\n",
       "      <td>-118.310331</td>\n",
       "      <td>10</td>\n",
       "      <td>19</td>\n",
       "      <td>0</td>\n",
       "      <td>0</td>\n",
       "      <td>0</td>\n",
       "      <td>...</td>\n",
       "      <td>0</td>\n",
       "      <td>0</td>\n",
       "      <td>0</td>\n",
       "      <td>0</td>\n",
       "      <td>0</td>\n",
       "      <td>0</td>\n",
       "      <td>0</td>\n",
       "      <td>0</td>\n",
       "      <td>0</td>\n",
       "      <td>0</td>\n",
       "    </tr>\n",
       "    <tr>\n",
       "      <th>4</th>\n",
       "      <td>4</td>\n",
       "      <td>90005</td>\n",
       "      <td>45</td>\n",
       "      <td>34.059083</td>\n",
       "      <td>-118.298835</td>\n",
       "      <td>11</td>\n",
       "      <td>33</td>\n",
       "      <td>1</td>\n",
       "      <td>0</td>\n",
       "      <td>0</td>\n",
       "      <td>...</td>\n",
       "      <td>0</td>\n",
       "      <td>0</td>\n",
       "      <td>0</td>\n",
       "      <td>0</td>\n",
       "      <td>0</td>\n",
       "      <td>0</td>\n",
       "      <td>0</td>\n",
       "      <td>0</td>\n",
       "      <td>0</td>\n",
       "      <td>0</td>\n",
       "    </tr>\n",
       "  </tbody>\n",
       "</table>\n",
       "<p>5 rows × 2056 columns</p>\n",
       "</div>"
      ],
      "text/plain": [
       "   Unnamed: 0  zip_code  count   latitude   longitude  Price_1  Price_2  \\\n",
       "0           0     90001     30  33.976530 -118.249230       18       12   \n",
       "1           1     90002      4  33.948102 -118.248582        3        1   \n",
       "2           2     90003     20  33.971906 -118.272539       16        4   \n",
       "3           3     90004     29  34.076563 -118.310331       10       19   \n",
       "4           4     90005     45  34.059083 -118.298835       11       33   \n",
       "\n",
       "   Price_3  Price_4  Rating_1  ...  city_Yorba Linda  \\\n",
       "0        0        0         0  ...                 0   \n",
       "1        0        0         0  ...                 0   \n",
       "2        0        0         0  ...                 0   \n",
       "3        0        0         0  ...                 0   \n",
       "4        1        0         0  ...                 0   \n",
       "\n",
       "   city_Yosemite National Park  city_Yountville  city_Yreka  city_Yuba City  \\\n",
       "0                            0                0           0               0   \n",
       "1                            0                0           0               0   \n",
       "2                            0                0           0               0   \n",
       "3                            0                0           0               0   \n",
       "4                            0                0           0               0   \n",
       "\n",
       "   city_Yucaipa  city_Yucca Valley  city_Zamora  city_Zillah city_carlsbad  \n",
       "0             0                  0            0            0             0  \n",
       "1             0                  0            0            0             0  \n",
       "2             0                  0            0            0             0  \n",
       "3             0                  0            0            0             0  \n",
       "4             0                  0            0            0             0  \n",
       "\n",
       "[5 rows x 2056 columns]"
      ]
     },
     "execution_count": 60,
     "metadata": {},
     "output_type": "execute_result"
    }
   ],
   "source": [
    "df.head()"
   ]
  },
  {
   "cell_type": "code",
   "execution_count": 61,
   "metadata": {},
   "outputs": [],
   "source": [
    "main_list.append('income')"
   ]
  },
  {
   "cell_type": "code",
   "execution_count": 62,
   "metadata": {},
   "outputs": [
    {
     "data": {
      "text/plain": [
       "111"
      ]
     },
     "execution_count": 62,
     "metadata": {},
     "output_type": "execute_result"
    }
   ],
   "source": [
    "len(main_list)"
   ]
  },
  {
   "cell_type": "code",
   "execution_count": 63,
   "metadata": {},
   "outputs": [
    {
     "data": {
      "text/plain": [
       "(2373, 111)"
      ]
     },
     "execution_count": 63,
     "metadata": {},
     "output_type": "execute_result"
    }
   ],
   "source": [
    "main_df = df[main_list]\n",
    "main_df.shape"
   ]
  },
  {
   "cell_type": "markdown",
   "metadata": {},
   "source": [
    "# Main DF with `income` is called `main_df`\n",
    "- 111 columns since income is included "
   ]
  },
  {
   "cell_type": "code",
   "execution_count": 64,
   "metadata": {},
   "outputs": [
    {
     "data": {
      "text/html": [
       "<div>\n",
       "<style scoped>\n",
       "    .dataframe tbody tr th:only-of-type {\n",
       "        vertical-align: middle;\n",
       "    }\n",
       "\n",
       "    .dataframe tbody tr th {\n",
       "        vertical-align: top;\n",
       "    }\n",
       "\n",
       "    .dataframe thead th {\n",
       "        text-align: right;\n",
       "    }\n",
       "</style>\n",
       "<table border=\"1\" class=\"dataframe\">\n",
       "  <thead>\n",
       "    <tr style=\"text-align: right;\">\n",
       "      <th></th>\n",
       "      <th>acaibowls</th>\n",
       "      <th>asianfusion</th>\n",
       "      <th>bakeries</th>\n",
       "      <th>breakfast_brunch</th>\n",
       "      <th>bubbletea</th>\n",
       "      <th>cafes</th>\n",
       "      <th>coffee</th>\n",
       "      <th>cupcakes</th>\n",
       "      <th>desserts</th>\n",
       "      <th>french</th>\n",
       "      <th>...</th>\n",
       "      <th>city_Spokane</th>\n",
       "      <th>city_Stockton</th>\n",
       "      <th>city_Sumpter</th>\n",
       "      <th>city_Thermal</th>\n",
       "      <th>city_Vernon</th>\n",
       "      <th>city_Wilderville</th>\n",
       "      <th>price_1_percentage</th>\n",
       "      <th>rate_2_percentage</th>\n",
       "      <th>count</th>\n",
       "      <th>income</th>\n",
       "    </tr>\n",
       "  </thead>\n",
       "  <tbody>\n",
       "    <tr>\n",
       "      <th>0</th>\n",
       "      <td>0</td>\n",
       "      <td>0</td>\n",
       "      <td>1</td>\n",
       "      <td>1</td>\n",
       "      <td>0</td>\n",
       "      <td>0</td>\n",
       "      <td>0</td>\n",
       "      <td>1</td>\n",
       "      <td>1</td>\n",
       "      <td>0</td>\n",
       "      <td>...</td>\n",
       "      <td>0</td>\n",
       "      <td>0</td>\n",
       "      <td>0</td>\n",
       "      <td>0</td>\n",
       "      <td>0</td>\n",
       "      <td>0</td>\n",
       "      <td>0.600000</td>\n",
       "      <td>0.0</td>\n",
       "      <td>30</td>\n",
       "      <td>35660</td>\n",
       "    </tr>\n",
       "    <tr>\n",
       "      <th>1</th>\n",
       "      <td>0</td>\n",
       "      <td>0</td>\n",
       "      <td>0</td>\n",
       "      <td>1</td>\n",
       "      <td>0</td>\n",
       "      <td>0</td>\n",
       "      <td>1</td>\n",
       "      <td>0</td>\n",
       "      <td>1</td>\n",
       "      <td>0</td>\n",
       "      <td>...</td>\n",
       "      <td>0</td>\n",
       "      <td>0</td>\n",
       "      <td>0</td>\n",
       "      <td>0</td>\n",
       "      <td>0</td>\n",
       "      <td>0</td>\n",
       "      <td>0.750000</td>\n",
       "      <td>0.0</td>\n",
       "      <td>4</td>\n",
       "      <td>34000</td>\n",
       "    </tr>\n",
       "    <tr>\n",
       "      <th>2</th>\n",
       "      <td>0</td>\n",
       "      <td>0</td>\n",
       "      <td>1</td>\n",
       "      <td>1</td>\n",
       "      <td>0</td>\n",
       "      <td>0</td>\n",
       "      <td>0</td>\n",
       "      <td>0</td>\n",
       "      <td>0</td>\n",
       "      <td>0</td>\n",
       "      <td>...</td>\n",
       "      <td>0</td>\n",
       "      <td>0</td>\n",
       "      <td>0</td>\n",
       "      <td>0</td>\n",
       "      <td>0</td>\n",
       "      <td>0</td>\n",
       "      <td>0.800000</td>\n",
       "      <td>0.0</td>\n",
       "      <td>20</td>\n",
       "      <td>34397</td>\n",
       "    </tr>\n",
       "    <tr>\n",
       "      <th>3</th>\n",
       "      <td>0</td>\n",
       "      <td>1</td>\n",
       "      <td>1</td>\n",
       "      <td>1</td>\n",
       "      <td>0</td>\n",
       "      <td>1</td>\n",
       "      <td>1</td>\n",
       "      <td>0</td>\n",
       "      <td>1</td>\n",
       "      <td>0</td>\n",
       "      <td>...</td>\n",
       "      <td>0</td>\n",
       "      <td>0</td>\n",
       "      <td>0</td>\n",
       "      <td>0</td>\n",
       "      <td>0</td>\n",
       "      <td>0</td>\n",
       "      <td>0.344828</td>\n",
       "      <td>0.0</td>\n",
       "      <td>29</td>\n",
       "      <td>46581</td>\n",
       "    </tr>\n",
       "    <tr>\n",
       "      <th>4</th>\n",
       "      <td>0</td>\n",
       "      <td>1</td>\n",
       "      <td>1</td>\n",
       "      <td>1</td>\n",
       "      <td>1</td>\n",
       "      <td>1</td>\n",
       "      <td>1</td>\n",
       "      <td>0</td>\n",
       "      <td>1</td>\n",
       "      <td>0</td>\n",
       "      <td>...</td>\n",
       "      <td>0</td>\n",
       "      <td>0</td>\n",
       "      <td>0</td>\n",
       "      <td>0</td>\n",
       "      <td>0</td>\n",
       "      <td>0</td>\n",
       "      <td>0.244444</td>\n",
       "      <td>0.0</td>\n",
       "      <td>45</td>\n",
       "      <td>32461</td>\n",
       "    </tr>\n",
       "  </tbody>\n",
       "</table>\n",
       "<p>5 rows × 111 columns</p>\n",
       "</div>"
      ],
      "text/plain": [
       "   acaibowls  asianfusion  bakeries  breakfast_brunch  bubbletea  cafes  \\\n",
       "0          0            0         1                 1          0      0   \n",
       "1          0            0         0                 1          0      0   \n",
       "2          0            0         1                 1          0      0   \n",
       "3          0            1         1                 1          0      1   \n",
       "4          0            1         1                 1          1      1   \n",
       "\n",
       "   coffee  cupcakes  desserts  french  ...  city_Spokane  city_Stockton  \\\n",
       "0       0         1         1       0  ...             0              0   \n",
       "1       1         0         1       0  ...             0              0   \n",
       "2       0         0         0       0  ...             0              0   \n",
       "3       1         0         1       0  ...             0              0   \n",
       "4       1         0         1       0  ...             0              0   \n",
       "\n",
       "   city_Sumpter  city_Thermal  city_Vernon  city_Wilderville  \\\n",
       "0             0             0            0                 0   \n",
       "1             0             0            0                 0   \n",
       "2             0             0            0                 0   \n",
       "3             0             0            0                 0   \n",
       "4             0             0            0                 0   \n",
       "\n",
       "   price_1_percentage  rate_2_percentage  count  income  \n",
       "0            0.600000                0.0     30   35660  \n",
       "1            0.750000                0.0      4   34000  \n",
       "2            0.800000                0.0     20   34397  \n",
       "3            0.344828                0.0     29   46581  \n",
       "4            0.244444                0.0     45   32461  \n",
       "\n",
       "[5 rows x 111 columns]"
      ]
     },
     "execution_count": 64,
     "metadata": {},
     "output_type": "execute_result"
    }
   ],
   "source": [
    "main_df.head()"
   ]
  },
  {
   "cell_type": "markdown",
   "metadata": {},
   "source": [
    "# Modeling Time!"
   ]
  },
  {
   "cell_type": "code",
   "execution_count": 65,
   "metadata": {},
   "outputs": [],
   "source": [
    "from sklearn.model_selection import cross_val_score\n",
    "from sklearn.linear_model import Lasso, LinearRegression, Ridge, ElasticNet\n",
    "from sklearn.ensemble import RandomForestRegressor, GradientBoostingRegressor, AdaBoostRegressor\n",
    "from sklearn.svm import SVR\n",
    "from sklearn.model_selection import train_test_split"
   ]
  },
  {
   "cell_type": "code",
   "execution_count": 66,
   "metadata": {},
   "outputs": [],
   "source": [
    "X = main_df.drop(labels = 'income', axis = 'columns')"
   ]
  },
  {
   "cell_type": "code",
   "execution_count": 67,
   "metadata": {},
   "outputs": [],
   "source": [
    "y = main_df['income']"
   ]
  },
  {
   "cell_type": "code",
   "execution_count": 68,
   "metadata": {},
   "outputs": [],
   "source": [
    "X_train, X_test, y_train, y_test = train_test_split(X, y, test_size=0.33, random_state=42)"
   ]
  },
  {
   "cell_type": "markdown",
   "metadata": {},
   "source": [
    "### Here are the following regression models we will use to predict median income"
   ]
  },
  {
   "cell_type": "code",
   "execution_count": 69,
   "metadata": {},
   "outputs": [],
   "source": [
    "lasso = Lasso()\n",
    "lr = LinearRegression()\n",
    "ridge = Ridge()\n",
    "rf = RandomForestRegressor()\n",
    "gb = GradientBoostingRegressor()\n",
    "ab = AdaBoostRegressor()\n",
    "svr = SVR()\n",
    "elastic = ElasticNet()"
   ]
  },
  {
   "cell_type": "code",
   "execution_count": 70,
   "metadata": {},
   "outputs": [
    {
     "data": {
      "text/plain": [
       "66761.95195954488"
      ]
     },
     "execution_count": 70,
     "metadata": {},
     "output_type": "execute_result"
    }
   ],
   "source": [
    "df['income'].mean()\n",
    "# 66,761 is my baseline"
   ]
  },
  {
   "cell_type": "code",
   "execution_count": 71,
   "metadata": {},
   "outputs": [
    {
     "name": "stdout",
     "output_type": "stream",
     "text": [
      " Lasso: 0.3079124852415288\n",
      " LR: 0.3074057825904798\n",
      " Ridge: 0.30877121530481666\n"
     ]
    },
    {
     "name": "stderr",
     "output_type": "stream",
     "text": [
      "/Users/erinhwang/anaconda3/lib/python3.7/site-packages/sklearn/ensemble/forest.py:245: FutureWarning: The default value of n_estimators will change from 10 in version 0.20 to 100 in 0.22.\n",
      "  \"10 in version 0.20 to 100 in 0.22.\", FutureWarning)\n",
      "/Users/erinhwang/anaconda3/lib/python3.7/site-packages/sklearn/ensemble/forest.py:245: FutureWarning: The default value of n_estimators will change from 10 in version 0.20 to 100 in 0.22.\n",
      "  \"10 in version 0.20 to 100 in 0.22.\", FutureWarning)\n",
      "/Users/erinhwang/anaconda3/lib/python3.7/site-packages/sklearn/ensemble/forest.py:245: FutureWarning: The default value of n_estimators will change from 10 in version 0.20 to 100 in 0.22.\n",
      "  \"10 in version 0.20 to 100 in 0.22.\", FutureWarning)\n",
      "/Users/erinhwang/anaconda3/lib/python3.7/site-packages/sklearn/ensemble/forest.py:245: FutureWarning: The default value of n_estimators will change from 10 in version 0.20 to 100 in 0.22.\n",
      "  \"10 in version 0.20 to 100 in 0.22.\", FutureWarning)\n",
      "/Users/erinhwang/anaconda3/lib/python3.7/site-packages/sklearn/ensemble/forest.py:245: FutureWarning: The default value of n_estimators will change from 10 in version 0.20 to 100 in 0.22.\n",
      "  \"10 in version 0.20 to 100 in 0.22.\", FutureWarning)\n"
     ]
    },
    {
     "name": "stdout",
     "output_type": "stream",
     "text": [
      " RF: 0.1947913496439921\n",
      " GB: 0.2803103292535628\n"
     ]
    }
   ],
   "source": [
    "print(f' Lasso: {cross_val_score(lasso, X_train, y_train, cv = 5).mean()}')\n",
    "print(f' LR: {cross_val_score(lr, X_train, y_train, cv = 5).mean()}')\n",
    "print(f' Ridge: {cross_val_score(ridge, X_train, y_train, cv = 5).mean()}')\n",
    "print(f' RF: {cross_val_score(rf, X_train, y_train, cv = 5).mean()}')\n",
    "print(f' GB: {cross_val_score(gb, X_train, y_train, cv = 5).mean()}')\n"
   ]
  },
  {
   "cell_type": "code",
   "execution_count": 72,
   "metadata": {},
   "outputs": [
    {
     "name": "stdout",
     "output_type": "stream",
     "text": [
      " AB: -0.11115810967624032\n"
     ]
    },
    {
     "name": "stderr",
     "output_type": "stream",
     "text": [
      "/Users/erinhwang/anaconda3/lib/python3.7/site-packages/sklearn/svm/base.py:193: FutureWarning: The default value of gamma will change from 'auto' to 'scale' in version 0.22 to account better for unscaled features. Set gamma explicitly to 'auto' or 'scale' to avoid this warning.\n",
      "  \"avoid this warning.\", FutureWarning)\n",
      "/Users/erinhwang/anaconda3/lib/python3.7/site-packages/sklearn/svm/base.py:193: FutureWarning: The default value of gamma will change from 'auto' to 'scale' in version 0.22 to account better for unscaled features. Set gamma explicitly to 'auto' or 'scale' to avoid this warning.\n",
      "  \"avoid this warning.\", FutureWarning)\n",
      "/Users/erinhwang/anaconda3/lib/python3.7/site-packages/sklearn/svm/base.py:193: FutureWarning: The default value of gamma will change from 'auto' to 'scale' in version 0.22 to account better for unscaled features. Set gamma explicitly to 'auto' or 'scale' to avoid this warning.\n",
      "  \"avoid this warning.\", FutureWarning)\n",
      "/Users/erinhwang/anaconda3/lib/python3.7/site-packages/sklearn/svm/base.py:193: FutureWarning: The default value of gamma will change from 'auto' to 'scale' in version 0.22 to account better for unscaled features. Set gamma explicitly to 'auto' or 'scale' to avoid this warning.\n",
      "  \"avoid this warning.\", FutureWarning)\n",
      "/Users/erinhwang/anaconda3/lib/python3.7/site-packages/sklearn/svm/base.py:193: FutureWarning: The default value of gamma will change from 'auto' to 'scale' in version 0.22 to account better for unscaled features. Set gamma explicitly to 'auto' or 'scale' to avoid this warning.\n",
      "  \"avoid this warning.\", FutureWarning)\n"
     ]
    },
    {
     "name": "stdout",
     "output_type": "stream",
     "text": [
      " SVR: -0.049297392508804536\n"
     ]
    }
   ],
   "source": [
    "print(f' AB: {cross_val_score(ab, X_train, y_train, cv = 5).mean()}')\n",
    "print(f' SVR: {cross_val_score(svr, X_train, y_train, cv = 5).mean()}')\n"
   ]
  },
  {
   "cell_type": "code",
   "execution_count": 73,
   "metadata": {},
   "outputs": [
    {
     "name": "stderr",
     "output_type": "stream",
     "text": [
      "/Users/erinhwang/anaconda3/lib/python3.7/site-packages/sklearn/model_selection/_split.py:657: Warning: The least populated class in y has only 1 members, which is too few. The minimum number of members in any class cannot be less than n_splits=3.\n",
      "  % (min_groups, self.n_splits)), Warning)\n"
     ]
    },
    {
     "name": "stdout",
     "output_type": "stream",
     "text": [
      " Bernoulli: 0.06652302035990097\n"
     ]
    },
    {
     "name": "stderr",
     "output_type": "stream",
     "text": [
      "/Users/erinhwang/anaconda3/lib/python3.7/site-packages/sklearn/model_selection/_split.py:657: Warning: The least populated class in y has only 1 members, which is too few. The minimum number of members in any class cannot be less than n_splits=3.\n",
      "  % (min_groups, self.n_splits)), Warning)\n"
     ]
    },
    {
     "name": "stdout",
     "output_type": "stream",
     "text": [
      " Gaussian: 0.05598510882016036\n"
     ]
    },
    {
     "name": "stderr",
     "output_type": "stream",
     "text": [
      "/Users/erinhwang/anaconda3/lib/python3.7/site-packages/sklearn/model_selection/_split.py:657: Warning: The least populated class in y has only 1 members, which is too few. The minimum number of members in any class cannot be less than n_splits=3.\n",
      "  % (min_groups, self.n_splits)), Warning)\n"
     ]
    },
    {
     "name": "stdout",
     "output_type": "stream",
     "text": [
      " Multi: 0.011182241436647823\n",
      " Elastic: 0.17533698263930447\n"
     ]
    }
   ],
   "source": [
    "\n",
    "print(f' Elastic: {cross_val_score(elastic, X_train, y_train, cv = 5).mean()}')"
   ]
  },
  {
   "cell_type": "markdown",
   "metadata": {},
   "source": [
    "# Trying PCA"
   ]
  },
  {
   "cell_type": "code",
   "execution_count": 74,
   "metadata": {},
   "outputs": [],
   "source": [
    "from sklearn.decomposition import PCA"
   ]
  },
  {
   "cell_type": "code",
   "execution_count": 75,
   "metadata": {},
   "outputs": [],
   "source": [
    "pca = PCA()\n",
    "pca.fit(X_train)\n",
    "pca_xtrain = pca.transform(X_train)"
   ]
  },
  {
   "cell_type": "code",
   "execution_count": 76,
   "metadata": {},
   "outputs": [
    {
     "name": "stdout",
     "output_type": "stream",
     "text": [
      " Lasso: 0.32490900671777306\n",
      " LR: 0.3074057825904817\n",
      " Ridge: 0.30877121530481694\n"
     ]
    },
    {
     "name": "stderr",
     "output_type": "stream",
     "text": [
      "/Users/erinhwang/anaconda3/lib/python3.7/site-packages/sklearn/ensemble/forest.py:245: FutureWarning: The default value of n_estimators will change from 10 in version 0.20 to 100 in 0.22.\n",
      "  \"10 in version 0.20 to 100 in 0.22.\", FutureWarning)\n",
      "/Users/erinhwang/anaconda3/lib/python3.7/site-packages/sklearn/ensemble/forest.py:245: FutureWarning: The default value of n_estimators will change from 10 in version 0.20 to 100 in 0.22.\n",
      "  \"10 in version 0.20 to 100 in 0.22.\", FutureWarning)\n",
      "/Users/erinhwang/anaconda3/lib/python3.7/site-packages/sklearn/ensemble/forest.py:245: FutureWarning: The default value of n_estimators will change from 10 in version 0.20 to 100 in 0.22.\n",
      "  \"10 in version 0.20 to 100 in 0.22.\", FutureWarning)\n",
      "/Users/erinhwang/anaconda3/lib/python3.7/site-packages/sklearn/ensemble/forest.py:245: FutureWarning: The default value of n_estimators will change from 10 in version 0.20 to 100 in 0.22.\n",
      "  \"10 in version 0.20 to 100 in 0.22.\", FutureWarning)\n",
      "/Users/erinhwang/anaconda3/lib/python3.7/site-packages/sklearn/ensemble/forest.py:245: FutureWarning: The default value of n_estimators will change from 10 in version 0.20 to 100 in 0.22.\n",
      "  \"10 in version 0.20 to 100 in 0.22.\", FutureWarning)\n"
     ]
    },
    {
     "name": "stdout",
     "output_type": "stream",
     "text": [
      " RF: 0.18870787771517833\n",
      " GB: 0.32457709382144595\n"
     ]
    }
   ],
   "source": [
    "print(f' Lasso: {cross_val_score(lasso, pca_xtrain, y_train, cv = 5).mean()}')\n",
    "print(f' LR: {cross_val_score(lr, pca_xtrain, y_train, cv = 5).mean()}')\n",
    "print(f' Ridge: {cross_val_score(ridge, pca_xtrain, y_train, cv = 5).mean()}')\n",
    "print(f' RF: {cross_val_score(rf, pca_xtrain, y_train, cv = 5).mean()}')\n",
    "print(f' GB: {cross_val_score(gb, pca_xtrain, y_train, cv = 5).mean()}')"
   ]
  },
  {
   "cell_type": "code",
   "execution_count": 77,
   "metadata": {},
   "outputs": [
    {
     "name": "stdout",
     "output_type": "stream",
     "text": [
      " AB: 0.141666322838698\n"
     ]
    },
    {
     "name": "stderr",
     "output_type": "stream",
     "text": [
      "/Users/erinhwang/anaconda3/lib/python3.7/site-packages/sklearn/svm/base.py:193: FutureWarning: The default value of gamma will change from 'auto' to 'scale' in version 0.22 to account better for unscaled features. Set gamma explicitly to 'auto' or 'scale' to avoid this warning.\n",
      "  \"avoid this warning.\", FutureWarning)\n",
      "/Users/erinhwang/anaconda3/lib/python3.7/site-packages/sklearn/svm/base.py:193: FutureWarning: The default value of gamma will change from 'auto' to 'scale' in version 0.22 to account better for unscaled features. Set gamma explicitly to 'auto' or 'scale' to avoid this warning.\n",
      "  \"avoid this warning.\", FutureWarning)\n",
      "/Users/erinhwang/anaconda3/lib/python3.7/site-packages/sklearn/svm/base.py:193: FutureWarning: The default value of gamma will change from 'auto' to 'scale' in version 0.22 to account better for unscaled features. Set gamma explicitly to 'auto' or 'scale' to avoid this warning.\n",
      "  \"avoid this warning.\", FutureWarning)\n",
      "/Users/erinhwang/anaconda3/lib/python3.7/site-packages/sklearn/svm/base.py:193: FutureWarning: The default value of gamma will change from 'auto' to 'scale' in version 0.22 to account better for unscaled features. Set gamma explicitly to 'auto' or 'scale' to avoid this warning.\n",
      "  \"avoid this warning.\", FutureWarning)\n",
      "/Users/erinhwang/anaconda3/lib/python3.7/site-packages/sklearn/svm/base.py:193: FutureWarning: The default value of gamma will change from 'auto' to 'scale' in version 0.22 to account better for unscaled features. Set gamma explicitly to 'auto' or 'scale' to avoid this warning.\n",
      "  \"avoid this warning.\", FutureWarning)\n"
     ]
    },
    {
     "name": "stdout",
     "output_type": "stream",
     "text": [
      " SVR: -0.049297392508804536\n"
     ]
    }
   ],
   "source": [
    "print(f' AB: {cross_val_score(ab, pca_xtrain, y_train, cv = 5).mean()}')\n",
    "print(f' SVR: {cross_val_score(svr, pca_xtrain, y_train, cv = 5).mean()}')"
   ]
  },
  {
   "cell_type": "code",
   "execution_count": 78,
   "metadata": {},
   "outputs": [
    {
     "name": "stderr",
     "output_type": "stream",
     "text": [
      "/Users/erinhwang/anaconda3/lib/python3.7/site-packages/sklearn/model_selection/_split.py:657: Warning: The least populated class in y has only 1 members, which is too few. The minimum number of members in any class cannot be less than n_splits=3.\n",
      "  % (min_groups, self.n_splits)), Warning)\n"
     ]
    },
    {
     "name": "stdout",
     "output_type": "stream",
     "text": [
      " Bernoulli: 0.0006443298969072165\n"
     ]
    },
    {
     "name": "stderr",
     "output_type": "stream",
     "text": [
      "/Users/erinhwang/anaconda3/lib/python3.7/site-packages/sklearn/model_selection/_split.py:657: Warning: The least populated class in y has only 1 members, which is too few. The minimum number of members in any class cannot be less than n_splits=3.\n",
      "  % (min_groups, self.n_splits)), Warning)\n"
     ]
    },
    {
     "name": "stdout",
     "output_type": "stream",
     "text": [
      " Gaussian: 0.05598510882016036\n",
      " Elastic: 0.1753585867969995\n"
     ]
    }
   ],
   "source": [
    "print(f' Bernoulli: {cross_val_score(bernoulli, pca_xtrain, y_train, cv = 3).mean()}')\n",
    "print(f' Gaussian: {cross_val_score(gaussian, pca_xtrain, y_train, cv = 3).mean()}')\n",
    "print(f' Elastic: {cross_val_score(elastic, pca_xtrain, y_train, cv = 5).mean()}')"
   ]
  },
  {
   "cell_type": "markdown",
   "metadata": {},
   "source": [
    "# Conclusion\n",
    "\n",
    "By executing principal component analysis, we will gridsearch the following models with PCA:\n",
    "- Lasso (cross val: .3249)\n",
    "- Linear Regression (cross val: .3074)\n",
    "- Ridge Regression (cross val: .3087)\n",
    "- Random Forest (cross val: .2195)\n",
    "- Gradient Boosting (cross val: .3295)\n",
    "\n",
    "Our test metric will be **RMSE**."
   ]
  },
  {
   "cell_type": "code",
   "execution_count": 79,
   "metadata": {},
   "outputs": [],
   "source": [
    "from sklearn.metrics import mean_squared_error"
   ]
  },
  {
   "cell_type": "code",
   "execution_count": 80,
   "metadata": {},
   "outputs": [],
   "source": [
    "pca_xtest = pca.transform(X_test)"
   ]
  },
  {
   "cell_type": "markdown",
   "metadata": {},
   "source": [
    "# GridSearch Time"
   ]
  },
  {
   "cell_type": "markdown",
   "metadata": {},
   "source": [
    "### Lasso (gs)"
   ]
  },
  {
   "cell_type": "code",
   "execution_count": 80,
   "metadata": {},
   "outputs": [
    {
     "name": "stdout",
     "output_type": "stream",
     "text": [
      "0.32710053631165337\n"
     ]
    },
    {
     "data": {
      "text/plain": [
       "{'l__alpha': 0.05, 'l__max_iter': 2000}"
      ]
     },
     "execution_count": 80,
     "metadata": {},
     "output_type": "execute_result"
    }
   ],
   "source": [
    "pipe = Pipeline([\n",
    "    ('l', Lasso())\n",
    "])\n",
    "\n",
    "pipe_params = {\n",
    "    'l__alpha': [0, 0.05, 0.01, 1],\n",
    "    'l__max_iter': [1000, 2000, 5000]\n",
    "   \n",
    "}\n",
    "\n",
    "\n",
    "gs = GridSearchCV(pipe, param_grid=pipe_params, cv=5, n_jobs = 3)\n",
    "\n",
    "\n",
    "gs.fit(pca_xtrain, y_train)\n",
    "\n",
    "\n",
    "print(gs.best_score_)\n",
    "gs.best_params_"
   ]
  },
  {
   "cell_type": "code",
   "execution_count": 82,
   "metadata": {},
   "outputs": [
    {
     "data": {
      "text/plain": [
       "0.48790502981554396"
      ]
     },
     "execution_count": 82,
     "metadata": {},
     "output_type": "execute_result"
    }
   ],
   "source": [
    "gs.score(pca_xtrain, y_train)"
   ]
  },
  {
   "cell_type": "code",
   "execution_count": 83,
   "metadata": {},
   "outputs": [
    {
     "data": {
      "text/plain": [
       "0.32535259831839036"
      ]
     },
     "execution_count": 83,
     "metadata": {},
     "output_type": "execute_result"
    }
   ],
   "source": [
    "gs.score(pca_xtest, y_test)"
   ]
  },
  {
   "cell_type": "code",
   "execution_count": 84,
   "metadata": {},
   "outputs": [],
   "source": [
    "lasso_pred = gs.predict(pca_xtest)"
   ]
  },
  {
   "cell_type": "code",
   "execution_count": 86,
   "metadata": {},
   "outputs": [
    {
     "name": "stdout",
     "output_type": "stream",
     "text": [
      " RMSE: 24043.3317456937\n"
     ]
    }
   ],
   "source": [
    "print(f' RMSE: {mean_squared_error(y_test, lasso_pred)**0.5}')"
   ]
  },
  {
   "cell_type": "markdown",
   "metadata": {},
   "source": [
    "### Linear Regression (gs2)"
   ]
  },
  {
   "cell_type": "code",
   "execution_count": 89,
   "metadata": {},
   "outputs": [
    {
     "name": "stdout",
     "output_type": "stream",
     "text": [
      "0.3073640187357756\n"
     ]
    },
    {
     "name": "stderr",
     "output_type": "stream",
     "text": [
      "/Users/erinhwang/anaconda3/lib/python3.7/site-packages/sklearn/model_selection/_search.py:841: DeprecationWarning: The default of the `iid` parameter will change from True to False in version 0.22 and will be removed in 0.24. This will change numeric results when test-set sizes are unequal.\n",
      "  DeprecationWarning)\n"
     ]
    },
    {
     "data": {
      "text/plain": [
       "{'lr__copy_X': True, 'lr__fit_intercept': True, 'lr__normalize': False}"
      ]
     },
     "execution_count": 89,
     "metadata": {},
     "output_type": "execute_result"
    }
   ],
   "source": [
    "pipe = Pipeline([\n",
    "    ('lr', LinearRegression())\n",
    "])\n",
    "\n",
    "pipe_params = {\n",
    "    'lr__fit_intercept': [True, False],\n",
    "    'lr__normalize': [True, False],\n",
    "    'lr__copy_X': [True, False]\n",
    "  \n",
    "   \n",
    "}\n",
    "\n",
    "\n",
    "gs2 = GridSearchCV(pipe, param_grid=pipe_params, cv=5, n_jobs = 3)\n",
    "\n",
    "\n",
    "gs2.fit(pca_xtrain, y_train)\n",
    "\n",
    "\n",
    "print(gs2.best_score_)\n",
    "gs2.best_params_"
   ]
  },
  {
   "cell_type": "code",
   "execution_count": 90,
   "metadata": {},
   "outputs": [
    {
     "data": {
      "text/plain": [
       "0.4879052363678264"
      ]
     },
     "execution_count": 90,
     "metadata": {},
     "output_type": "execute_result"
    }
   ],
   "source": [
    "gs2.score(pca_xtrain, y_train)"
   ]
  },
  {
   "cell_type": "code",
   "execution_count": 91,
   "metadata": {},
   "outputs": [
    {
     "data": {
      "text/plain": [
       "0.32533101646386176"
      ]
     },
     "execution_count": 91,
     "metadata": {},
     "output_type": "execute_result"
    }
   ],
   "source": [
    "gs2.score(pca_xtest, y_test)"
   ]
  },
  {
   "cell_type": "code",
   "execution_count": 92,
   "metadata": {},
   "outputs": [],
   "source": [
    "lr_pred = gs2.predict(pca_xtest)"
   ]
  },
  {
   "cell_type": "code",
   "execution_count": 93,
   "metadata": {},
   "outputs": [
    {
     "name": "stdout",
     "output_type": "stream",
     "text": [
      " RMSE: 24043.716313645058\n"
     ]
    }
   ],
   "source": [
    "print(f' RMSE: {mean_squared_error(y_test, lr_pred)**0.5}')"
   ]
  },
  {
   "cell_type": "markdown",
   "metadata": {},
   "source": [
    "### Ridge Regression (gs3)"
   ]
  },
  {
   "cell_type": "code",
   "execution_count": 94,
   "metadata": {},
   "outputs": [
    {
     "name": "stdout",
     "output_type": "stream",
     "text": [
      "0.3100156339681715\n"
     ]
    },
    {
     "name": "stderr",
     "output_type": "stream",
     "text": [
      "/Users/erinhwang/anaconda3/lib/python3.7/site-packages/sklearn/model_selection/_search.py:841: DeprecationWarning: The default of the `iid` parameter will change from True to False in version 0.22 and will be removed in 0.24. This will change numeric results when test-set sizes are unequal.\n",
      "  DeprecationWarning)\n"
     ]
    },
    {
     "data": {
      "text/plain": [
       "{'r__alpha': 0.5,\n",
       " 'r__copy_X': True,\n",
       " 'r__fit_intercept': True,\n",
       " 'r__normalize': False,\n",
       " 'r__solver': 'svd'}"
      ]
     },
     "execution_count": 94,
     "metadata": {},
     "output_type": "execute_result"
    }
   ],
   "source": [
    "pipe = Pipeline([\n",
    "    ('r', Ridge())\n",
    "])\n",
    "\n",
    "pipe_params = {\n",
    "    'r__alpha': [0.01, 0.1, 0.5, 1],\n",
    "    'r__fit_intercept': [True, False],\n",
    "    'r__normalize': [True, False],\n",
    "    'r__copy_X': [True, False],\n",
    "    'r__solver': ['auto', 'svd', 'cholesky', 'lsqr', 'sparse_cg', 'sag', 'saga']\n",
    "  \n",
    "  \n",
    "}\n",
    "\n",
    "\n",
    "gs3 = GridSearchCV(pipe, param_grid=pipe_params, cv=5, n_jobs = 3)\n",
    "\n",
    "\n",
    "gs3.fit(pca_xtrain, y_train)\n",
    "\n",
    "\n",
    "print(gs3.best_score_)\n",
    "gs3.best_params_"
   ]
  },
  {
   "cell_type": "code",
   "execution_count": 95,
   "metadata": {},
   "outputs": [
    {
     "data": {
      "text/plain": [
       "0.47319948505533793"
      ]
     },
     "execution_count": 95,
     "metadata": {},
     "output_type": "execute_result"
    }
   ],
   "source": [
    "gs3.score(pca_xtrain, y_train)"
   ]
  },
  {
   "cell_type": "code",
   "execution_count": 96,
   "metadata": {},
   "outputs": [
    {
     "data": {
      "text/plain": [
       "0.3241692096069978"
      ]
     },
     "execution_count": 96,
     "metadata": {},
     "output_type": "execute_result"
    }
   ],
   "source": [
    "gs3.score(pca_xtest, y_test)"
   ]
  },
  {
   "cell_type": "code",
   "execution_count": 97,
   "metadata": {},
   "outputs": [],
   "source": [
    "ridge_pred = gs3.predict(pca_xtest)"
   ]
  },
  {
   "cell_type": "code",
   "execution_count": 98,
   "metadata": {},
   "outputs": [
    {
     "name": "stdout",
     "output_type": "stream",
     "text": [
      " RMSE: 24064.40952733273\n"
     ]
    }
   ],
   "source": [
    "print(f' RMSE: {mean_squared_error(y_test, ridge_pred)**0.5}')"
   ]
  },
  {
   "cell_type": "markdown",
   "metadata": {},
   "source": [
    "### Random Forest (gs4)"
   ]
  },
  {
   "cell_type": "code",
   "execution_count": 99,
   "metadata": {},
   "outputs": [
    {
     "name": "stderr",
     "output_type": "stream",
     "text": [
      "/Users/erinhwang/anaconda3/lib/python3.7/site-packages/sklearn/ensemble/forest.py:246: FutureWarning: The default value of n_estimators will change from 10 in version 0.20 to 100 in 0.22.\n",
      "  \"10 in version 0.20 to 100 in 0.22.\", FutureWarning)\n"
     ]
    },
    {
     "name": "stdout",
     "output_type": "stream",
     "text": [
      "0.2685183554572861\n"
     ]
    },
    {
     "data": {
      "text/plain": [
       "{'rf__max_depth': 10,\n",
       " 'rf__max_features': 'auto',\n",
       " 'rf__max_leaf_nodes': None,\n",
       " 'rf__min_samples_leaf': 1,\n",
       " 'rf__min_samples_split': 5,\n",
       " 'rf__warm_start': True}"
      ]
     },
     "execution_count": 99,
     "metadata": {},
     "output_type": "execute_result"
    }
   ],
   "source": [
    "pipe = Pipeline([\n",
    "    ('rf', RandomForestRegressor())\n",
    "])\n",
    "\n",
    "pipe_params = {\n",
    "    'rf__max_depth': [None, 10, 30, 100],\n",
    "    'rf__min_samples_split': [2, 5, 10],\n",
    "    'rf__min_samples_leaf': [1, 5, 9],\n",
    "    'rf__max_features': ['auto', 'sqrt', 'log2'],\n",
    "    'rf__max_leaf_nodes': [None, 2],\n",
    "    'rf__warm_start': [True, False]\n",
    "    \n",
    "\n",
    "  \n",
    "}\n",
    "\n",
    "\n",
    "gs4 = GridSearchCV(pipe, param_grid=pipe_params, cv=5, n_jobs = 3)\n",
    "\n",
    "\n",
    "gs4.fit(pca_xtrain, y_train)\n",
    "\n",
    "\n",
    "print(gs4.best_score_)\n",
    "gs4.best_params_"
   ]
  },
  {
   "cell_type": "code",
   "execution_count": 100,
   "metadata": {},
   "outputs": [
    {
     "data": {
      "text/plain": [
       "0.6793401390012577"
      ]
     },
     "execution_count": 100,
     "metadata": {},
     "output_type": "execute_result"
    }
   ],
   "source": [
    "gs4.score(pca_xtrain, y_train)"
   ]
  },
  {
   "cell_type": "code",
   "execution_count": 101,
   "metadata": {},
   "outputs": [
    {
     "data": {
      "text/plain": [
       "0.21433313038686996"
      ]
     },
     "execution_count": 101,
     "metadata": {},
     "output_type": "execute_result"
    }
   ],
   "source": [
    "gs4.score(pca_xtest, y_test)"
   ]
  },
  {
   "cell_type": "code",
   "execution_count": 102,
   "metadata": {},
   "outputs": [],
   "source": [
    "rf_pred = gs4.predict(pca_xtest)"
   ]
  },
  {
   "cell_type": "code",
   "execution_count": 103,
   "metadata": {},
   "outputs": [
    {
     "name": "stdout",
     "output_type": "stream",
     "text": [
      " RMSE: 25946.30044863297\n"
     ]
    }
   ],
   "source": [
    "print(f' RMSE: {mean_squared_error(y_test, rf_pred)**0.5}')"
   ]
  },
  {
   "cell_type": "markdown",
   "metadata": {},
   "source": [
    "### Gradient Boost (gs5)"
   ]
  },
  {
   "cell_type": "code",
   "execution_count": 81,
   "metadata": {},
   "outputs": [
    {
     "name": "stdout",
     "output_type": "stream",
     "text": [
      "0.32709233496702295\n"
     ]
    },
    {
     "data": {
      "text/plain": [
       "{'gb__learning_rate': 0.1,\n",
       " 'gb__max_depth': 3,\n",
       " 'gb__max_features': None,\n",
       " 'gb__n_estimators': 200}"
      ]
     },
     "execution_count": 81,
     "metadata": {},
     "output_type": "execute_result"
    }
   ],
   "source": [
    "pipe = Pipeline([\n",
    "    ('gb', GradientBoostingRegressor())\n",
    "])\n",
    "\n",
    "pipe_params = {\n",
    "    'gb__learning_rate': [0.1, 0.05, 0.3],\n",
    "    'gb__n_estimators': [100, 200, 500],\n",
    "    #'gb__min_samples_split': [2, 3, 5],\n",
    "    #'gb__min_samples_leaf': [1, 2, 5],\n",
    "    #'gb__max_leaf_nodes': [None, 2],\n",
    "    'gb__max_depth': [3, 2],\n",
    "    'gb__max_features': [None, 2, 5],\n",
    "    #'gb__alpha': [0.9, 0.5, 0.1]\n",
    "  \n",
    "}\n",
    "\n",
    "\n",
    "gs5 = GridSearchCV(pipe, param_grid=pipe_params, cv=5, n_jobs = 3)\n",
    "\n",
    "\n",
    "gs5.fit(pca_xtrain, y_train)\n",
    "\n",
    "\n",
    "print(gs5.best_score_)\n",
    "gs5.best_params_"
   ]
  },
  {
   "cell_type": "code",
   "execution_count": 82,
   "metadata": {},
   "outputs": [
    {
     "data": {
      "text/plain": [
       "0.815750062811482"
      ]
     },
     "execution_count": 82,
     "metadata": {},
     "output_type": "execute_result"
    }
   ],
   "source": [
    "gs5.score(pca_xtrain, y_train)"
   ]
  },
  {
   "cell_type": "code",
   "execution_count": 83,
   "metadata": {},
   "outputs": [
    {
     "data": {
      "text/plain": [
       "0.3147679612082943"
      ]
     },
     "execution_count": 83,
     "metadata": {},
     "output_type": "execute_result"
    }
   ],
   "source": [
    "gs5.score(pca_xtest, y_test)"
   ]
  },
  {
   "cell_type": "code",
   "execution_count": 84,
   "metadata": {},
   "outputs": [],
   "source": [
    "gb_pred = gs5.predict(pca_xtest)"
   ]
  },
  {
   "cell_type": "code",
   "execution_count": 85,
   "metadata": {},
   "outputs": [
    {
     "name": "stdout",
     "output_type": "stream",
     "text": [
      " RMSE: 24231.207303454954\n"
     ]
    }
   ],
   "source": [
    "print(f' RMSE: {mean_squared_error(y_test, gb_pred)**0.5}')"
   ]
  },
  {
   "cell_type": "markdown",
   "metadata": {},
   "source": [
    "# Conclusion \n",
    "- Given the time we have, our ideal model is gradient boosting\n",
    "\n",
    "Let's first transform our demo testing csv!"
   ]
  },
  {
   "cell_type": "code",
   "execution_count": 92,
   "metadata": {},
   "outputs": [
    {
     "data": {
      "text/html": [
       "<div>\n",
       "<style scoped>\n",
       "    .dataframe tbody tr th:only-of-type {\n",
       "        vertical-align: middle;\n",
       "    }\n",
       "\n",
       "    .dataframe tbody tr th {\n",
       "        vertical-align: top;\n",
       "    }\n",
       "\n",
       "    .dataframe thead th {\n",
       "        text-align: right;\n",
       "    }\n",
       "</style>\n",
       "<table border=\"1\" class=\"dataframe\">\n",
       "  <thead>\n",
       "    <tr style=\"text-align: right;\">\n",
       "      <th></th>\n",
       "      <th>Unnamed: 0</th>\n",
       "      <th>zip_code</th>\n",
       "      <th>acaibowls</th>\n",
       "      <th>asianfusion</th>\n",
       "      <th>bakeries</th>\n",
       "      <th>breakfast_brunch</th>\n",
       "      <th>bubbletea</th>\n",
       "      <th>cafes</th>\n",
       "      <th>coffee</th>\n",
       "      <th>cupcakes</th>\n",
       "      <th>...</th>\n",
       "      <th>city_Slab City</th>\n",
       "      <th>city_Spokane</th>\n",
       "      <th>city_Stockton</th>\n",
       "      <th>city_Sumpter</th>\n",
       "      <th>city_Thermal</th>\n",
       "      <th>city_Vernon</th>\n",
       "      <th>city_Wilderville</th>\n",
       "      <th>price_1_percentage</th>\n",
       "      <th>rate_2_percentage</th>\n",
       "      <th>count</th>\n",
       "    </tr>\n",
       "  </thead>\n",
       "  <tbody>\n",
       "    <tr>\n",
       "      <th>0</th>\n",
       "      <td>0</td>\n",
       "      <td>90071</td>\n",
       "      <td>9.405622</td>\n",
       "      <td>-0.836703</td>\n",
       "      <td>0.021364</td>\n",
       "      <td>-0.969478</td>\n",
       "      <td>0.247380</td>\n",
       "      <td>0.737829</td>\n",
       "      <td>1.140817</td>\n",
       "      <td>-0.152386</td>\n",
       "      <td>...</td>\n",
       "      <td>-1.828033e-17</td>\n",
       "      <td>-1.465002e-17</td>\n",
       "      <td>1.569528e-17</td>\n",
       "      <td>-4.791515e-18</td>\n",
       "      <td>4.973684e-18</td>\n",
       "      <td>3.515378e-31</td>\n",
       "      <td>-1.389210e-32</td>\n",
       "      <td>-7.601189e-33</td>\n",
       "      <td>-2.366531e-16</td>\n",
       "      <td>4.096630e-16</td>\n",
       "    </tr>\n",
       "    <tr>\n",
       "      <th>1</th>\n",
       "      <td>1</td>\n",
       "      <td>91980</td>\n",
       "      <td>-27.695649</td>\n",
       "      <td>0.724556</td>\n",
       "      <td>0.335565</td>\n",
       "      <td>-0.112465</td>\n",
       "      <td>0.159981</td>\n",
       "      <td>0.005022</td>\n",
       "      <td>-0.157311</td>\n",
       "      <td>-0.017526</td>\n",
       "      <td>...</td>\n",
       "      <td>5.555756e-17</td>\n",
       "      <td>3.980733e-17</td>\n",
       "      <td>4.630032e-20</td>\n",
       "      <td>4.941619e-18</td>\n",
       "      <td>3.996733e-17</td>\n",
       "      <td>3.713720e-31</td>\n",
       "      <td>3.703589e-33</td>\n",
       "      <td>-1.257503e-33</td>\n",
       "      <td>5.208108e-16</td>\n",
       "      <td>-2.823416e-16</td>\n",
       "    </tr>\n",
       "    <tr>\n",
       "      <th>2</th>\n",
       "      <td>2</td>\n",
       "      <td>92055</td>\n",
       "      <td>-18.678026</td>\n",
       "      <td>0.433605</td>\n",
       "      <td>-0.448387</td>\n",
       "      <td>0.093646</td>\n",
       "      <td>0.473326</td>\n",
       "      <td>0.054742</td>\n",
       "      <td>-0.123058</td>\n",
       "      <td>-0.299356</td>\n",
       "      <td>...</td>\n",
       "      <td>2.017089e-17</td>\n",
       "      <td>-2.798521e-17</td>\n",
       "      <td>-1.172232e-17</td>\n",
       "      <td>-1.401241e-17</td>\n",
       "      <td>3.281239e-18</td>\n",
       "      <td>5.727834e-31</td>\n",
       "      <td>2.811242e-33</td>\n",
       "      <td>5.643115e-33</td>\n",
       "      <td>-8.677741e-17</td>\n",
       "      <td>7.063863e-17</td>\n",
       "    </tr>\n",
       "    <tr>\n",
       "      <th>3</th>\n",
       "      <td>3</td>\n",
       "      <td>92060</td>\n",
       "      <td>-27.698900</td>\n",
       "      <td>0.989627</td>\n",
       "      <td>0.725841</td>\n",
       "      <td>0.023040</td>\n",
       "      <td>-0.060072</td>\n",
       "      <td>-0.045320</td>\n",
       "      <td>-0.008747</td>\n",
       "      <td>0.211025</td>\n",
       "      <td>...</td>\n",
       "      <td>-1.140451e-17</td>\n",
       "      <td>-1.056607e-17</td>\n",
       "      <td>-7.913139e-18</td>\n",
       "      <td>3.364140e-18</td>\n",
       "      <td>-9.426830e-19</td>\n",
       "      <td>-5.192086e-31</td>\n",
       "      <td>8.803512e-33</td>\n",
       "      <td>-5.211948e-33</td>\n",
       "      <td>-2.239996e-16</td>\n",
       "      <td>8.003911e-17</td>\n",
       "    </tr>\n",
       "    <tr>\n",
       "      <th>4</th>\n",
       "      <td>4</td>\n",
       "      <td>92135</td>\n",
       "      <td>-25.699205</td>\n",
       "      <td>0.877975</td>\n",
       "      <td>0.250501</td>\n",
       "      <td>0.170778</td>\n",
       "      <td>0.199290</td>\n",
       "      <td>0.058945</td>\n",
       "      <td>-0.170717</td>\n",
       "      <td>0.264019</td>\n",
       "      <td>...</td>\n",
       "      <td>1.060275e-17</td>\n",
       "      <td>-2.431599e-17</td>\n",
       "      <td>-1.552350e-17</td>\n",
       "      <td>3.596100e-18</td>\n",
       "      <td>8.358603e-18</td>\n",
       "      <td>1.314040e-30</td>\n",
       "      <td>1.054766e-33</td>\n",
       "      <td>4.228426e-33</td>\n",
       "      <td>-6.781590e-17</td>\n",
       "      <td>1.126875e-16</td>\n",
       "    </tr>\n",
       "  </tbody>\n",
       "</table>\n",
       "<p>5 rows × 112 columns</p>\n",
       "</div>"
      ],
      "text/plain": [
       "   Unnamed: 0  zip_code  acaibowls  asianfusion  bakeries  breakfast_brunch  \\\n",
       "0           0     90071   9.405622    -0.836703  0.021364         -0.969478   \n",
       "1           1     91980 -27.695649     0.724556  0.335565         -0.112465   \n",
       "2           2     92055 -18.678026     0.433605 -0.448387          0.093646   \n",
       "3           3     92060 -27.698900     0.989627  0.725841          0.023040   \n",
       "4           4     92135 -25.699205     0.877975  0.250501          0.170778   \n",
       "\n",
       "   bubbletea     cafes    coffee  cupcakes  ...  city_Slab City  city_Spokane  \\\n",
       "0   0.247380  0.737829  1.140817 -0.152386  ...   -1.828033e-17 -1.465002e-17   \n",
       "1   0.159981  0.005022 -0.157311 -0.017526  ...    5.555756e-17  3.980733e-17   \n",
       "2   0.473326  0.054742 -0.123058 -0.299356  ...    2.017089e-17 -2.798521e-17   \n",
       "3  -0.060072 -0.045320 -0.008747  0.211025  ...   -1.140451e-17 -1.056607e-17   \n",
       "4   0.199290  0.058945 -0.170717  0.264019  ...    1.060275e-17 -2.431599e-17   \n",
       "\n",
       "   city_Stockton  city_Sumpter  city_Thermal   city_Vernon  city_Wilderville  \\\n",
       "0   1.569528e-17 -4.791515e-18  4.973684e-18  3.515378e-31     -1.389210e-32   \n",
       "1   4.630032e-20  4.941619e-18  3.996733e-17  3.713720e-31      3.703589e-33   \n",
       "2  -1.172232e-17 -1.401241e-17  3.281239e-18  5.727834e-31      2.811242e-33   \n",
       "3  -7.913139e-18  3.364140e-18 -9.426830e-19 -5.192086e-31      8.803512e-33   \n",
       "4  -1.552350e-17  3.596100e-18  8.358603e-18  1.314040e-30      1.054766e-33   \n",
       "\n",
       "   price_1_percentage  rate_2_percentage         count  \n",
       "0       -7.601189e-33      -2.366531e-16  4.096630e-16  \n",
       "1       -1.257503e-33       5.208108e-16 -2.823416e-16  \n",
       "2        5.643115e-33      -8.677741e-17  7.063863e-17  \n",
       "3       -5.211948e-33      -2.239996e-16  8.003911e-17  \n",
       "4        4.228426e-33      -6.781590e-17  1.126875e-16  \n",
       "\n",
       "[5 rows x 112 columns]"
      ]
     },
     "execution_count": 92,
     "metadata": {},
     "output_type": "execute_result"
    }
   ],
   "source": [
    "demo = pd.read_csv('./datasets/MARIOdemoMODEL.csv')\n",
    "demo.head()"
   ]
  },
  {
   "cell_type": "code",
   "execution_count": 93,
   "metadata": {},
   "outputs": [
    {
     "data": {
      "text/html": [
       "<div>\n",
       "<style scoped>\n",
       "    .dataframe tbody tr th:only-of-type {\n",
       "        vertical-align: middle;\n",
       "    }\n",
       "\n",
       "    .dataframe tbody tr th {\n",
       "        vertical-align: top;\n",
       "    }\n",
       "\n",
       "    .dataframe thead th {\n",
       "        text-align: right;\n",
       "    }\n",
       "</style>\n",
       "<table border=\"1\" class=\"dataframe\">\n",
       "  <thead>\n",
       "    <tr style=\"text-align: right;\">\n",
       "      <th></th>\n",
       "      <th>zip_code</th>\n",
       "      <th>acaibowls</th>\n",
       "      <th>asianfusion</th>\n",
       "      <th>bakeries</th>\n",
       "      <th>breakfast_brunch</th>\n",
       "      <th>bubbletea</th>\n",
       "      <th>cafes</th>\n",
       "      <th>coffee</th>\n",
       "      <th>cupcakes</th>\n",
       "      <th>desserts</th>\n",
       "      <th>...</th>\n",
       "      <th>city_Slab City</th>\n",
       "      <th>city_Spokane</th>\n",
       "      <th>city_Stockton</th>\n",
       "      <th>city_Sumpter</th>\n",
       "      <th>city_Thermal</th>\n",
       "      <th>city_Vernon</th>\n",
       "      <th>city_Wilderville</th>\n",
       "      <th>price_1_percentage</th>\n",
       "      <th>rate_2_percentage</th>\n",
       "      <th>count</th>\n",
       "    </tr>\n",
       "  </thead>\n",
       "  <tbody>\n",
       "    <tr>\n",
       "      <th>0</th>\n",
       "      <td>90071</td>\n",
       "      <td>9.405622</td>\n",
       "      <td>-0.836703</td>\n",
       "      <td>0.021364</td>\n",
       "      <td>-0.969478</td>\n",
       "      <td>0.247380</td>\n",
       "      <td>0.737829</td>\n",
       "      <td>1.140817</td>\n",
       "      <td>-0.152386</td>\n",
       "      <td>0.072772</td>\n",
       "      <td>...</td>\n",
       "      <td>-1.828033e-17</td>\n",
       "      <td>-1.465002e-17</td>\n",
       "      <td>1.569528e-17</td>\n",
       "      <td>-4.791515e-18</td>\n",
       "      <td>4.973684e-18</td>\n",
       "      <td>3.515378e-31</td>\n",
       "      <td>-1.389210e-32</td>\n",
       "      <td>-7.601189e-33</td>\n",
       "      <td>-2.366531e-16</td>\n",
       "      <td>4.096630e-16</td>\n",
       "    </tr>\n",
       "    <tr>\n",
       "      <th>1</th>\n",
       "      <td>91980</td>\n",
       "      <td>-27.695649</td>\n",
       "      <td>0.724556</td>\n",
       "      <td>0.335565</td>\n",
       "      <td>-0.112465</td>\n",
       "      <td>0.159981</td>\n",
       "      <td>0.005022</td>\n",
       "      <td>-0.157311</td>\n",
       "      <td>-0.017526</td>\n",
       "      <td>0.268266</td>\n",
       "      <td>...</td>\n",
       "      <td>5.555756e-17</td>\n",
       "      <td>3.980733e-17</td>\n",
       "      <td>4.630032e-20</td>\n",
       "      <td>4.941619e-18</td>\n",
       "      <td>3.996733e-17</td>\n",
       "      <td>3.713720e-31</td>\n",
       "      <td>3.703589e-33</td>\n",
       "      <td>-1.257503e-33</td>\n",
       "      <td>5.208108e-16</td>\n",
       "      <td>-2.823416e-16</td>\n",
       "    </tr>\n",
       "    <tr>\n",
       "      <th>2</th>\n",
       "      <td>92055</td>\n",
       "      <td>-18.678026</td>\n",
       "      <td>0.433605</td>\n",
       "      <td>-0.448387</td>\n",
       "      <td>0.093646</td>\n",
       "      <td>0.473326</td>\n",
       "      <td>0.054742</td>\n",
       "      <td>-0.123058</td>\n",
       "      <td>-0.299356</td>\n",
       "      <td>-0.292397</td>\n",
       "      <td>...</td>\n",
       "      <td>2.017089e-17</td>\n",
       "      <td>-2.798521e-17</td>\n",
       "      <td>-1.172232e-17</td>\n",
       "      <td>-1.401241e-17</td>\n",
       "      <td>3.281239e-18</td>\n",
       "      <td>5.727834e-31</td>\n",
       "      <td>2.811242e-33</td>\n",
       "      <td>5.643115e-33</td>\n",
       "      <td>-8.677741e-17</td>\n",
       "      <td>7.063863e-17</td>\n",
       "    </tr>\n",
       "    <tr>\n",
       "      <th>3</th>\n",
       "      <td>92060</td>\n",
       "      <td>-27.698900</td>\n",
       "      <td>0.989627</td>\n",
       "      <td>0.725841</td>\n",
       "      <td>0.023040</td>\n",
       "      <td>-0.060072</td>\n",
       "      <td>-0.045320</td>\n",
       "      <td>-0.008747</td>\n",
       "      <td>0.211025</td>\n",
       "      <td>0.032911</td>\n",
       "      <td>...</td>\n",
       "      <td>-1.140451e-17</td>\n",
       "      <td>-1.056607e-17</td>\n",
       "      <td>-7.913139e-18</td>\n",
       "      <td>3.364140e-18</td>\n",
       "      <td>-9.426830e-19</td>\n",
       "      <td>-5.192086e-31</td>\n",
       "      <td>8.803512e-33</td>\n",
       "      <td>-5.211948e-33</td>\n",
       "      <td>-2.239996e-16</td>\n",
       "      <td>8.003911e-17</td>\n",
       "    </tr>\n",
       "    <tr>\n",
       "      <th>4</th>\n",
       "      <td>92135</td>\n",
       "      <td>-25.699205</td>\n",
       "      <td>0.877975</td>\n",
       "      <td>0.250501</td>\n",
       "      <td>0.170778</td>\n",
       "      <td>0.199290</td>\n",
       "      <td>0.058945</td>\n",
       "      <td>-0.170717</td>\n",
       "      <td>0.264019</td>\n",
       "      <td>0.142209</td>\n",
       "      <td>...</td>\n",
       "      <td>1.060275e-17</td>\n",
       "      <td>-2.431599e-17</td>\n",
       "      <td>-1.552350e-17</td>\n",
       "      <td>3.596100e-18</td>\n",
       "      <td>8.358603e-18</td>\n",
       "      <td>1.314040e-30</td>\n",
       "      <td>1.054766e-33</td>\n",
       "      <td>4.228426e-33</td>\n",
       "      <td>-6.781590e-17</td>\n",
       "      <td>1.126875e-16</td>\n",
       "    </tr>\n",
       "  </tbody>\n",
       "</table>\n",
       "<p>5 rows × 111 columns</p>\n",
       "</div>"
      ],
      "text/plain": [
       "   zip_code  acaibowls  asianfusion  bakeries  breakfast_brunch  bubbletea  \\\n",
       "0     90071   9.405622    -0.836703  0.021364         -0.969478   0.247380   \n",
       "1     91980 -27.695649     0.724556  0.335565         -0.112465   0.159981   \n",
       "2     92055 -18.678026     0.433605 -0.448387          0.093646   0.473326   \n",
       "3     92060 -27.698900     0.989627  0.725841          0.023040  -0.060072   \n",
       "4     92135 -25.699205     0.877975  0.250501          0.170778   0.199290   \n",
       "\n",
       "      cafes    coffee  cupcakes  desserts  ...  city_Slab City  city_Spokane  \\\n",
       "0  0.737829  1.140817 -0.152386  0.072772  ...   -1.828033e-17 -1.465002e-17   \n",
       "1  0.005022 -0.157311 -0.017526  0.268266  ...    5.555756e-17  3.980733e-17   \n",
       "2  0.054742 -0.123058 -0.299356 -0.292397  ...    2.017089e-17 -2.798521e-17   \n",
       "3 -0.045320 -0.008747  0.211025  0.032911  ...   -1.140451e-17 -1.056607e-17   \n",
       "4  0.058945 -0.170717  0.264019  0.142209  ...    1.060275e-17 -2.431599e-17   \n",
       "\n",
       "   city_Stockton  city_Sumpter  city_Thermal   city_Vernon  city_Wilderville  \\\n",
       "0   1.569528e-17 -4.791515e-18  4.973684e-18  3.515378e-31     -1.389210e-32   \n",
       "1   4.630032e-20  4.941619e-18  3.996733e-17  3.713720e-31      3.703589e-33   \n",
       "2  -1.172232e-17 -1.401241e-17  3.281239e-18  5.727834e-31      2.811242e-33   \n",
       "3  -7.913139e-18  3.364140e-18 -9.426830e-19 -5.192086e-31      8.803512e-33   \n",
       "4  -1.552350e-17  3.596100e-18  8.358603e-18  1.314040e-30      1.054766e-33   \n",
       "\n",
       "   price_1_percentage  rate_2_percentage         count  \n",
       "0       -7.601189e-33      -2.366531e-16  4.096630e-16  \n",
       "1       -1.257503e-33       5.208108e-16 -2.823416e-16  \n",
       "2        5.643115e-33      -8.677741e-17  7.063863e-17  \n",
       "3       -5.211948e-33      -2.239996e-16  8.003911e-17  \n",
       "4        4.228426e-33      -6.781590e-17  1.126875e-16  \n",
       "\n",
       "[5 rows x 111 columns]"
      ]
     },
     "execution_count": 93,
     "metadata": {},
     "output_type": "execute_result"
    }
   ],
   "source": [
    "demo.drop(labels = ['Unnamed: 0'], axis = 'columns', inplace = True)\n",
    "demo.head()"
   ]
  },
  {
   "cell_type": "code",
   "execution_count": 94,
   "metadata": {},
   "outputs": [
    {
     "data": {
      "text/plain": [
       "(50, 111)"
      ]
     },
     "execution_count": 94,
     "metadata": {},
     "output_type": "execute_result"
    }
   ],
   "source": [
    "demo.shape"
   ]
  },
  {
   "cell_type": "code",
   "execution_count": 95,
   "metadata": {},
   "outputs": [],
   "source": [
    "zips_demo = list(demo['zip_code'])"
   ]
  },
  {
   "cell_type": "code",
   "execution_count": 96,
   "metadata": {},
   "outputs": [],
   "source": [
    "features = list(demo.columns)\n"
   ]
  },
  {
   "cell_type": "code",
   "execution_count": 97,
   "metadata": {},
   "outputs": [],
   "source": [
    "features.remove('zip_code')"
   ]
  },
  {
   "cell_type": "code",
   "execution_count": 98,
   "metadata": {},
   "outputs": [
    {
     "data": {
      "text/plain": [
       "110"
      ]
     },
     "execution_count": 98,
     "metadata": {},
     "output_type": "execute_result"
    }
   ],
   "source": [
    "len(features)"
   ]
  },
  {
   "cell_type": "code",
   "execution_count": 131,
   "metadata": {},
   "outputs": [],
   "source": [
    "demo_feat = demo[features]"
   ]
  },
  {
   "cell_type": "code",
   "execution_count": 132,
   "metadata": {},
   "outputs": [
    {
     "data": {
      "text/plain": [
       "(50, 110)"
      ]
     },
     "execution_count": 132,
     "metadata": {},
     "output_type": "execute_result"
    }
   ],
   "source": [
    "demo_feat.shape"
   ]
  },
  {
   "cell_type": "code",
   "execution_count": 133,
   "metadata": {},
   "outputs": [],
   "source": [
    "demo_feat_pca = pca.transform(demo_feat)"
   ]
  },
  {
   "cell_type": "code",
   "execution_count": 137,
   "metadata": {},
   "outputs": [],
   "source": [
    "demo_feat_pca_df = pd.DataFrame(demo_feat_pca, columns = features)"
   ]
  },
  {
   "cell_type": "code",
   "execution_count": 138,
   "metadata": {},
   "outputs": [
    {
     "data": {
      "text/html": [
       "<div>\n",
       "<style scoped>\n",
       "    .dataframe tbody tr th:only-of-type {\n",
       "        vertical-align: middle;\n",
       "    }\n",
       "\n",
       "    .dataframe tbody tr th {\n",
       "        vertical-align: top;\n",
       "    }\n",
       "\n",
       "    .dataframe thead th {\n",
       "        text-align: right;\n",
       "    }\n",
       "</style>\n",
       "<table border=\"1\" class=\"dataframe\">\n",
       "  <thead>\n",
       "    <tr style=\"text-align: right;\">\n",
       "      <th></th>\n",
       "      <th>acaibowls</th>\n",
       "      <th>asianfusion</th>\n",
       "      <th>bakeries</th>\n",
       "      <th>breakfast_brunch</th>\n",
       "      <th>bubbletea</th>\n",
       "      <th>cafes</th>\n",
       "      <th>coffee</th>\n",
       "      <th>cupcakes</th>\n",
       "      <th>desserts</th>\n",
       "      <th>french</th>\n",
       "      <th>...</th>\n",
       "      <th>city_Slab City</th>\n",
       "      <th>city_Spokane</th>\n",
       "      <th>city_Stockton</th>\n",
       "      <th>city_Sumpter</th>\n",
       "      <th>city_Thermal</th>\n",
       "      <th>city_Vernon</th>\n",
       "      <th>city_Wilderville</th>\n",
       "      <th>price_1_percentage</th>\n",
       "      <th>rate_2_percentage</th>\n",
       "      <th>count</th>\n",
       "    </tr>\n",
       "  </thead>\n",
       "  <tbody>\n",
       "    <tr>\n",
       "      <th>0</th>\n",
       "      <td>9.405622</td>\n",
       "      <td>-0.836703</td>\n",
       "      <td>0.021364</td>\n",
       "      <td>-0.969478</td>\n",
       "      <td>0.247380</td>\n",
       "      <td>0.737829</td>\n",
       "      <td>1.140817</td>\n",
       "      <td>-0.152386</td>\n",
       "      <td>0.072772</td>\n",
       "      <td>-0.192185</td>\n",
       "      <td>...</td>\n",
       "      <td>-1.828033e-17</td>\n",
       "      <td>-1.465002e-17</td>\n",
       "      <td>1.569528e-17</td>\n",
       "      <td>-4.791515e-18</td>\n",
       "      <td>4.973684e-18</td>\n",
       "      <td>3.515378e-31</td>\n",
       "      <td>-1.389210e-32</td>\n",
       "      <td>-7.601189e-33</td>\n",
       "      <td>-2.366531e-16</td>\n",
       "      <td>4.096630e-16</td>\n",
       "    </tr>\n",
       "    <tr>\n",
       "      <th>1</th>\n",
       "      <td>-27.695649</td>\n",
       "      <td>0.724556</td>\n",
       "      <td>0.335565</td>\n",
       "      <td>-0.112465</td>\n",
       "      <td>0.159981</td>\n",
       "      <td>0.005022</td>\n",
       "      <td>-0.157311</td>\n",
       "      <td>-0.017526</td>\n",
       "      <td>0.268266</td>\n",
       "      <td>0.089386</td>\n",
       "      <td>...</td>\n",
       "      <td>5.555756e-17</td>\n",
       "      <td>3.980733e-17</td>\n",
       "      <td>4.630032e-20</td>\n",
       "      <td>4.941619e-18</td>\n",
       "      <td>3.996733e-17</td>\n",
       "      <td>3.713720e-31</td>\n",
       "      <td>3.703589e-33</td>\n",
       "      <td>-1.257503e-33</td>\n",
       "      <td>5.208108e-16</td>\n",
       "      <td>-2.823416e-16</td>\n",
       "    </tr>\n",
       "    <tr>\n",
       "      <th>2</th>\n",
       "      <td>-18.678026</td>\n",
       "      <td>0.433605</td>\n",
       "      <td>-0.448387</td>\n",
       "      <td>0.093646</td>\n",
       "      <td>0.473326</td>\n",
       "      <td>0.054742</td>\n",
       "      <td>-0.123058</td>\n",
       "      <td>-0.299356</td>\n",
       "      <td>-0.292397</td>\n",
       "      <td>0.263258</td>\n",
       "      <td>...</td>\n",
       "      <td>2.017089e-17</td>\n",
       "      <td>-2.798521e-17</td>\n",
       "      <td>-1.172232e-17</td>\n",
       "      <td>-1.401241e-17</td>\n",
       "      <td>3.281239e-18</td>\n",
       "      <td>5.727834e-31</td>\n",
       "      <td>2.811242e-33</td>\n",
       "      <td>5.643115e-33</td>\n",
       "      <td>-8.677741e-17</td>\n",
       "      <td>7.063863e-17</td>\n",
       "    </tr>\n",
       "    <tr>\n",
       "      <th>3</th>\n",
       "      <td>-27.698900</td>\n",
       "      <td>0.989627</td>\n",
       "      <td>0.725841</td>\n",
       "      <td>0.023040</td>\n",
       "      <td>-0.060072</td>\n",
       "      <td>-0.045320</td>\n",
       "      <td>-0.008747</td>\n",
       "      <td>0.211025</td>\n",
       "      <td>0.032911</td>\n",
       "      <td>-0.067531</td>\n",
       "      <td>...</td>\n",
       "      <td>-1.140451e-17</td>\n",
       "      <td>-1.056607e-17</td>\n",
       "      <td>-7.913139e-18</td>\n",
       "      <td>3.364140e-18</td>\n",
       "      <td>-9.426830e-19</td>\n",
       "      <td>-5.192086e-31</td>\n",
       "      <td>8.803512e-33</td>\n",
       "      <td>-5.211948e-33</td>\n",
       "      <td>-2.239996e-16</td>\n",
       "      <td>8.003911e-17</td>\n",
       "    </tr>\n",
       "    <tr>\n",
       "      <th>4</th>\n",
       "      <td>-25.699205</td>\n",
       "      <td>0.877975</td>\n",
       "      <td>0.250501</td>\n",
       "      <td>0.170778</td>\n",
       "      <td>0.199290</td>\n",
       "      <td>0.058945</td>\n",
       "      <td>-0.170717</td>\n",
       "      <td>0.264019</td>\n",
       "      <td>0.142209</td>\n",
       "      <td>-0.241720</td>\n",
       "      <td>...</td>\n",
       "      <td>1.060275e-17</td>\n",
       "      <td>-2.431599e-17</td>\n",
       "      <td>-1.552350e-17</td>\n",
       "      <td>3.596100e-18</td>\n",
       "      <td>8.358603e-18</td>\n",
       "      <td>1.314040e-30</td>\n",
       "      <td>1.054766e-33</td>\n",
       "      <td>4.228426e-33</td>\n",
       "      <td>-6.781590e-17</td>\n",
       "      <td>1.126875e-16</td>\n",
       "    </tr>\n",
       "  </tbody>\n",
       "</table>\n",
       "<p>5 rows × 110 columns</p>\n",
       "</div>"
      ],
      "text/plain": [
       "   acaibowls  asianfusion  bakeries  breakfast_brunch  bubbletea     cafes  \\\n",
       "0   9.405622    -0.836703  0.021364         -0.969478   0.247380  0.737829   \n",
       "1 -27.695649     0.724556  0.335565         -0.112465   0.159981  0.005022   \n",
       "2 -18.678026     0.433605 -0.448387          0.093646   0.473326  0.054742   \n",
       "3 -27.698900     0.989627  0.725841          0.023040  -0.060072 -0.045320   \n",
       "4 -25.699205     0.877975  0.250501          0.170778   0.199290  0.058945   \n",
       "\n",
       "     coffee  cupcakes  desserts    french      ...       city_Slab City  \\\n",
       "0  1.140817 -0.152386  0.072772 -0.192185      ...        -1.828033e-17   \n",
       "1 -0.157311 -0.017526  0.268266  0.089386      ...         5.555756e-17   \n",
       "2 -0.123058 -0.299356 -0.292397  0.263258      ...         2.017089e-17   \n",
       "3 -0.008747  0.211025  0.032911 -0.067531      ...        -1.140451e-17   \n",
       "4 -0.170717  0.264019  0.142209 -0.241720      ...         1.060275e-17   \n",
       "\n",
       "   city_Spokane  city_Stockton  city_Sumpter  city_Thermal   city_Vernon  \\\n",
       "0 -1.465002e-17   1.569528e-17 -4.791515e-18  4.973684e-18  3.515378e-31   \n",
       "1  3.980733e-17   4.630032e-20  4.941619e-18  3.996733e-17  3.713720e-31   \n",
       "2 -2.798521e-17  -1.172232e-17 -1.401241e-17  3.281239e-18  5.727834e-31   \n",
       "3 -1.056607e-17  -7.913139e-18  3.364140e-18 -9.426830e-19 -5.192086e-31   \n",
       "4 -2.431599e-17  -1.552350e-17  3.596100e-18  8.358603e-18  1.314040e-30   \n",
       "\n",
       "   city_Wilderville  price_1_percentage  rate_2_percentage         count  \n",
       "0     -1.389210e-32       -7.601189e-33      -2.366531e-16  4.096630e-16  \n",
       "1      3.703589e-33       -1.257503e-33       5.208108e-16 -2.823416e-16  \n",
       "2      2.811242e-33        5.643115e-33      -8.677741e-17  7.063863e-17  \n",
       "3      8.803512e-33       -5.211948e-33      -2.239996e-16  8.003911e-17  \n",
       "4      1.054766e-33        4.228426e-33      -6.781590e-17  1.126875e-16  \n",
       "\n",
       "[5 rows x 110 columns]"
      ]
     },
     "execution_count": 138,
     "metadata": {},
     "output_type": "execute_result"
    }
   ],
   "source": [
    "demo_feat_pca_df.head()"
   ]
  },
  {
   "cell_type": "code",
   "execution_count": 141,
   "metadata": {},
   "outputs": [],
   "source": [
    "idx = 0\n",
    "demo_feat_pca_df.insert(loc=idx, column='zip_code', value=zips_demo)"
   ]
  },
  {
   "cell_type": "code",
   "execution_count": 142,
   "metadata": {},
   "outputs": [
    {
     "data": {
      "text/html": [
       "<div>\n",
       "<style scoped>\n",
       "    .dataframe tbody tr th:only-of-type {\n",
       "        vertical-align: middle;\n",
       "    }\n",
       "\n",
       "    .dataframe tbody tr th {\n",
       "        vertical-align: top;\n",
       "    }\n",
       "\n",
       "    .dataframe thead th {\n",
       "        text-align: right;\n",
       "    }\n",
       "</style>\n",
       "<table border=\"1\" class=\"dataframe\">\n",
       "  <thead>\n",
       "    <tr style=\"text-align: right;\">\n",
       "      <th></th>\n",
       "      <th>zip_code</th>\n",
       "      <th>acaibowls</th>\n",
       "      <th>asianfusion</th>\n",
       "      <th>bakeries</th>\n",
       "      <th>breakfast_brunch</th>\n",
       "      <th>bubbletea</th>\n",
       "      <th>cafes</th>\n",
       "      <th>coffee</th>\n",
       "      <th>cupcakes</th>\n",
       "      <th>desserts</th>\n",
       "      <th>...</th>\n",
       "      <th>city_Slab City</th>\n",
       "      <th>city_Spokane</th>\n",
       "      <th>city_Stockton</th>\n",
       "      <th>city_Sumpter</th>\n",
       "      <th>city_Thermal</th>\n",
       "      <th>city_Vernon</th>\n",
       "      <th>city_Wilderville</th>\n",
       "      <th>price_1_percentage</th>\n",
       "      <th>rate_2_percentage</th>\n",
       "      <th>count</th>\n",
       "    </tr>\n",
       "  </thead>\n",
       "  <tbody>\n",
       "    <tr>\n",
       "      <th>0</th>\n",
       "      <td>90071</td>\n",
       "      <td>9.405622</td>\n",
       "      <td>-0.836703</td>\n",
       "      <td>0.021364</td>\n",
       "      <td>-0.969478</td>\n",
       "      <td>0.247380</td>\n",
       "      <td>0.737829</td>\n",
       "      <td>1.140817</td>\n",
       "      <td>-0.152386</td>\n",
       "      <td>0.072772</td>\n",
       "      <td>...</td>\n",
       "      <td>-1.828033e-17</td>\n",
       "      <td>-1.465002e-17</td>\n",
       "      <td>1.569528e-17</td>\n",
       "      <td>-4.791515e-18</td>\n",
       "      <td>4.973684e-18</td>\n",
       "      <td>3.515378e-31</td>\n",
       "      <td>-1.389210e-32</td>\n",
       "      <td>-7.601189e-33</td>\n",
       "      <td>-2.366531e-16</td>\n",
       "      <td>4.096630e-16</td>\n",
       "    </tr>\n",
       "    <tr>\n",
       "      <th>1</th>\n",
       "      <td>91980</td>\n",
       "      <td>-27.695649</td>\n",
       "      <td>0.724556</td>\n",
       "      <td>0.335565</td>\n",
       "      <td>-0.112465</td>\n",
       "      <td>0.159981</td>\n",
       "      <td>0.005022</td>\n",
       "      <td>-0.157311</td>\n",
       "      <td>-0.017526</td>\n",
       "      <td>0.268266</td>\n",
       "      <td>...</td>\n",
       "      <td>5.555756e-17</td>\n",
       "      <td>3.980733e-17</td>\n",
       "      <td>4.630032e-20</td>\n",
       "      <td>4.941619e-18</td>\n",
       "      <td>3.996733e-17</td>\n",
       "      <td>3.713720e-31</td>\n",
       "      <td>3.703589e-33</td>\n",
       "      <td>-1.257503e-33</td>\n",
       "      <td>5.208108e-16</td>\n",
       "      <td>-2.823416e-16</td>\n",
       "    </tr>\n",
       "    <tr>\n",
       "      <th>2</th>\n",
       "      <td>92055</td>\n",
       "      <td>-18.678026</td>\n",
       "      <td>0.433605</td>\n",
       "      <td>-0.448387</td>\n",
       "      <td>0.093646</td>\n",
       "      <td>0.473326</td>\n",
       "      <td>0.054742</td>\n",
       "      <td>-0.123058</td>\n",
       "      <td>-0.299356</td>\n",
       "      <td>-0.292397</td>\n",
       "      <td>...</td>\n",
       "      <td>2.017089e-17</td>\n",
       "      <td>-2.798521e-17</td>\n",
       "      <td>-1.172232e-17</td>\n",
       "      <td>-1.401241e-17</td>\n",
       "      <td>3.281239e-18</td>\n",
       "      <td>5.727834e-31</td>\n",
       "      <td>2.811242e-33</td>\n",
       "      <td>5.643115e-33</td>\n",
       "      <td>-8.677741e-17</td>\n",
       "      <td>7.063863e-17</td>\n",
       "    </tr>\n",
       "    <tr>\n",
       "      <th>3</th>\n",
       "      <td>92060</td>\n",
       "      <td>-27.698900</td>\n",
       "      <td>0.989627</td>\n",
       "      <td>0.725841</td>\n",
       "      <td>0.023040</td>\n",
       "      <td>-0.060072</td>\n",
       "      <td>-0.045320</td>\n",
       "      <td>-0.008747</td>\n",
       "      <td>0.211025</td>\n",
       "      <td>0.032911</td>\n",
       "      <td>...</td>\n",
       "      <td>-1.140451e-17</td>\n",
       "      <td>-1.056607e-17</td>\n",
       "      <td>-7.913139e-18</td>\n",
       "      <td>3.364140e-18</td>\n",
       "      <td>-9.426830e-19</td>\n",
       "      <td>-5.192086e-31</td>\n",
       "      <td>8.803512e-33</td>\n",
       "      <td>-5.211948e-33</td>\n",
       "      <td>-2.239996e-16</td>\n",
       "      <td>8.003911e-17</td>\n",
       "    </tr>\n",
       "    <tr>\n",
       "      <th>4</th>\n",
       "      <td>92135</td>\n",
       "      <td>-25.699205</td>\n",
       "      <td>0.877975</td>\n",
       "      <td>0.250501</td>\n",
       "      <td>0.170778</td>\n",
       "      <td>0.199290</td>\n",
       "      <td>0.058945</td>\n",
       "      <td>-0.170717</td>\n",
       "      <td>0.264019</td>\n",
       "      <td>0.142209</td>\n",
       "      <td>...</td>\n",
       "      <td>1.060275e-17</td>\n",
       "      <td>-2.431599e-17</td>\n",
       "      <td>-1.552350e-17</td>\n",
       "      <td>3.596100e-18</td>\n",
       "      <td>8.358603e-18</td>\n",
       "      <td>1.314040e-30</td>\n",
       "      <td>1.054766e-33</td>\n",
       "      <td>4.228426e-33</td>\n",
       "      <td>-6.781590e-17</td>\n",
       "      <td>1.126875e-16</td>\n",
       "    </tr>\n",
       "  </tbody>\n",
       "</table>\n",
       "<p>5 rows × 111 columns</p>\n",
       "</div>"
      ],
      "text/plain": [
       "   zip_code  acaibowls  asianfusion  bakeries  breakfast_brunch  bubbletea  \\\n",
       "0     90071   9.405622    -0.836703  0.021364         -0.969478   0.247380   \n",
       "1     91980 -27.695649     0.724556  0.335565         -0.112465   0.159981   \n",
       "2     92055 -18.678026     0.433605 -0.448387          0.093646   0.473326   \n",
       "3     92060 -27.698900     0.989627  0.725841          0.023040  -0.060072   \n",
       "4     92135 -25.699205     0.877975  0.250501          0.170778   0.199290   \n",
       "\n",
       "      cafes    coffee  cupcakes  desserts      ...       city_Slab City  \\\n",
       "0  0.737829  1.140817 -0.152386  0.072772      ...        -1.828033e-17   \n",
       "1  0.005022 -0.157311 -0.017526  0.268266      ...         5.555756e-17   \n",
       "2  0.054742 -0.123058 -0.299356 -0.292397      ...         2.017089e-17   \n",
       "3 -0.045320 -0.008747  0.211025  0.032911      ...        -1.140451e-17   \n",
       "4  0.058945 -0.170717  0.264019  0.142209      ...         1.060275e-17   \n",
       "\n",
       "   city_Spokane  city_Stockton  city_Sumpter  city_Thermal   city_Vernon  \\\n",
       "0 -1.465002e-17   1.569528e-17 -4.791515e-18  4.973684e-18  3.515378e-31   \n",
       "1  3.980733e-17   4.630032e-20  4.941619e-18  3.996733e-17  3.713720e-31   \n",
       "2 -2.798521e-17  -1.172232e-17 -1.401241e-17  3.281239e-18  5.727834e-31   \n",
       "3 -1.056607e-17  -7.913139e-18  3.364140e-18 -9.426830e-19 -5.192086e-31   \n",
       "4 -2.431599e-17  -1.552350e-17  3.596100e-18  8.358603e-18  1.314040e-30   \n",
       "\n",
       "   city_Wilderville  price_1_percentage  rate_2_percentage         count  \n",
       "0     -1.389210e-32       -7.601189e-33      -2.366531e-16  4.096630e-16  \n",
       "1      3.703589e-33       -1.257503e-33       5.208108e-16 -2.823416e-16  \n",
       "2      2.811242e-33        5.643115e-33      -8.677741e-17  7.063863e-17  \n",
       "3      8.803512e-33       -5.211948e-33      -2.239996e-16  8.003911e-17  \n",
       "4      1.054766e-33        4.228426e-33      -6.781590e-17  1.126875e-16  \n",
       "\n",
       "[5 rows x 111 columns]"
      ]
     },
     "execution_count": 142,
     "metadata": {},
     "output_type": "execute_result"
    }
   ],
   "source": [
    "demo_feat_pca_df.head()"
   ]
  },
  {
   "cell_type": "code",
   "execution_count": 143,
   "metadata": {},
   "outputs": [
    {
     "data": {
      "text/plain": [
       "(50, 111)"
      ]
     },
     "execution_count": 143,
     "metadata": {},
     "output_type": "execute_result"
    }
   ],
   "source": [
    "demo_feat_pca_df.shape"
   ]
  },
  {
   "cell_type": "code",
   "execution_count": 148,
   "metadata": {},
   "outputs": [],
   "source": [
    "demo_feat_pca_df.to_csv('./datasets/MARIO_MODEL_PCA.csv')"
   ]
  },
  {
   "cell_type": "code",
   "execution_count": 149,
   "metadata": {},
   "outputs": [],
   "source": [
    "# df = pd.read_csv('./datasets/MARIOdemo.csv')\n",
    "# df.head()"
   ]
  },
  {
   "cell_type": "code",
   "execution_count": 150,
   "metadata": {},
   "outputs": [
    {
     "data": {
      "text/html": [
       "<div>\n",
       "<style scoped>\n",
       "    .dataframe tbody tr th:only-of-type {\n",
       "        vertical-align: middle;\n",
       "    }\n",
       "\n",
       "    .dataframe tbody tr th {\n",
       "        vertical-align: top;\n",
       "    }\n",
       "\n",
       "    .dataframe thead th {\n",
       "        text-align: right;\n",
       "    }\n",
       "</style>\n",
       "<table border=\"1\" class=\"dataframe\">\n",
       "  <thead>\n",
       "    <tr style=\"text-align: right;\">\n",
       "      <th></th>\n",
       "      <th>zip_code</th>\n",
       "      <th>acaibowls</th>\n",
       "      <th>asianfusion</th>\n",
       "      <th>bakeries</th>\n",
       "      <th>breakfast_brunch</th>\n",
       "      <th>bubbletea</th>\n",
       "      <th>cafes</th>\n",
       "      <th>coffee</th>\n",
       "      <th>cupcakes</th>\n",
       "      <th>desserts</th>\n",
       "      <th>...</th>\n",
       "      <th>city_Slab City</th>\n",
       "      <th>city_Spokane</th>\n",
       "      <th>city_Stockton</th>\n",
       "      <th>city_Sumpter</th>\n",
       "      <th>city_Thermal</th>\n",
       "      <th>city_Vernon</th>\n",
       "      <th>city_Wilderville</th>\n",
       "      <th>price_1_percentage</th>\n",
       "      <th>rate_2_percentage</th>\n",
       "      <th>count</th>\n",
       "    </tr>\n",
       "  </thead>\n",
       "  <tbody>\n",
       "    <tr>\n",
       "      <th>0</th>\n",
       "      <td>90071</td>\n",
       "      <td>9.405622</td>\n",
       "      <td>-0.836703</td>\n",
       "      <td>0.021364</td>\n",
       "      <td>-0.969478</td>\n",
       "      <td>0.247380</td>\n",
       "      <td>0.737829</td>\n",
       "      <td>1.140817</td>\n",
       "      <td>-0.152386</td>\n",
       "      <td>0.072772</td>\n",
       "      <td>...</td>\n",
       "      <td>-1.828033e-17</td>\n",
       "      <td>-1.465002e-17</td>\n",
       "      <td>1.569528e-17</td>\n",
       "      <td>-4.791515e-18</td>\n",
       "      <td>4.973684e-18</td>\n",
       "      <td>3.515378e-31</td>\n",
       "      <td>-1.389210e-32</td>\n",
       "      <td>-7.601189e-33</td>\n",
       "      <td>-2.366531e-16</td>\n",
       "      <td>4.096630e-16</td>\n",
       "    </tr>\n",
       "    <tr>\n",
       "      <th>1</th>\n",
       "      <td>91980</td>\n",
       "      <td>-27.695649</td>\n",
       "      <td>0.724556</td>\n",
       "      <td>0.335565</td>\n",
       "      <td>-0.112465</td>\n",
       "      <td>0.159981</td>\n",
       "      <td>0.005022</td>\n",
       "      <td>-0.157311</td>\n",
       "      <td>-0.017526</td>\n",
       "      <td>0.268266</td>\n",
       "      <td>...</td>\n",
       "      <td>5.555756e-17</td>\n",
       "      <td>3.980733e-17</td>\n",
       "      <td>4.630032e-20</td>\n",
       "      <td>4.941619e-18</td>\n",
       "      <td>3.996733e-17</td>\n",
       "      <td>3.713720e-31</td>\n",
       "      <td>3.703589e-33</td>\n",
       "      <td>-1.257503e-33</td>\n",
       "      <td>5.208108e-16</td>\n",
       "      <td>-2.823416e-16</td>\n",
       "    </tr>\n",
       "    <tr>\n",
       "      <th>2</th>\n",
       "      <td>92055</td>\n",
       "      <td>-18.678026</td>\n",
       "      <td>0.433605</td>\n",
       "      <td>-0.448387</td>\n",
       "      <td>0.093646</td>\n",
       "      <td>0.473326</td>\n",
       "      <td>0.054742</td>\n",
       "      <td>-0.123058</td>\n",
       "      <td>-0.299356</td>\n",
       "      <td>-0.292397</td>\n",
       "      <td>...</td>\n",
       "      <td>2.017089e-17</td>\n",
       "      <td>-2.798521e-17</td>\n",
       "      <td>-1.172232e-17</td>\n",
       "      <td>-1.401241e-17</td>\n",
       "      <td>3.281239e-18</td>\n",
       "      <td>5.727834e-31</td>\n",
       "      <td>2.811242e-33</td>\n",
       "      <td>5.643115e-33</td>\n",
       "      <td>-8.677741e-17</td>\n",
       "      <td>7.063863e-17</td>\n",
       "    </tr>\n",
       "    <tr>\n",
       "      <th>3</th>\n",
       "      <td>92060</td>\n",
       "      <td>-27.698900</td>\n",
       "      <td>0.989627</td>\n",
       "      <td>0.725841</td>\n",
       "      <td>0.023040</td>\n",
       "      <td>-0.060072</td>\n",
       "      <td>-0.045320</td>\n",
       "      <td>-0.008747</td>\n",
       "      <td>0.211025</td>\n",
       "      <td>0.032911</td>\n",
       "      <td>...</td>\n",
       "      <td>-1.140451e-17</td>\n",
       "      <td>-1.056607e-17</td>\n",
       "      <td>-7.913139e-18</td>\n",
       "      <td>3.364140e-18</td>\n",
       "      <td>-9.426830e-19</td>\n",
       "      <td>-5.192086e-31</td>\n",
       "      <td>8.803512e-33</td>\n",
       "      <td>-5.211948e-33</td>\n",
       "      <td>-2.239996e-16</td>\n",
       "      <td>8.003911e-17</td>\n",
       "    </tr>\n",
       "    <tr>\n",
       "      <th>4</th>\n",
       "      <td>92135</td>\n",
       "      <td>-25.699205</td>\n",
       "      <td>0.877975</td>\n",
       "      <td>0.250501</td>\n",
       "      <td>0.170778</td>\n",
       "      <td>0.199290</td>\n",
       "      <td>0.058945</td>\n",
       "      <td>-0.170717</td>\n",
       "      <td>0.264019</td>\n",
       "      <td>0.142209</td>\n",
       "      <td>...</td>\n",
       "      <td>1.060275e-17</td>\n",
       "      <td>-2.431599e-17</td>\n",
       "      <td>-1.552350e-17</td>\n",
       "      <td>3.596100e-18</td>\n",
       "      <td>8.358603e-18</td>\n",
       "      <td>1.314040e-30</td>\n",
       "      <td>1.054766e-33</td>\n",
       "      <td>4.228426e-33</td>\n",
       "      <td>-6.781590e-17</td>\n",
       "      <td>1.126875e-16</td>\n",
       "    </tr>\n",
       "  </tbody>\n",
       "</table>\n",
       "<p>5 rows × 111 columns</p>\n",
       "</div>"
      ],
      "text/plain": [
       "   zip_code  acaibowls  asianfusion  bakeries  breakfast_brunch  bubbletea  \\\n",
       "0     90071   9.405622    -0.836703  0.021364         -0.969478   0.247380   \n",
       "1     91980 -27.695649     0.724556  0.335565         -0.112465   0.159981   \n",
       "2     92055 -18.678026     0.433605 -0.448387          0.093646   0.473326   \n",
       "3     92060 -27.698900     0.989627  0.725841          0.023040  -0.060072   \n",
       "4     92135 -25.699205     0.877975  0.250501          0.170778   0.199290   \n",
       "\n",
       "      cafes    coffee  cupcakes  desserts      ...       city_Slab City  \\\n",
       "0  0.737829  1.140817 -0.152386  0.072772      ...        -1.828033e-17   \n",
       "1  0.005022 -0.157311 -0.017526  0.268266      ...         5.555756e-17   \n",
       "2  0.054742 -0.123058 -0.299356 -0.292397      ...         2.017089e-17   \n",
       "3 -0.045320 -0.008747  0.211025  0.032911      ...        -1.140451e-17   \n",
       "4  0.058945 -0.170717  0.264019  0.142209      ...         1.060275e-17   \n",
       "\n",
       "   city_Spokane  city_Stockton  city_Sumpter  city_Thermal   city_Vernon  \\\n",
       "0 -1.465002e-17   1.569528e-17 -4.791515e-18  4.973684e-18  3.515378e-31   \n",
       "1  3.980733e-17   4.630032e-20  4.941619e-18  3.996733e-17  3.713720e-31   \n",
       "2 -2.798521e-17  -1.172232e-17 -1.401241e-17  3.281239e-18  5.727834e-31   \n",
       "3 -1.056607e-17  -7.913139e-18  3.364140e-18 -9.426830e-19 -5.192086e-31   \n",
       "4 -2.431599e-17  -1.552350e-17  3.596100e-18  8.358603e-18  1.314040e-30   \n",
       "\n",
       "   city_Wilderville  price_1_percentage  rate_2_percentage         count  \n",
       "0     -1.389210e-32       -7.601189e-33      -2.366531e-16  4.096630e-16  \n",
       "1      3.703589e-33       -1.257503e-33       5.208108e-16 -2.823416e-16  \n",
       "2      2.811242e-33        5.643115e-33      -8.677741e-17  7.063863e-17  \n",
       "3      8.803512e-33       -5.211948e-33      -2.239996e-16  8.003911e-17  \n",
       "4      1.054766e-33        4.228426e-33      -6.781590e-17  1.126875e-16  \n",
       "\n",
       "[5 rows x 111 columns]"
      ]
     },
     "execution_count": 150,
     "metadata": {},
     "output_type": "execute_result"
    }
   ],
   "source": [
    "demo_feat_pca_df.head()"
   ]
  },
  {
   "cell_type": "code",
   "execution_count": 151,
   "metadata": {},
   "outputs": [
    {
     "data": {
      "text/plain": [
       "(50, 111)"
      ]
     },
     "execution_count": 151,
     "metadata": {},
     "output_type": "execute_result"
    }
   ],
   "source": [
    "demo_feat_pca_df.shape"
   ]
  },
  {
   "cell_type": "markdown",
   "metadata": {},
   "source": [
    "# Compressing Model Into Pickle for Flask"
   ]
  },
  {
   "cell_type": "code",
   "execution_count": 86,
   "metadata": {},
   "outputs": [],
   "source": [
    "#importing prediction model to pickle \n",
    "import pickle"
   ]
  },
  {
   "cell_type": "code",
   "execution_count": 87,
   "metadata": {},
   "outputs": [
    {
     "data": {
      "text/plain": [
       "'4.0'"
      ]
     },
     "execution_count": 87,
     "metadata": {},
     "output_type": "execute_result"
    }
   ],
   "source": [
    "pickle.format_version"
   ]
  },
  {
   "cell_type": "code",
   "execution_count": 88,
   "metadata": {},
   "outputs": [],
   "source": [
    "import sklearn"
   ]
  },
  {
   "cell_type": "code",
   "execution_count": 89,
   "metadata": {},
   "outputs": [
    {
     "data": {
      "text/plain": [
       "'0.21.2'"
      ]
     },
     "execution_count": 89,
     "metadata": {},
     "output_type": "execute_result"
    }
   ],
   "source": [
    "sklearn.__version__"
   ]
  },
  {
   "cell_type": "code",
   "execution_count": 90,
   "metadata": {},
   "outputs": [],
   "source": [
    "pickle.dump(gs5, open(\"model_gb_mother.pkl\", \"wb\"))"
   ]
  },
  {
   "cell_type": "markdown",
   "metadata": {},
   "source": [
    "---"
   ]
  },
  {
   "cell_type": "markdown",
   "metadata": {},
   "source": [
    "# Demo Testing\n",
    "- Note: The following codes are not commented since we are predicting our demo datasets to make sure our Flask app is predicting income properly"
   ]
  },
  {
   "cell_type": "code",
   "execution_count": 94,
   "metadata": {
    "scrolled": true
   },
   "outputs": [
    {
     "data": {
      "text/html": [
       "<div>\n",
       "<style scoped>\n",
       "    .dataframe tbody tr th:only-of-type {\n",
       "        vertical-align: middle;\n",
       "    }\n",
       "\n",
       "    .dataframe tbody tr th {\n",
       "        vertical-align: top;\n",
       "    }\n",
       "\n",
       "    .dataframe thead th {\n",
       "        text-align: right;\n",
       "    }\n",
       "</style>\n",
       "<table border=\"1\" class=\"dataframe\">\n",
       "  <thead>\n",
       "    <tr style=\"text-align: right;\">\n",
       "      <th></th>\n",
       "      <th>zip_code</th>\n",
       "      <th>acaibowls</th>\n",
       "      <th>asianfusion</th>\n",
       "      <th>bakeries</th>\n",
       "      <th>breakfast_brunch</th>\n",
       "      <th>bubbletea</th>\n",
       "      <th>cafes</th>\n",
       "      <th>coffee</th>\n",
       "      <th>cupcakes</th>\n",
       "      <th>desserts</th>\n",
       "      <th>...</th>\n",
       "      <th>city_Slab City</th>\n",
       "      <th>city_Spokane</th>\n",
       "      <th>city_Stockton</th>\n",
       "      <th>city_Sumpter</th>\n",
       "      <th>city_Thermal</th>\n",
       "      <th>city_Vernon</th>\n",
       "      <th>city_Wilderville</th>\n",
       "      <th>price_1_percentage</th>\n",
       "      <th>rate_2_percentage</th>\n",
       "      <th>count</th>\n",
       "    </tr>\n",
       "  </thead>\n",
       "  <tbody>\n",
       "    <tr>\n",
       "      <th>0</th>\n",
       "      <td>90071</td>\n",
       "      <td>9.405622</td>\n",
       "      <td>-0.836703</td>\n",
       "      <td>0.021364</td>\n",
       "      <td>-0.969478</td>\n",
       "      <td>0.247380</td>\n",
       "      <td>0.737829</td>\n",
       "      <td>1.140817</td>\n",
       "      <td>-0.152386</td>\n",
       "      <td>0.072772</td>\n",
       "      <td>...</td>\n",
       "      <td>-1.828033e-17</td>\n",
       "      <td>-1.465002e-17</td>\n",
       "      <td>1.569528e-17</td>\n",
       "      <td>-4.791515e-18</td>\n",
       "      <td>4.973684e-18</td>\n",
       "      <td>3.515378e-31</td>\n",
       "      <td>-1.389210e-32</td>\n",
       "      <td>-7.601189e-33</td>\n",
       "      <td>-2.366531e-16</td>\n",
       "      <td>4.096630e-16</td>\n",
       "    </tr>\n",
       "    <tr>\n",
       "      <th>1</th>\n",
       "      <td>91980</td>\n",
       "      <td>-27.695649</td>\n",
       "      <td>0.724556</td>\n",
       "      <td>0.335565</td>\n",
       "      <td>-0.112465</td>\n",
       "      <td>0.159981</td>\n",
       "      <td>0.005022</td>\n",
       "      <td>-0.157311</td>\n",
       "      <td>-0.017526</td>\n",
       "      <td>0.268266</td>\n",
       "      <td>...</td>\n",
       "      <td>5.555756e-17</td>\n",
       "      <td>3.980733e-17</td>\n",
       "      <td>4.630032e-20</td>\n",
       "      <td>4.941619e-18</td>\n",
       "      <td>3.996733e-17</td>\n",
       "      <td>3.713720e-31</td>\n",
       "      <td>3.703589e-33</td>\n",
       "      <td>-1.257503e-33</td>\n",
       "      <td>5.208108e-16</td>\n",
       "      <td>-2.823416e-16</td>\n",
       "    </tr>\n",
       "    <tr>\n",
       "      <th>2</th>\n",
       "      <td>92055</td>\n",
       "      <td>-18.678026</td>\n",
       "      <td>0.433605</td>\n",
       "      <td>-0.448387</td>\n",
       "      <td>0.093646</td>\n",
       "      <td>0.473326</td>\n",
       "      <td>0.054742</td>\n",
       "      <td>-0.123058</td>\n",
       "      <td>-0.299356</td>\n",
       "      <td>-0.292397</td>\n",
       "      <td>...</td>\n",
       "      <td>2.017089e-17</td>\n",
       "      <td>-2.798521e-17</td>\n",
       "      <td>-1.172232e-17</td>\n",
       "      <td>-1.401241e-17</td>\n",
       "      <td>3.281239e-18</td>\n",
       "      <td>5.727834e-31</td>\n",
       "      <td>2.811242e-33</td>\n",
       "      <td>5.643115e-33</td>\n",
       "      <td>-8.677741e-17</td>\n",
       "      <td>7.063863e-17</td>\n",
       "    </tr>\n",
       "    <tr>\n",
       "      <th>3</th>\n",
       "      <td>92060</td>\n",
       "      <td>-27.698900</td>\n",
       "      <td>0.989627</td>\n",
       "      <td>0.725841</td>\n",
       "      <td>0.023040</td>\n",
       "      <td>-0.060072</td>\n",
       "      <td>-0.045320</td>\n",
       "      <td>-0.008747</td>\n",
       "      <td>0.211025</td>\n",
       "      <td>0.032911</td>\n",
       "      <td>...</td>\n",
       "      <td>-1.140451e-17</td>\n",
       "      <td>-1.056607e-17</td>\n",
       "      <td>-7.913139e-18</td>\n",
       "      <td>3.364140e-18</td>\n",
       "      <td>-9.426830e-19</td>\n",
       "      <td>-5.192086e-31</td>\n",
       "      <td>8.803512e-33</td>\n",
       "      <td>-5.211948e-33</td>\n",
       "      <td>-2.239996e-16</td>\n",
       "      <td>8.003911e-17</td>\n",
       "    </tr>\n",
       "    <tr>\n",
       "      <th>4</th>\n",
       "      <td>92135</td>\n",
       "      <td>-25.699205</td>\n",
       "      <td>0.877975</td>\n",
       "      <td>0.250501</td>\n",
       "      <td>0.170778</td>\n",
       "      <td>0.199290</td>\n",
       "      <td>0.058945</td>\n",
       "      <td>-0.170717</td>\n",
       "      <td>0.264019</td>\n",
       "      <td>0.142209</td>\n",
       "      <td>...</td>\n",
       "      <td>1.060275e-17</td>\n",
       "      <td>-2.431599e-17</td>\n",
       "      <td>-1.552350e-17</td>\n",
       "      <td>3.596100e-18</td>\n",
       "      <td>8.358603e-18</td>\n",
       "      <td>1.314040e-30</td>\n",
       "      <td>1.054766e-33</td>\n",
       "      <td>4.228426e-33</td>\n",
       "      <td>-6.781590e-17</td>\n",
       "      <td>1.126875e-16</td>\n",
       "    </tr>\n",
       "  </tbody>\n",
       "</table>\n",
       "<p>5 rows × 111 columns</p>\n",
       "</div>"
      ],
      "text/plain": [
       "   zip_code  acaibowls  asianfusion  bakeries  breakfast_brunch  bubbletea  \\\n",
       "0     90071   9.405622    -0.836703  0.021364         -0.969478   0.247380   \n",
       "1     91980 -27.695649     0.724556  0.335565         -0.112465   0.159981   \n",
       "2     92055 -18.678026     0.433605 -0.448387          0.093646   0.473326   \n",
       "3     92060 -27.698900     0.989627  0.725841          0.023040  -0.060072   \n",
       "4     92135 -25.699205     0.877975  0.250501          0.170778   0.199290   \n",
       "\n",
       "      cafes    coffee  cupcakes  desserts  ...  city_Slab City  city_Spokane  \\\n",
       "0  0.737829  1.140817 -0.152386  0.072772  ...   -1.828033e-17 -1.465002e-17   \n",
       "1  0.005022 -0.157311 -0.017526  0.268266  ...    5.555756e-17  3.980733e-17   \n",
       "2  0.054742 -0.123058 -0.299356 -0.292397  ...    2.017089e-17 -2.798521e-17   \n",
       "3 -0.045320 -0.008747  0.211025  0.032911  ...   -1.140451e-17 -1.056607e-17   \n",
       "4  0.058945 -0.170717  0.264019  0.142209  ...    1.060275e-17 -2.431599e-17   \n",
       "\n",
       "   city_Stockton  city_Sumpter  city_Thermal   city_Vernon  city_Wilderville  \\\n",
       "0   1.569528e-17 -4.791515e-18  4.973684e-18  3.515378e-31     -1.389210e-32   \n",
       "1   4.630032e-20  4.941619e-18  3.996733e-17  3.713720e-31      3.703589e-33   \n",
       "2  -1.172232e-17 -1.401241e-17  3.281239e-18  5.727834e-31      2.811242e-33   \n",
       "3  -7.913139e-18  3.364140e-18 -9.426830e-19 -5.192086e-31      8.803512e-33   \n",
       "4  -1.552350e-17  3.596100e-18  8.358603e-18  1.314040e-30      1.054766e-33   \n",
       "\n",
       "   price_1_percentage  rate_2_percentage         count  \n",
       "0       -7.601189e-33      -2.366531e-16  4.096630e-16  \n",
       "1       -1.257503e-33       5.208108e-16 -2.823416e-16  \n",
       "2        5.643115e-33      -8.677741e-17  7.063863e-17  \n",
       "3       -5.211948e-33      -2.239996e-16  8.003911e-17  \n",
       "4        4.228426e-33      -6.781590e-17  1.126875e-16  \n",
       "\n",
       "[5 rows x 111 columns]"
      ]
     },
     "execution_count": 94,
     "metadata": {},
     "output_type": "execute_result"
    }
   ],
   "source": [
    "demo.head()"
   ]
  },
  {
   "cell_type": "code",
   "execution_count": 95,
   "metadata": {},
   "outputs": [],
   "source": [
    "list_feat = list(demo.columns)\n",
    "list_feat.remove('zip_code')"
   ]
  },
  {
   "cell_type": "code",
   "execution_count": 96,
   "metadata": {},
   "outputs": [
    {
     "data": {
      "text/plain": [
       "110"
      ]
     },
     "execution_count": 96,
     "metadata": {},
     "output_type": "execute_result"
    }
   ],
   "source": [
    "len(list_feat)"
   ]
  },
  {
   "cell_type": "code",
   "execution_count": 97,
   "metadata": {},
   "outputs": [],
   "source": [
    "demo_feat = demo[list_feat]"
   ]
  },
  {
   "cell_type": "code",
   "execution_count": 98,
   "metadata": {},
   "outputs": [
    {
     "data": {
      "text/html": [
       "<div>\n",
       "<style scoped>\n",
       "    .dataframe tbody tr th:only-of-type {\n",
       "        vertical-align: middle;\n",
       "    }\n",
       "\n",
       "    .dataframe tbody tr th {\n",
       "        vertical-align: top;\n",
       "    }\n",
       "\n",
       "    .dataframe thead th {\n",
       "        text-align: right;\n",
       "    }\n",
       "</style>\n",
       "<table border=\"1\" class=\"dataframe\">\n",
       "  <thead>\n",
       "    <tr style=\"text-align: right;\">\n",
       "      <th></th>\n",
       "      <th>acaibowls</th>\n",
       "      <th>asianfusion</th>\n",
       "      <th>bakeries</th>\n",
       "      <th>breakfast_brunch</th>\n",
       "      <th>bubbletea</th>\n",
       "      <th>cafes</th>\n",
       "      <th>coffee</th>\n",
       "      <th>cupcakes</th>\n",
       "      <th>desserts</th>\n",
       "      <th>french</th>\n",
       "      <th>...</th>\n",
       "      <th>city_Slab City</th>\n",
       "      <th>city_Spokane</th>\n",
       "      <th>city_Stockton</th>\n",
       "      <th>city_Sumpter</th>\n",
       "      <th>city_Thermal</th>\n",
       "      <th>city_Vernon</th>\n",
       "      <th>city_Wilderville</th>\n",
       "      <th>price_1_percentage</th>\n",
       "      <th>rate_2_percentage</th>\n",
       "      <th>count</th>\n",
       "    </tr>\n",
       "  </thead>\n",
       "  <tbody>\n",
       "    <tr>\n",
       "      <th>0</th>\n",
       "      <td>9.405622</td>\n",
       "      <td>-0.836703</td>\n",
       "      <td>0.021364</td>\n",
       "      <td>-0.969478</td>\n",
       "      <td>0.247380</td>\n",
       "      <td>0.737829</td>\n",
       "      <td>1.140817</td>\n",
       "      <td>-0.152386</td>\n",
       "      <td>0.072772</td>\n",
       "      <td>-0.192185</td>\n",
       "      <td>...</td>\n",
       "      <td>-1.828033e-17</td>\n",
       "      <td>-1.465002e-17</td>\n",
       "      <td>1.569528e-17</td>\n",
       "      <td>-4.791515e-18</td>\n",
       "      <td>4.973684e-18</td>\n",
       "      <td>3.515378e-31</td>\n",
       "      <td>-1.389210e-32</td>\n",
       "      <td>-7.601189e-33</td>\n",
       "      <td>-2.366531e-16</td>\n",
       "      <td>4.096630e-16</td>\n",
       "    </tr>\n",
       "    <tr>\n",
       "      <th>1</th>\n",
       "      <td>-27.695649</td>\n",
       "      <td>0.724556</td>\n",
       "      <td>0.335565</td>\n",
       "      <td>-0.112465</td>\n",
       "      <td>0.159981</td>\n",
       "      <td>0.005022</td>\n",
       "      <td>-0.157311</td>\n",
       "      <td>-0.017526</td>\n",
       "      <td>0.268266</td>\n",
       "      <td>0.089386</td>\n",
       "      <td>...</td>\n",
       "      <td>5.555756e-17</td>\n",
       "      <td>3.980733e-17</td>\n",
       "      <td>4.630032e-20</td>\n",
       "      <td>4.941619e-18</td>\n",
       "      <td>3.996733e-17</td>\n",
       "      <td>3.713720e-31</td>\n",
       "      <td>3.703589e-33</td>\n",
       "      <td>-1.257503e-33</td>\n",
       "      <td>5.208108e-16</td>\n",
       "      <td>-2.823416e-16</td>\n",
       "    </tr>\n",
       "    <tr>\n",
       "      <th>2</th>\n",
       "      <td>-18.678026</td>\n",
       "      <td>0.433605</td>\n",
       "      <td>-0.448387</td>\n",
       "      <td>0.093646</td>\n",
       "      <td>0.473326</td>\n",
       "      <td>0.054742</td>\n",
       "      <td>-0.123058</td>\n",
       "      <td>-0.299356</td>\n",
       "      <td>-0.292397</td>\n",
       "      <td>0.263258</td>\n",
       "      <td>...</td>\n",
       "      <td>2.017089e-17</td>\n",
       "      <td>-2.798521e-17</td>\n",
       "      <td>-1.172232e-17</td>\n",
       "      <td>-1.401241e-17</td>\n",
       "      <td>3.281239e-18</td>\n",
       "      <td>5.727834e-31</td>\n",
       "      <td>2.811242e-33</td>\n",
       "      <td>5.643115e-33</td>\n",
       "      <td>-8.677741e-17</td>\n",
       "      <td>7.063863e-17</td>\n",
       "    </tr>\n",
       "    <tr>\n",
       "      <th>3</th>\n",
       "      <td>-27.698900</td>\n",
       "      <td>0.989627</td>\n",
       "      <td>0.725841</td>\n",
       "      <td>0.023040</td>\n",
       "      <td>-0.060072</td>\n",
       "      <td>-0.045320</td>\n",
       "      <td>-0.008747</td>\n",
       "      <td>0.211025</td>\n",
       "      <td>0.032911</td>\n",
       "      <td>-0.067531</td>\n",
       "      <td>...</td>\n",
       "      <td>-1.140451e-17</td>\n",
       "      <td>-1.056607e-17</td>\n",
       "      <td>-7.913139e-18</td>\n",
       "      <td>3.364140e-18</td>\n",
       "      <td>-9.426830e-19</td>\n",
       "      <td>-5.192086e-31</td>\n",
       "      <td>8.803512e-33</td>\n",
       "      <td>-5.211948e-33</td>\n",
       "      <td>-2.239996e-16</td>\n",
       "      <td>8.003911e-17</td>\n",
       "    </tr>\n",
       "    <tr>\n",
       "      <th>4</th>\n",
       "      <td>-25.699205</td>\n",
       "      <td>0.877975</td>\n",
       "      <td>0.250501</td>\n",
       "      <td>0.170778</td>\n",
       "      <td>0.199290</td>\n",
       "      <td>0.058945</td>\n",
       "      <td>-0.170717</td>\n",
       "      <td>0.264019</td>\n",
       "      <td>0.142209</td>\n",
       "      <td>-0.241720</td>\n",
       "      <td>...</td>\n",
       "      <td>1.060275e-17</td>\n",
       "      <td>-2.431599e-17</td>\n",
       "      <td>-1.552350e-17</td>\n",
       "      <td>3.596100e-18</td>\n",
       "      <td>8.358603e-18</td>\n",
       "      <td>1.314040e-30</td>\n",
       "      <td>1.054766e-33</td>\n",
       "      <td>4.228426e-33</td>\n",
       "      <td>-6.781590e-17</td>\n",
       "      <td>1.126875e-16</td>\n",
       "    </tr>\n",
       "  </tbody>\n",
       "</table>\n",
       "<p>5 rows × 110 columns</p>\n",
       "</div>"
      ],
      "text/plain": [
       "   acaibowls  asianfusion  bakeries  breakfast_brunch  bubbletea     cafes  \\\n",
       "0   9.405622    -0.836703  0.021364         -0.969478   0.247380  0.737829   \n",
       "1 -27.695649     0.724556  0.335565         -0.112465   0.159981  0.005022   \n",
       "2 -18.678026     0.433605 -0.448387          0.093646   0.473326  0.054742   \n",
       "3 -27.698900     0.989627  0.725841          0.023040  -0.060072 -0.045320   \n",
       "4 -25.699205     0.877975  0.250501          0.170778   0.199290  0.058945   \n",
       "\n",
       "     coffee  cupcakes  desserts    french  ...  city_Slab City  city_Spokane  \\\n",
       "0  1.140817 -0.152386  0.072772 -0.192185  ...   -1.828033e-17 -1.465002e-17   \n",
       "1 -0.157311 -0.017526  0.268266  0.089386  ...    5.555756e-17  3.980733e-17   \n",
       "2 -0.123058 -0.299356 -0.292397  0.263258  ...    2.017089e-17 -2.798521e-17   \n",
       "3 -0.008747  0.211025  0.032911 -0.067531  ...   -1.140451e-17 -1.056607e-17   \n",
       "4 -0.170717  0.264019  0.142209 -0.241720  ...    1.060275e-17 -2.431599e-17   \n",
       "\n",
       "   city_Stockton  city_Sumpter  city_Thermal   city_Vernon  city_Wilderville  \\\n",
       "0   1.569528e-17 -4.791515e-18  4.973684e-18  3.515378e-31     -1.389210e-32   \n",
       "1   4.630032e-20  4.941619e-18  3.996733e-17  3.713720e-31      3.703589e-33   \n",
       "2  -1.172232e-17 -1.401241e-17  3.281239e-18  5.727834e-31      2.811242e-33   \n",
       "3  -7.913139e-18  3.364140e-18 -9.426830e-19 -5.192086e-31      8.803512e-33   \n",
       "4  -1.552350e-17  3.596100e-18  8.358603e-18  1.314040e-30      1.054766e-33   \n",
       "\n",
       "   price_1_percentage  rate_2_percentage         count  \n",
       "0       -7.601189e-33      -2.366531e-16  4.096630e-16  \n",
       "1       -1.257503e-33       5.208108e-16 -2.823416e-16  \n",
       "2        5.643115e-33      -8.677741e-17  7.063863e-17  \n",
       "3       -5.211948e-33      -2.239996e-16  8.003911e-17  \n",
       "4        4.228426e-33      -6.781590e-17  1.126875e-16  \n",
       "\n",
       "[5 rows x 110 columns]"
      ]
     },
     "execution_count": 98,
     "metadata": {},
     "output_type": "execute_result"
    }
   ],
   "source": [
    "demo_feat.head()"
   ]
  },
  {
   "cell_type": "code",
   "execution_count": 99,
   "metadata": {},
   "outputs": [],
   "source": [
    "import numpy as np"
   ]
  },
  {
   "cell_type": "code",
   "execution_count": 100,
   "metadata": {},
   "outputs": [],
   "source": [
    "array = np.array(demo[demo['zip_code'] == 90071].drop(columns ='zip_code'))"
   ]
  },
  {
   "cell_type": "code",
   "execution_count": 101,
   "metadata": {},
   "outputs": [
    {
     "data": {
      "text/plain": [
       "array([[ 9.40562240e+00, -8.36703468e-01,  2.13643894e-02,\n",
       "        -9.69478172e-01,  2.47380497e-01,  7.37828982e-01,\n",
       "         1.14081733e+00, -1.52385712e-01,  7.27718717e-02,\n",
       "        -1.92185462e-01,  8.15720898e-01,  4.09722324e-02,\n",
       "        -1.27796487e-01,  3.69545102e-01, -4.89125943e-01,\n",
       "        -4.99931973e-01,  4.12616359e-01,  6.99446434e-02,\n",
       "         3.58433581e-01,  3.92340520e-01,  9.98630758e-02,\n",
       "         1.32650969e-01, -1.98122454e-01, -3.31552303e-01,\n",
       "        -4.47515356e-01, -3.04447371e-01, -5.75273554e-01,\n",
       "        -1.63909962e-01,  6.92422923e-02, -2.38906367e-01,\n",
       "        -5.08165973e-01,  5.96108091e-01,  4.92681338e-01,\n",
       "         6.84327414e-01,  1.40888089e-01,  2.47337718e-02,\n",
       "         4.30287352e-02, -1.16284284e-02, -6.74541661e-03,\n",
       "         1.20234523e-01,  7.74187242e-02, -8.53350381e-03,\n",
       "         6.38137406e-03, -1.49005981e-02, -3.28007591e-02,\n",
       "         4.39618155e-03, -8.60705161e-03,  1.47835380e-02,\n",
       "         8.94605987e-03, -5.92470329e-04, -1.08343917e-02,\n",
       "         8.24334733e-03, -7.35387202e-03, -3.39950482e-03,\n",
       "         4.00620605e-03, -3.89679678e-03,  1.84253781e-03,\n",
       "        -8.94485322e-03, -5.53041611e-04,  2.19471268e-03,\n",
       "        -2.17255791e-03,  2.88682334e-03,  1.50198312e-02,\n",
       "        -1.69528983e-05,  4.09189672e-05, -3.12757390e-04,\n",
       "        -1.36803033e-04, -1.20306671e-04,  4.42084437e-04,\n",
       "        -2.38789068e-03, -2.42587848e-03, -3.87457173e-03,\n",
       "         6.43493403e-03,  9.26786402e-04,  3.81161040e-03,\n",
       "         2.09311996e-03,  5.62564649e-03, -6.41898321e-03,\n",
       "         3.45575769e-03,  9.29741244e-04,  4.59278736e-03,\n",
       "         1.90236209e-03,  5.60751711e-03,  6.71107965e-04,\n",
       "         5.91031050e-03,  3.71236110e-03, -2.66240739e-03,\n",
       "         1.17929963e-02, -3.26350419e-03,  9.25509960e-03,\n",
       "        -2.67263044e-03, -1.95131910e-02,  1.94586874e-03,\n",
       "        -1.61354637e-03,  1.71625154e-16, -1.35051880e-17,\n",
       "        -2.85708392e-18, -6.72227478e-18,  2.82806474e-17,\n",
       "        -1.89152166e-17, -1.82803305e-17, -1.46500168e-17,\n",
       "         1.56952761e-17, -4.79151454e-18,  4.97368399e-18,\n",
       "         3.51537773e-31, -1.38920982e-32, -7.60118895e-33,\n",
       "        -2.36653093e-16,  4.09663017e-16]])"
      ]
     },
     "execution_count": 101,
     "metadata": {},
     "output_type": "execute_result"
    }
   ],
   "source": [
    "array"
   ]
  },
  {
   "cell_type": "code",
   "execution_count": 102,
   "metadata": {},
   "outputs": [],
   "source": [
    "array_pred = gs5.predict(array)"
   ]
  },
  {
   "cell_type": "code",
   "execution_count": 103,
   "metadata": {},
   "outputs": [
    {
     "data": {
      "text/plain": [
       "116833.61618905456"
      ]
     },
     "execution_count": 103,
     "metadata": {},
     "output_type": "execute_result"
    }
   ],
   "source": [
    "array_pred[0]"
   ]
  },
  {
   "cell_type": "code",
   "execution_count": 104,
   "metadata": {},
   "outputs": [],
   "source": [
    "demo_pred = gs5.predict(demo_feat)"
   ]
  },
  {
   "cell_type": "code",
   "execution_count": 105,
   "metadata": {},
   "outputs": [
    {
     "data": {
      "text/plain": [
       "array([116833.61618905,  59505.69331012,  61888.89231624,  47812.80603393,\n",
       "        48393.38419338,  47696.23345529,  51255.11533618,  61216.20479305,\n",
       "        78693.51484965,  56651.64652188,  60139.03994093, 100064.2093001 ,\n",
       "        62381.54313579,  66861.63821374,  70642.16438074,  71986.63045006,\n",
       "        47445.55804757,  54832.50825617,  56747.1143576 ,  70400.475586  ,\n",
       "        55447.04785494,  59094.170481  ,  52314.58316809,  58967.76329166,\n",
       "        55504.61438394,  59678.73556664,  47369.88195339,  56469.86490976,\n",
       "        56651.64652188,  51536.91754433,  54781.90695333,  58109.28921128,\n",
       "        53793.41870002,  58084.89767344,  62500.22096668,  51231.45925496,\n",
       "        58559.07068896,  53343.61503634,  62271.17418979,  55836.15046432,\n",
       "        64212.76673122,  88437.69187836,  48434.5602812 ,  54832.50825617,\n",
       "        53536.41824756,  52799.47242077,  52314.58316809,  47126.38394659,\n",
       "        50184.46520465,  49851.27407229])"
      ]
     },
     "execution_count": 105,
     "metadata": {},
     "output_type": "execute_result"
    }
   ],
   "source": [
    "demo_pred"
   ]
  },
  {
   "cell_type": "code",
   "execution_count": 106,
   "metadata": {},
   "outputs": [],
   "source": [
    "pred = pd.DataFrame(demo_pred, columns = ['prediction'])"
   ]
  },
  {
   "cell_type": "code",
   "execution_count": 107,
   "metadata": {},
   "outputs": [
    {
     "data": {
      "text/html": [
       "<div>\n",
       "<style scoped>\n",
       "    .dataframe tbody tr th:only-of-type {\n",
       "        vertical-align: middle;\n",
       "    }\n",
       "\n",
       "    .dataframe tbody tr th {\n",
       "        vertical-align: top;\n",
       "    }\n",
       "\n",
       "    .dataframe thead th {\n",
       "        text-align: right;\n",
       "    }\n",
       "</style>\n",
       "<table border=\"1\" class=\"dataframe\">\n",
       "  <thead>\n",
       "    <tr style=\"text-align: right;\">\n",
       "      <th></th>\n",
       "      <th>zip_code</th>\n",
       "      <th>acaibowls</th>\n",
       "      <th>asianfusion</th>\n",
       "      <th>bakeries</th>\n",
       "      <th>breakfast_brunch</th>\n",
       "      <th>bubbletea</th>\n",
       "      <th>cafes</th>\n",
       "      <th>coffee</th>\n",
       "      <th>cupcakes</th>\n",
       "      <th>desserts</th>\n",
       "      <th>...</th>\n",
       "      <th>city_Slab City</th>\n",
       "      <th>city_Spokane</th>\n",
       "      <th>city_Stockton</th>\n",
       "      <th>city_Sumpter</th>\n",
       "      <th>city_Thermal</th>\n",
       "      <th>city_Vernon</th>\n",
       "      <th>city_Wilderville</th>\n",
       "      <th>price_1_percentage</th>\n",
       "      <th>rate_2_percentage</th>\n",
       "      <th>count</th>\n",
       "    </tr>\n",
       "  </thead>\n",
       "  <tbody>\n",
       "    <tr>\n",
       "      <th>0</th>\n",
       "      <td>90071</td>\n",
       "      <td>9.405622</td>\n",
       "      <td>-0.836703</td>\n",
       "      <td>0.021364</td>\n",
       "      <td>-0.969478</td>\n",
       "      <td>0.247380</td>\n",
       "      <td>0.737829</td>\n",
       "      <td>1.140817</td>\n",
       "      <td>-0.152386</td>\n",
       "      <td>0.072772</td>\n",
       "      <td>...</td>\n",
       "      <td>-1.828033e-17</td>\n",
       "      <td>-1.465002e-17</td>\n",
       "      <td>1.569528e-17</td>\n",
       "      <td>-4.791515e-18</td>\n",
       "      <td>4.973684e-18</td>\n",
       "      <td>3.515378e-31</td>\n",
       "      <td>-1.389210e-32</td>\n",
       "      <td>-7.601189e-33</td>\n",
       "      <td>-2.366531e-16</td>\n",
       "      <td>4.096630e-16</td>\n",
       "    </tr>\n",
       "    <tr>\n",
       "      <th>1</th>\n",
       "      <td>91980</td>\n",
       "      <td>-27.695649</td>\n",
       "      <td>0.724556</td>\n",
       "      <td>0.335565</td>\n",
       "      <td>-0.112465</td>\n",
       "      <td>0.159981</td>\n",
       "      <td>0.005022</td>\n",
       "      <td>-0.157311</td>\n",
       "      <td>-0.017526</td>\n",
       "      <td>0.268266</td>\n",
       "      <td>...</td>\n",
       "      <td>5.555756e-17</td>\n",
       "      <td>3.980733e-17</td>\n",
       "      <td>4.630032e-20</td>\n",
       "      <td>4.941619e-18</td>\n",
       "      <td>3.996733e-17</td>\n",
       "      <td>3.713720e-31</td>\n",
       "      <td>3.703589e-33</td>\n",
       "      <td>-1.257503e-33</td>\n",
       "      <td>5.208108e-16</td>\n",
       "      <td>-2.823416e-16</td>\n",
       "    </tr>\n",
       "    <tr>\n",
       "      <th>2</th>\n",
       "      <td>92055</td>\n",
       "      <td>-18.678026</td>\n",
       "      <td>0.433605</td>\n",
       "      <td>-0.448387</td>\n",
       "      <td>0.093646</td>\n",
       "      <td>0.473326</td>\n",
       "      <td>0.054742</td>\n",
       "      <td>-0.123058</td>\n",
       "      <td>-0.299356</td>\n",
       "      <td>-0.292397</td>\n",
       "      <td>...</td>\n",
       "      <td>2.017089e-17</td>\n",
       "      <td>-2.798521e-17</td>\n",
       "      <td>-1.172232e-17</td>\n",
       "      <td>-1.401241e-17</td>\n",
       "      <td>3.281239e-18</td>\n",
       "      <td>5.727834e-31</td>\n",
       "      <td>2.811242e-33</td>\n",
       "      <td>5.643115e-33</td>\n",
       "      <td>-8.677741e-17</td>\n",
       "      <td>7.063863e-17</td>\n",
       "    </tr>\n",
       "    <tr>\n",
       "      <th>3</th>\n",
       "      <td>92060</td>\n",
       "      <td>-27.698900</td>\n",
       "      <td>0.989627</td>\n",
       "      <td>0.725841</td>\n",
       "      <td>0.023040</td>\n",
       "      <td>-0.060072</td>\n",
       "      <td>-0.045320</td>\n",
       "      <td>-0.008747</td>\n",
       "      <td>0.211025</td>\n",
       "      <td>0.032911</td>\n",
       "      <td>...</td>\n",
       "      <td>-1.140451e-17</td>\n",
       "      <td>-1.056607e-17</td>\n",
       "      <td>-7.913139e-18</td>\n",
       "      <td>3.364140e-18</td>\n",
       "      <td>-9.426830e-19</td>\n",
       "      <td>-5.192086e-31</td>\n",
       "      <td>8.803512e-33</td>\n",
       "      <td>-5.211948e-33</td>\n",
       "      <td>-2.239996e-16</td>\n",
       "      <td>8.003911e-17</td>\n",
       "    </tr>\n",
       "    <tr>\n",
       "      <th>4</th>\n",
       "      <td>92135</td>\n",
       "      <td>-25.699205</td>\n",
       "      <td>0.877975</td>\n",
       "      <td>0.250501</td>\n",
       "      <td>0.170778</td>\n",
       "      <td>0.199290</td>\n",
       "      <td>0.058945</td>\n",
       "      <td>-0.170717</td>\n",
       "      <td>0.264019</td>\n",
       "      <td>0.142209</td>\n",
       "      <td>...</td>\n",
       "      <td>1.060275e-17</td>\n",
       "      <td>-2.431599e-17</td>\n",
       "      <td>-1.552350e-17</td>\n",
       "      <td>3.596100e-18</td>\n",
       "      <td>8.358603e-18</td>\n",
       "      <td>1.314040e-30</td>\n",
       "      <td>1.054766e-33</td>\n",
       "      <td>4.228426e-33</td>\n",
       "      <td>-6.781590e-17</td>\n",
       "      <td>1.126875e-16</td>\n",
       "    </tr>\n",
       "  </tbody>\n",
       "</table>\n",
       "<p>5 rows × 111 columns</p>\n",
       "</div>"
      ],
      "text/plain": [
       "   zip_code  acaibowls  asianfusion  bakeries  breakfast_brunch  bubbletea  \\\n",
       "0     90071   9.405622    -0.836703  0.021364         -0.969478   0.247380   \n",
       "1     91980 -27.695649     0.724556  0.335565         -0.112465   0.159981   \n",
       "2     92055 -18.678026     0.433605 -0.448387          0.093646   0.473326   \n",
       "3     92060 -27.698900     0.989627  0.725841          0.023040  -0.060072   \n",
       "4     92135 -25.699205     0.877975  0.250501          0.170778   0.199290   \n",
       "\n",
       "      cafes    coffee  cupcakes  desserts  ...  city_Slab City  city_Spokane  \\\n",
       "0  0.737829  1.140817 -0.152386  0.072772  ...   -1.828033e-17 -1.465002e-17   \n",
       "1  0.005022 -0.157311 -0.017526  0.268266  ...    5.555756e-17  3.980733e-17   \n",
       "2  0.054742 -0.123058 -0.299356 -0.292397  ...    2.017089e-17 -2.798521e-17   \n",
       "3 -0.045320 -0.008747  0.211025  0.032911  ...   -1.140451e-17 -1.056607e-17   \n",
       "4  0.058945 -0.170717  0.264019  0.142209  ...    1.060275e-17 -2.431599e-17   \n",
       "\n",
       "   city_Stockton  city_Sumpter  city_Thermal   city_Vernon  city_Wilderville  \\\n",
       "0   1.569528e-17 -4.791515e-18  4.973684e-18  3.515378e-31     -1.389210e-32   \n",
       "1   4.630032e-20  4.941619e-18  3.996733e-17  3.713720e-31      3.703589e-33   \n",
       "2  -1.172232e-17 -1.401241e-17  3.281239e-18  5.727834e-31      2.811242e-33   \n",
       "3  -7.913139e-18  3.364140e-18 -9.426830e-19 -5.192086e-31      8.803512e-33   \n",
       "4  -1.552350e-17  3.596100e-18  8.358603e-18  1.314040e-30      1.054766e-33   \n",
       "\n",
       "   price_1_percentage  rate_2_percentage         count  \n",
       "0       -7.601189e-33      -2.366531e-16  4.096630e-16  \n",
       "1       -1.257503e-33       5.208108e-16 -2.823416e-16  \n",
       "2        5.643115e-33      -8.677741e-17  7.063863e-17  \n",
       "3       -5.211948e-33      -2.239996e-16  8.003911e-17  \n",
       "4        4.228426e-33      -6.781590e-17  1.126875e-16  \n",
       "\n",
       "[5 rows x 111 columns]"
      ]
     },
     "execution_count": 107,
     "metadata": {},
     "output_type": "execute_result"
    }
   ],
   "source": [
    "demo.head()"
   ]
  },
  {
   "cell_type": "code",
   "execution_count": 109,
   "metadata": {},
   "outputs": [],
   "source": [
    "list_ofzips = list(demo['zip_code'])"
   ]
  },
  {
   "cell_type": "code",
   "execution_count": 110,
   "metadata": {},
   "outputs": [
    {
     "data": {
      "text/html": [
       "<div>\n",
       "<style scoped>\n",
       "    .dataframe tbody tr th:only-of-type {\n",
       "        vertical-align: middle;\n",
       "    }\n",
       "\n",
       "    .dataframe tbody tr th {\n",
       "        vertical-align: top;\n",
       "    }\n",
       "\n",
       "    .dataframe thead th {\n",
       "        text-align: right;\n",
       "    }\n",
       "</style>\n",
       "<table border=\"1\" class=\"dataframe\">\n",
       "  <thead>\n",
       "    <tr style=\"text-align: right;\">\n",
       "      <th></th>\n",
       "      <th>prediction</th>\n",
       "    </tr>\n",
       "  </thead>\n",
       "  <tbody>\n",
       "    <tr>\n",
       "      <th>0</th>\n",
       "      <td>116833.616189</td>\n",
       "    </tr>\n",
       "    <tr>\n",
       "      <th>1</th>\n",
       "      <td>59505.693310</td>\n",
       "    </tr>\n",
       "    <tr>\n",
       "      <th>2</th>\n",
       "      <td>61888.892316</td>\n",
       "    </tr>\n",
       "    <tr>\n",
       "      <th>3</th>\n",
       "      <td>47812.806034</td>\n",
       "    </tr>\n",
       "    <tr>\n",
       "      <th>4</th>\n",
       "      <td>48393.384193</td>\n",
       "    </tr>\n",
       "  </tbody>\n",
       "</table>\n",
       "</div>"
      ],
      "text/plain": [
       "      prediction\n",
       "0  116833.616189\n",
       "1   59505.693310\n",
       "2   61888.892316\n",
       "3   47812.806034\n",
       "4   48393.384193"
      ]
     },
     "execution_count": 110,
     "metadata": {},
     "output_type": "execute_result"
    }
   ],
   "source": [
    "pred.head()"
   ]
  },
  {
   "cell_type": "code",
   "execution_count": 111,
   "metadata": {},
   "outputs": [],
   "source": [
    "pred['zip_code'] = list_ofzips"
   ]
  },
  {
   "cell_type": "code",
   "execution_count": 112,
   "metadata": {},
   "outputs": [
    {
     "data": {
      "text/html": [
       "<div>\n",
       "<style scoped>\n",
       "    .dataframe tbody tr th:only-of-type {\n",
       "        vertical-align: middle;\n",
       "    }\n",
       "\n",
       "    .dataframe tbody tr th {\n",
       "        vertical-align: top;\n",
       "    }\n",
       "\n",
       "    .dataframe thead th {\n",
       "        text-align: right;\n",
       "    }\n",
       "</style>\n",
       "<table border=\"1\" class=\"dataframe\">\n",
       "  <thead>\n",
       "    <tr style=\"text-align: right;\">\n",
       "      <th></th>\n",
       "      <th>prediction</th>\n",
       "      <th>zip_code</th>\n",
       "    </tr>\n",
       "  </thead>\n",
       "  <tbody>\n",
       "    <tr>\n",
       "      <th>0</th>\n",
       "      <td>116833.616189</td>\n",
       "      <td>90071</td>\n",
       "    </tr>\n",
       "    <tr>\n",
       "      <th>1</th>\n",
       "      <td>59505.693310</td>\n",
       "      <td>91980</td>\n",
       "    </tr>\n",
       "    <tr>\n",
       "      <th>2</th>\n",
       "      <td>61888.892316</td>\n",
       "      <td>92055</td>\n",
       "    </tr>\n",
       "    <tr>\n",
       "      <th>3</th>\n",
       "      <td>47812.806034</td>\n",
       "      <td>92060</td>\n",
       "    </tr>\n",
       "    <tr>\n",
       "      <th>4</th>\n",
       "      <td>48393.384193</td>\n",
       "      <td>92135</td>\n",
       "    </tr>\n",
       "  </tbody>\n",
       "</table>\n",
       "</div>"
      ],
      "text/plain": [
       "      prediction  zip_code\n",
       "0  116833.616189     90071\n",
       "1   59505.693310     91980\n",
       "2   61888.892316     92055\n",
       "3   47812.806034     92060\n",
       "4   48393.384193     92135"
      ]
     },
     "execution_count": 112,
     "metadata": {},
     "output_type": "execute_result"
    }
   ],
   "source": [
    "pred.head()"
   ]
  },
  {
   "cell_type": "code",
   "execution_count": 113,
   "metadata": {},
   "outputs": [
    {
     "data": {
      "text/plain": [
       "0"
      ]
     },
     "execution_count": 113,
     "metadata": {},
     "output_type": "execute_result"
    }
   ],
   "source": [
    "pred.isnull().sum().sum()"
   ]
  },
  {
   "cell_type": "code",
   "execution_count": 114,
   "metadata": {},
   "outputs": [
    {
     "data": {
      "text/plain": [
       "(50, 2)"
      ]
     },
     "execution_count": 114,
     "metadata": {},
     "output_type": "execute_result"
    }
   ],
   "source": [
    "pred.shape"
   ]
  },
  {
   "cell_type": "code",
   "execution_count": 115,
   "metadata": {},
   "outputs": [],
   "source": [
    "pred.to_csv('./datasets/DEMO_PREDICTIONS_8.1.csv')"
   ]
  },
  {
   "cell_type": "code",
   "execution_count": null,
   "metadata": {},
   "outputs": [],
   "source": []
  }
 ],
 "metadata": {
  "kernelspec": {
   "display_name": "Python 3",
   "language": "python",
   "name": "python3"
  },
  "language_info": {
   "codemirror_mode": {
    "name": "ipython",
    "version": 3
   },
   "file_extension": ".py",
   "mimetype": "text/x-python",
   "name": "python",
   "nbconvert_exporter": "python",
   "pygments_lexer": "ipython3",
   "version": "3.7.3"
  }
 },
 "nbformat": 4,
 "nbformat_minor": 2
}
