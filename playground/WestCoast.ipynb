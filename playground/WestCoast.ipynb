{
 "cells": [
  {
   "cell_type": "markdown",
   "metadata": {},
   "source": [
    "## Hit 150 stores per zip code in california "
   ]
  },
  {
   "cell_type": "code",
   "execution_count": 1,
   "metadata": {},
   "outputs": [],
   "source": [
    "import pandas as pd"
   ]
  },
  {
   "cell_type": "code",
   "execution_count": 2,
   "metadata": {},
   "outputs": [
    {
     "data": {
      "text/html": [
       "<div>\n",
       "<style scoped>\n",
       "    .dataframe tbody tr th:only-of-type {\n",
       "        vertical-align: middle;\n",
       "    }\n",
       "\n",
       "    .dataframe tbody tr th {\n",
       "        vertical-align: top;\n",
       "    }\n",
       "\n",
       "    .dataframe thead th {\n",
       "        text-align: right;\n",
       "    }\n",
       "</style>\n",
       "<table border=\"1\" class=\"dataframe\">\n",
       "  <thead>\n",
       "    <tr style=\"text-align: right;\">\n",
       "      <th></th>\n",
       "      <th>STATEFIPS</th>\n",
       "      <th>STATE</th>\n",
       "      <th>zipcode</th>\n",
       "      <th>agi_stub</th>\n",
       "      <th>N1</th>\n",
       "      <th>mars1</th>\n",
       "      <th>MARS2</th>\n",
       "      <th>MARS4</th>\n",
       "      <th>PREP</th>\n",
       "      <th>N2</th>\n",
       "      <th>...</th>\n",
       "      <th>N10300</th>\n",
       "      <th>A10300</th>\n",
       "      <th>N85530</th>\n",
       "      <th>A85530</th>\n",
       "      <th>N85300</th>\n",
       "      <th>A85300</th>\n",
       "      <th>N11901</th>\n",
       "      <th>A11901</th>\n",
       "      <th>N11902</th>\n",
       "      <th>A11902</th>\n",
       "    </tr>\n",
       "  </thead>\n",
       "  <tbody>\n",
       "    <tr>\n",
       "      <th>0</th>\n",
       "      <td>1</td>\n",
       "      <td>AL</td>\n",
       "      <td>0</td>\n",
       "      <td>1</td>\n",
       "      <td>815440</td>\n",
       "      <td>477700</td>\n",
       "      <td>105350</td>\n",
       "      <td>221200</td>\n",
       "      <td>440830</td>\n",
       "      <td>1296920</td>\n",
       "      <td>...</td>\n",
       "      <td>367320</td>\n",
       "      <td>330066</td>\n",
       "      <td>0</td>\n",
       "      <td>0</td>\n",
       "      <td>0</td>\n",
       "      <td>0</td>\n",
       "      <td>63420</td>\n",
       "      <td>51444</td>\n",
       "      <td>711580</td>\n",
       "      <td>1831661</td>\n",
       "    </tr>\n",
       "    <tr>\n",
       "      <th>1</th>\n",
       "      <td>1</td>\n",
       "      <td>AL</td>\n",
       "      <td>0</td>\n",
       "      <td>2</td>\n",
       "      <td>495830</td>\n",
       "      <td>211930</td>\n",
       "      <td>142340</td>\n",
       "      <td>128890</td>\n",
       "      <td>272440</td>\n",
       "      <td>996240</td>\n",
       "      <td>...</td>\n",
       "      <td>398050</td>\n",
       "      <td>984297</td>\n",
       "      <td>0</td>\n",
       "      <td>0</td>\n",
       "      <td>0</td>\n",
       "      <td>0</td>\n",
       "      <td>74090</td>\n",
       "      <td>110889</td>\n",
       "      <td>416090</td>\n",
       "      <td>1173463</td>\n",
       "    </tr>\n",
       "    <tr>\n",
       "      <th>2</th>\n",
       "      <td>1</td>\n",
       "      <td>AL</td>\n",
       "      <td>0</td>\n",
       "      <td>3</td>\n",
       "      <td>263390</td>\n",
       "      <td>83420</td>\n",
       "      <td>137870</td>\n",
       "      <td>36340</td>\n",
       "      <td>154880</td>\n",
       "      <td>584000</td>\n",
       "      <td>...</td>\n",
       "      <td>253180</td>\n",
       "      <td>1349246</td>\n",
       "      <td>0</td>\n",
       "      <td>0</td>\n",
       "      <td>0</td>\n",
       "      <td>0</td>\n",
       "      <td>64000</td>\n",
       "      <td>143060</td>\n",
       "      <td>195130</td>\n",
       "      <td>543284</td>\n",
       "    </tr>\n",
       "    <tr>\n",
       "      <th>3</th>\n",
       "      <td>1</td>\n",
       "      <td>AL</td>\n",
       "      <td>0</td>\n",
       "      <td>4</td>\n",
       "      <td>167190</td>\n",
       "      <td>29420</td>\n",
       "      <td>124060</td>\n",
       "      <td>10610</td>\n",
       "      <td>99700</td>\n",
       "      <td>421720</td>\n",
       "      <td>...</td>\n",
       "      <td>165830</td>\n",
       "      <td>1425430</td>\n",
       "      <td>0</td>\n",
       "      <td>0</td>\n",
       "      <td>0</td>\n",
       "      <td>0</td>\n",
       "      <td>45020</td>\n",
       "      <td>128920</td>\n",
       "      <td>117410</td>\n",
       "      <td>381329</td>\n",
       "    </tr>\n",
       "    <tr>\n",
       "      <th>4</th>\n",
       "      <td>1</td>\n",
       "      <td>AL</td>\n",
       "      <td>0</td>\n",
       "      <td>5</td>\n",
       "      <td>217440</td>\n",
       "      <td>20240</td>\n",
       "      <td>188080</td>\n",
       "      <td>4880</td>\n",
       "      <td>129410</td>\n",
       "      <td>601040</td>\n",
       "      <td>...</td>\n",
       "      <td>216720</td>\n",
       "      <td>3922449</td>\n",
       "      <td>390</td>\n",
       "      <td>155</td>\n",
       "      <td>60</td>\n",
       "      <td>19</td>\n",
       "      <td>82940</td>\n",
       "      <td>423629</td>\n",
       "      <td>126130</td>\n",
       "      <td>506526</td>\n",
       "    </tr>\n",
       "  </tbody>\n",
       "</table>\n",
       "<p>5 rows × 147 columns</p>\n",
       "</div>"
      ],
      "text/plain": [
       "   STATEFIPS STATE  zipcode  agi_stub      N1   mars1   MARS2   MARS4    PREP  \\\n",
       "0          1    AL        0         1  815440  477700  105350  221200  440830   \n",
       "1          1    AL        0         2  495830  211930  142340  128890  272440   \n",
       "2          1    AL        0         3  263390   83420  137870   36340  154880   \n",
       "3          1    AL        0         4  167190   29420  124060   10610   99700   \n",
       "4          1    AL        0         5  217440   20240  188080    4880  129410   \n",
       "\n",
       "        N2   ...     N10300   A10300  N85530  A85530  N85300  A85300  N11901  \\\n",
       "0  1296920   ...     367320   330066       0       0       0       0   63420   \n",
       "1   996240   ...     398050   984297       0       0       0       0   74090   \n",
       "2   584000   ...     253180  1349246       0       0       0       0   64000   \n",
       "3   421720   ...     165830  1425430       0       0       0       0   45020   \n",
       "4   601040   ...     216720  3922449     390     155      60      19   82940   \n",
       "\n",
       "   A11901  N11902   A11902  \n",
       "0   51444  711580  1831661  \n",
       "1  110889  416090  1173463  \n",
       "2  143060  195130   543284  \n",
       "3  128920  117410   381329  \n",
       "4  423629  126130   506526  \n",
       "\n",
       "[5 rows x 147 columns]"
      ]
     },
     "execution_count": 2,
     "metadata": {},
     "output_type": "execute_result"
    }
   ],
   "source": [
    "affluence = pd.read_csv('./datasets/16zpallagi.csv')\n",
    "affluence.head()"
   ]
  },
  {
   "cell_type": "code",
   "execution_count": 3,
   "metadata": {},
   "outputs": [
    {
     "data": {
      "text/plain": [
       "(179796, 147)"
      ]
     },
     "execution_count": 3,
     "metadata": {},
     "output_type": "execute_result"
    }
   ],
   "source": [
    "affluence.shape"
   ]
  },
  {
   "cell_type": "code",
   "execution_count": 4,
   "metadata": {},
   "outputs": [
    {
     "data": {
      "text/plain": [
       "29874"
      ]
     },
     "execution_count": 4,
     "metadata": {},
     "output_type": "execute_result"
    }
   ],
   "source": [
    "affluence['zipcode'].nunique()"
   ]
  },
  {
   "cell_type": "code",
   "execution_count": 5,
   "metadata": {},
   "outputs": [],
   "source": [
    "#according to the documentation, we must look at agi stub"
   ]
  },
  {
   "cell_type": "code",
   "execution_count": 6,
   "metadata": {},
   "outputs": [],
   "source": [
    "features = ['agi_stub', 'zipcode']\n",
    "df = affluence[features]"
   ]
  },
  {
   "cell_type": "code",
   "execution_count": 7,
   "metadata": {},
   "outputs": [],
   "source": [
    "mother_df = df.groupby('zipcode', as_index=False)['agi_stub'].mean()"
   ]
  },
  {
   "cell_type": "code",
   "execution_count": 8,
   "metadata": {},
   "outputs": [
    {
     "data": {
      "text/html": [
       "<div>\n",
       "<style scoped>\n",
       "    .dataframe tbody tr th:only-of-type {\n",
       "        vertical-align: middle;\n",
       "    }\n",
       "\n",
       "    .dataframe tbody tr th {\n",
       "        vertical-align: top;\n",
       "    }\n",
       "\n",
       "    .dataframe thead th {\n",
       "        text-align: right;\n",
       "    }\n",
       "</style>\n",
       "<table border=\"1\" class=\"dataframe\">\n",
       "  <thead>\n",
       "    <tr style=\"text-align: right;\">\n",
       "      <th></th>\n",
       "      <th>zipcode</th>\n",
       "      <th>agi_stub</th>\n",
       "    </tr>\n",
       "  </thead>\n",
       "  <tbody>\n",
       "    <tr>\n",
       "      <th>0</th>\n",
       "      <td>0</td>\n",
       "      <td>3.5</td>\n",
       "    </tr>\n",
       "    <tr>\n",
       "      <th>1</th>\n",
       "      <td>1001</td>\n",
       "      <td>3.5</td>\n",
       "    </tr>\n",
       "    <tr>\n",
       "      <th>2</th>\n",
       "      <td>1002</td>\n",
       "      <td>3.5</td>\n",
       "    </tr>\n",
       "    <tr>\n",
       "      <th>3</th>\n",
       "      <td>1003</td>\n",
       "      <td>3.4</td>\n",
       "    </tr>\n",
       "    <tr>\n",
       "      <th>4</th>\n",
       "      <td>1005</td>\n",
       "      <td>3.5</td>\n",
       "    </tr>\n",
       "  </tbody>\n",
       "</table>\n",
       "</div>"
      ],
      "text/plain": [
       "   zipcode  agi_stub\n",
       "0        0       3.5\n",
       "1     1001       3.5\n",
       "2     1002       3.5\n",
       "3     1003       3.4\n",
       "4     1005       3.5"
      ]
     },
     "execution_count": 8,
     "metadata": {},
     "output_type": "execute_result"
    }
   ],
   "source": [
    "mother_df.head()"
   ]
  },
  {
   "cell_type": "code",
   "execution_count": 9,
   "metadata": {},
   "outputs": [
    {
     "data": {
      "text/plain": [
       "(29874, 2)"
      ]
     },
     "execution_count": 9,
     "metadata": {},
     "output_type": "execute_result"
    }
   ],
   "source": [
    "mother_df.shape"
   ]
  },
  {
   "cell_type": "code",
   "execution_count": 10,
   "metadata": {},
   "outputs": [
    {
     "data": {
      "text/plain": [
       "zipcode       int64\n",
       "agi_stub    float64\n",
       "dtype: object"
      ]
     },
     "execution_count": 10,
     "metadata": {},
     "output_type": "execute_result"
    }
   ],
   "source": [
    "mother_df.dtypes"
   ]
  },
  {
   "cell_type": "code",
   "execution_count": 11,
   "metadata": {},
   "outputs": [],
   "source": [
    "mother_df['zipcode']=mother_df['zipcode'].apply(lambda x: '{0:0>5}'.format(x))\n",
    "#shoutout to stack overflow- this code adds a zero in front of the zipcode if there are digits less than 5"
   ]
  },
  {
   "cell_type": "code",
   "execution_count": 12,
   "metadata": {},
   "outputs": [
    {
     "data": {
      "text/html": [
       "<div>\n",
       "<style scoped>\n",
       "    .dataframe tbody tr th:only-of-type {\n",
       "        vertical-align: middle;\n",
       "    }\n",
       "\n",
       "    .dataframe tbody tr th {\n",
       "        vertical-align: top;\n",
       "    }\n",
       "\n",
       "    .dataframe thead th {\n",
       "        text-align: right;\n",
       "    }\n",
       "</style>\n",
       "<table border=\"1\" class=\"dataframe\">\n",
       "  <thead>\n",
       "    <tr style=\"text-align: right;\">\n",
       "      <th></th>\n",
       "      <th>zipcode</th>\n",
       "      <th>agi_stub</th>\n",
       "    </tr>\n",
       "  </thead>\n",
       "  <tbody>\n",
       "    <tr>\n",
       "      <th>0</th>\n",
       "      <td>00000</td>\n",
       "      <td>3.5</td>\n",
       "    </tr>\n",
       "    <tr>\n",
       "      <th>1</th>\n",
       "      <td>01001</td>\n",
       "      <td>3.5</td>\n",
       "    </tr>\n",
       "    <tr>\n",
       "      <th>2</th>\n",
       "      <td>01002</td>\n",
       "      <td>3.5</td>\n",
       "    </tr>\n",
       "    <tr>\n",
       "      <th>3</th>\n",
       "      <td>01003</td>\n",
       "      <td>3.4</td>\n",
       "    </tr>\n",
       "    <tr>\n",
       "      <th>4</th>\n",
       "      <td>01005</td>\n",
       "      <td>3.5</td>\n",
       "    </tr>\n",
       "  </tbody>\n",
       "</table>\n",
       "</div>"
      ],
      "text/plain": [
       "  zipcode  agi_stub\n",
       "0   00000       3.5\n",
       "1   01001       3.5\n",
       "2   01002       3.5\n",
       "3   01003       3.4\n",
       "4   01005       3.5"
      ]
     },
     "execution_count": 12,
     "metadata": {},
     "output_type": "execute_result"
    }
   ],
   "source": [
    "mother_df.head()"
   ]
  },
  {
   "cell_type": "code",
   "execution_count": 13,
   "metadata": {},
   "outputs": [
    {
     "data": {
      "text/plain": [
       "'90001'"
      ]
     },
     "execution_count": 13,
     "metadata": {},
     "output_type": "execute_result"
    }
   ],
   "source": [
    "mother_df['zipcode'][27097]"
   ]
  },
  {
   "cell_type": "code",
   "execution_count": 14,
   "metadata": {},
   "outputs": [],
   "source": [
    "mother_df = mother_df.iloc[27097:] #dropping first row "
   ]
  },
  {
   "cell_type": "code",
   "execution_count": 15,
   "metadata": {},
   "outputs": [
    {
     "data": {
      "text/html": [
       "<div>\n",
       "<style scoped>\n",
       "    .dataframe tbody tr th:only-of-type {\n",
       "        vertical-align: middle;\n",
       "    }\n",
       "\n",
       "    .dataframe tbody tr th {\n",
       "        vertical-align: top;\n",
       "    }\n",
       "\n",
       "    .dataframe thead th {\n",
       "        text-align: right;\n",
       "    }\n",
       "</style>\n",
       "<table border=\"1\" class=\"dataframe\">\n",
       "  <thead>\n",
       "    <tr style=\"text-align: right;\">\n",
       "      <th></th>\n",
       "      <th>zipcode</th>\n",
       "      <th>agi_stub</th>\n",
       "    </tr>\n",
       "  </thead>\n",
       "  <tbody>\n",
       "    <tr>\n",
       "      <th>27097</th>\n",
       "      <td>90001</td>\n",
       "      <td>3.5</td>\n",
       "    </tr>\n",
       "    <tr>\n",
       "      <th>27098</th>\n",
       "      <td>90002</td>\n",
       "      <td>3.5</td>\n",
       "    </tr>\n",
       "    <tr>\n",
       "      <th>27099</th>\n",
       "      <td>90003</td>\n",
       "      <td>3.5</td>\n",
       "    </tr>\n",
       "    <tr>\n",
       "      <th>27100</th>\n",
       "      <td>90004</td>\n",
       "      <td>3.5</td>\n",
       "    </tr>\n",
       "    <tr>\n",
       "      <th>27101</th>\n",
       "      <td>90005</td>\n",
       "      <td>3.5</td>\n",
       "    </tr>\n",
       "    <tr>\n",
       "      <th>27102</th>\n",
       "      <td>90006</td>\n",
       "      <td>3.5</td>\n",
       "    </tr>\n",
       "    <tr>\n",
       "      <th>27103</th>\n",
       "      <td>90007</td>\n",
       "      <td>3.5</td>\n",
       "    </tr>\n",
       "    <tr>\n",
       "      <th>27104</th>\n",
       "      <td>90008</td>\n",
       "      <td>3.5</td>\n",
       "    </tr>\n",
       "    <tr>\n",
       "      <th>27105</th>\n",
       "      <td>90010</td>\n",
       "      <td>3.5</td>\n",
       "    </tr>\n",
       "    <tr>\n",
       "      <th>27106</th>\n",
       "      <td>90011</td>\n",
       "      <td>3.5</td>\n",
       "    </tr>\n",
       "    <tr>\n",
       "      <th>27107</th>\n",
       "      <td>90012</td>\n",
       "      <td>3.5</td>\n",
       "    </tr>\n",
       "    <tr>\n",
       "      <th>27108</th>\n",
       "      <td>90013</td>\n",
       "      <td>3.5</td>\n",
       "    </tr>\n",
       "    <tr>\n",
       "      <th>27109</th>\n",
       "      <td>90014</td>\n",
       "      <td>3.5</td>\n",
       "    </tr>\n",
       "    <tr>\n",
       "      <th>27110</th>\n",
       "      <td>90015</td>\n",
       "      <td>3.5</td>\n",
       "    </tr>\n",
       "    <tr>\n",
       "      <th>27111</th>\n",
       "      <td>90016</td>\n",
       "      <td>3.5</td>\n",
       "    </tr>\n",
       "    <tr>\n",
       "      <th>27112</th>\n",
       "      <td>90017</td>\n",
       "      <td>3.5</td>\n",
       "    </tr>\n",
       "    <tr>\n",
       "      <th>27113</th>\n",
       "      <td>90018</td>\n",
       "      <td>3.5</td>\n",
       "    </tr>\n",
       "    <tr>\n",
       "      <th>27114</th>\n",
       "      <td>90019</td>\n",
       "      <td>3.5</td>\n",
       "    </tr>\n",
       "    <tr>\n",
       "      <th>27115</th>\n",
       "      <td>90020</td>\n",
       "      <td>3.5</td>\n",
       "    </tr>\n",
       "    <tr>\n",
       "      <th>27116</th>\n",
       "      <td>90021</td>\n",
       "      <td>3.5</td>\n",
       "    </tr>\n",
       "  </tbody>\n",
       "</table>\n",
       "</div>"
      ],
      "text/plain": [
       "      zipcode  agi_stub\n",
       "27097   90001       3.5\n",
       "27098   90002       3.5\n",
       "27099   90003       3.5\n",
       "27100   90004       3.5\n",
       "27101   90005       3.5\n",
       "27102   90006       3.5\n",
       "27103   90007       3.5\n",
       "27104   90008       3.5\n",
       "27105   90010       3.5\n",
       "27106   90011       3.5\n",
       "27107   90012       3.5\n",
       "27108   90013       3.5\n",
       "27109   90014       3.5\n",
       "27110   90015       3.5\n",
       "27111   90016       3.5\n",
       "27112   90017       3.5\n",
       "27113   90018       3.5\n",
       "27114   90019       3.5\n",
       "27115   90020       3.5\n",
       "27116   90021       3.5"
      ]
     },
     "execution_count": 15,
     "metadata": {},
     "output_type": "execute_result"
    }
   ],
   "source": [
    "mother_df.head(20)"
   ]
  },
  {
   "cell_type": "code",
   "execution_count": 16,
   "metadata": {},
   "outputs": [],
   "source": [
    "zipcodes = mother_df['zipcode']"
   ]
  },
  {
   "cell_type": "code",
   "execution_count": 17,
   "metadata": {},
   "outputs": [
    {
     "data": {
      "text/plain": [
       "pandas.core.series.Series"
      ]
     },
     "execution_count": 17,
     "metadata": {},
     "output_type": "execute_result"
    }
   ],
   "source": [
    "type(zipcodes)"
   ]
  },
  {
   "cell_type": "code",
   "execution_count": 18,
   "metadata": {},
   "outputs": [],
   "source": [
    "import requests\n",
    "import time"
   ]
  },
  {
   "cell_type": "code",
   "execution_count": 19,
   "metadata": {},
   "outputs": [],
   "source": [
    "list_of_keys = []\n",
    "#due to confidentiality, we are removing our keys\n",
    "#since we have a total of three people in our group, we created a list of keys in order to scrape more data at once "
   ]
  },
  {
   "cell_type": "code",
   "execution_count": 20,
   "metadata": {},
   "outputs": [],
   "source": [
    "import time"
   ]
  },
  {
   "cell_type": "code",
   "execution_count": 2,
   "metadata": {},
   "outputs": [
    {
     "ename": "NameError",
     "evalue": "name 'list_of_keys' is not defined",
     "output_type": "error",
     "traceback": [
      "\u001b[0;31m---------------------------------------------------------------------------\u001b[0m",
      "\u001b[0;31mNameError\u001b[0m                                 Traceback (most recent call last)",
      "\u001b[0;32m<ipython-input-2-18bde7317eb2>\u001b[0m in \u001b[0;36m<module>\u001b[0;34m\u001b[0m\n\u001b[1;32m      3\u001b[0m \u001b[0;34m\u001b[0m\u001b[0m\n\u001b[1;32m      4\u001b[0m \u001b[0mi\u001b[0m \u001b[0;34m=\u001b[0m \u001b[0;36m0\u001b[0m\u001b[0;34m\u001b[0m\u001b[0;34m\u001b[0m\u001b[0m\n\u001b[0;32m----> 5\u001b[0;31m \u001b[0mkey\u001b[0m \u001b[0;34m=\u001b[0m \u001b[0mlist_of_keys\u001b[0m\u001b[0;34m[\u001b[0m\u001b[0mi\u001b[0m\u001b[0;34m]\u001b[0m\u001b[0;34m\u001b[0m\u001b[0;34m\u001b[0m\u001b[0m\n\u001b[0m\u001b[1;32m      6\u001b[0m \u001b[0;32mfor\u001b[0m \u001b[0mcodes\u001b[0m \u001b[0;32min\u001b[0m \u001b[0mzipcodes\u001b[0m\u001b[0;34m:\u001b[0m\u001b[0;34m\u001b[0m\u001b[0;34m\u001b[0m\u001b[0m\n\u001b[1;32m      7\u001b[0m     \u001b[0;32mfor\u001b[0m \u001b[0moffsetnum\u001b[0m \u001b[0;32min\u001b[0m \u001b[0mrange\u001b[0m\u001b[0;34m(\u001b[0m\u001b[0;36m0\u001b[0m\u001b[0;34m,\u001b[0m\u001b[0;36m150\u001b[0m\u001b[0;34m,\u001b[0m \u001b[0;36m50\u001b[0m\u001b[0;34m)\u001b[0m\u001b[0;34m:\u001b[0m\u001b[0;34m\u001b[0m\u001b[0;34m\u001b[0m\u001b[0m\n",
      "\u001b[0;31mNameError\u001b[0m: name 'list_of_keys' is not defined"
     ]
    }
   ],
   "source": [
    "mother = []\n",
    "ENDPOINT = 'https://api.yelp.com/v3/businesses/search'\n",
    "\n",
    "i = 0\n",
    "key = list_of_keys[i]\n",
    "for codes in zipcodes:\n",
    "    for offsetnum in range(0,150, 50):\n",
    "        HEADERS = {'Authorization': 'bearer %s' % key}\n",
    "        PARAMETERS = {'location': codes,\n",
    "                        'limit': 50,\n",
    "                        'offset': offsetnum\n",
    "\n",
    "                            }  \n",
    "        response = requests.get(url = ENDPOINT, params= PARAMETERS, headers = HEADERS)\n",
    "        #print(response.status_code)\n",
    "        if response.status_code == 429:\n",
    "            i = i + 1\n",
    "            key = list_of_keys[i]\n",
    "            HEADERS = {'Authorization': 'bearer %s' % key}\n",
    "            response = requests.get(url = ENDPOINT, params= PARAMETERS, headers = HEADERS)\n",
    "            business_data = response.json()\n",
    "            mother.extend(business_data['businesses'])\n",
    "            print(f'hit {codes} using {key}')\n",
    "#         elif response.status_code == 400:\n",
    "#             break\n",
    "        elif response.status_code == 500:\n",
    "            break\n",
    "        else:\n",
    "            business_data = response.json()\n",
    "            mother.extend(business_data['businesses'])\n",
    "            print(f'hit {codes} using {key}')\n",
    "                \n",
    "\n",
    "\n",
    "            #if statement where all businesses in that city has been fulfilled then break \n",
    "                \n",
    "        time.sleep(.3)\n",
    "        \n",
    "        "
   ]
  },
  {
   "cell_type": "code",
   "execution_count": 22,
   "metadata": {},
   "outputs": [],
   "source": [
    "import pandas as pd"
   ]
  },
  {
   "cell_type": "code",
   "execution_count": 23,
   "metadata": {},
   "outputs": [],
   "source": [
    "# initialize list of dicts\n",
    "post_info = []\n",
    "# loop through dicts and get specific info\n",
    "for b in mother:\n",
    "    \n",
    "    info = {}\n",
    "    info['id'] = b['id']\n",
    "    info['latitude'] = b['coordinates']['latitude']\n",
    "    info['longitude'] = b['coordinates']['longitude']\n",
    "    info['rating'] = b['rating']\n",
    "    info['address'] = b['location']['address1']\n",
    "    info['city'] = b['location']['city']\n",
    "    info['zip_code'] = b.get('location').get('zip_code', None)\n",
    "    info['phone'] = b['phone']\n",
    "    info['name'] = b['name']\n",
    "    info['price'] = b.get('price', None)\n",
    "    #info['category1'] = b['categories'][0].get('alias', None)\n",
    "    try:\n",
    "        info['category1'] = b['categories'][0].get('alias', None)\n",
    "        info['category2'] = b['categories'][1].get('alias', None)\n",
    "        info['category3'] = b['categories'][2].get('alias', None)\n",
    "        info['category4'] = b['categories'][3].get('alias', None)\n",
    "        info['category5'] = b['categories'][4].get('alias', None)\n",
    "    except: None\n",
    "    post_info.append(info)   \n",
    "# create dataframe    \n",
    "post_info_df = pd.DataFrame(post_info)"
   ]
  },
  {
   "cell_type": "code",
   "execution_count": 24,
   "metadata": {},
   "outputs": [
    {
     "data": {
      "text/plain": [
       "(277159, 15)"
      ]
     },
     "execution_count": 24,
     "metadata": {},
     "output_type": "execute_result"
    }
   ],
   "source": [
    "post_info_df.shape"
   ]
  },
  {
   "cell_type": "code",
   "execution_count": 25,
   "metadata": {},
   "outputs": [],
   "source": [
    "post_info_df.drop_duplicates(subset = 'id', keep= 'last', inplace = True)"
   ]
  },
  {
   "cell_type": "code",
   "execution_count": 26,
   "metadata": {},
   "outputs": [
    {
     "data": {
      "text/plain": [
       "(85011, 15)"
      ]
     },
     "execution_count": 26,
     "metadata": {},
     "output_type": "execute_result"
    }
   ],
   "source": [
    "post_info_df.shape"
   ]
  },
  {
   "cell_type": "code",
   "execution_count": 27,
   "metadata": {},
   "outputs": [
    {
     "data": {
      "text/html": [
       "<div>\n",
       "<style scoped>\n",
       "    .dataframe tbody tr th:only-of-type {\n",
       "        vertical-align: middle;\n",
       "    }\n",
       "\n",
       "    .dataframe tbody tr th {\n",
       "        vertical-align: top;\n",
       "    }\n",
       "\n",
       "    .dataframe thead th {\n",
       "        text-align: right;\n",
       "    }\n",
       "</style>\n",
       "<table border=\"1\" class=\"dataframe\">\n",
       "  <thead>\n",
       "    <tr style=\"text-align: right;\">\n",
       "      <th></th>\n",
       "      <th>address</th>\n",
       "      <th>category1</th>\n",
       "      <th>category2</th>\n",
       "      <th>category3</th>\n",
       "      <th>category4</th>\n",
       "      <th>category5</th>\n",
       "      <th>city</th>\n",
       "      <th>id</th>\n",
       "      <th>latitude</th>\n",
       "      <th>longitude</th>\n",
       "      <th>name</th>\n",
       "      <th>phone</th>\n",
       "      <th>price</th>\n",
       "      <th>rating</th>\n",
       "      <th>zip_code</th>\n",
       "    </tr>\n",
       "  </thead>\n",
       "  <tbody>\n",
       "  </tbody>\n",
       "</table>\n",
       "</div>"
      ],
      "text/plain": [
       "Empty DataFrame\n",
       "Columns: [address, category1, category2, category3, category4, category5, city, id, latitude, longitude, name, phone, price, rating, zip_code]\n",
       "Index: []"
      ]
     },
     "execution_count": 27,
     "metadata": {},
     "output_type": "execute_result"
    }
   ],
   "source": [
    "post_info_df[post_info_df['id'].duplicated()]"
   ]
  },
  {
   "cell_type": "code",
   "execution_count": 28,
   "metadata": {},
   "outputs": [
    {
     "data": {
      "text/html": [
       "<div>\n",
       "<style scoped>\n",
       "    .dataframe tbody tr th:only-of-type {\n",
       "        vertical-align: middle;\n",
       "    }\n",
       "\n",
       "    .dataframe tbody tr th {\n",
       "        vertical-align: top;\n",
       "    }\n",
       "\n",
       "    .dataframe thead th {\n",
       "        text-align: right;\n",
       "    }\n",
       "</style>\n",
       "<table border=\"1\" class=\"dataframe\">\n",
       "  <thead>\n",
       "    <tr style=\"text-align: right;\">\n",
       "      <th></th>\n",
       "      <th>address</th>\n",
       "      <th>category1</th>\n",
       "      <th>category2</th>\n",
       "      <th>category3</th>\n",
       "      <th>category4</th>\n",
       "      <th>category5</th>\n",
       "      <th>city</th>\n",
       "      <th>id</th>\n",
       "      <th>latitude</th>\n",
       "      <th>longitude</th>\n",
       "      <th>name</th>\n",
       "      <th>phone</th>\n",
       "      <th>price</th>\n",
       "      <th>rating</th>\n",
       "      <th>zip_code</th>\n",
       "    </tr>\n",
       "  </thead>\n",
       "  <tbody>\n",
       "    <tr>\n",
       "      <th>71</th>\n",
       "      <td>1517 E Florence Ave</td>\n",
       "      <td>mexican</td>\n",
       "      <td>NaN</td>\n",
       "      <td>NaN</td>\n",
       "      <td>NaN</td>\n",
       "      <td>NaN</td>\n",
       "      <td>Los Angeles</td>\n",
       "      <td>RVJ7CtzHbSIXySMJ7uJw9w</td>\n",
       "      <td>33.974990</td>\n",
       "      <td>-118.246960</td>\n",
       "      <td>El Senor Taco</td>\n",
       "      <td>+13235824709</td>\n",
       "      <td>$</td>\n",
       "      <td>3.5</td>\n",
       "      <td>90001</td>\n",
       "    </tr>\n",
       "    <tr>\n",
       "      <th>109</th>\n",
       "      <td>7600 Graham Ave</td>\n",
       "      <td>parks</td>\n",
       "      <td>playgrounds</td>\n",
       "      <td>recreation</td>\n",
       "      <td>NaN</td>\n",
       "      <td>NaN</td>\n",
       "      <td>Los Angeles</td>\n",
       "      <td>73_9SM3HCAPZi6VmjjY2Rg</td>\n",
       "      <td>33.970200</td>\n",
       "      <td>-118.242040</td>\n",
       "      <td>Franklin D Roosevelt Park</td>\n",
       "      <td>+13235867201</td>\n",
       "      <td>None</td>\n",
       "      <td>4.5</td>\n",
       "      <td>90001</td>\n",
       "    </tr>\n",
       "    <tr>\n",
       "      <th>111</th>\n",
       "      <td>None</td>\n",
       "      <td>desserts</td>\n",
       "      <td>chocolate</td>\n",
       "      <td>NaN</td>\n",
       "      <td>NaN</td>\n",
       "      <td>NaN</td>\n",
       "      <td>Los Angeles</td>\n",
       "      <td>XuDsBBkKMgyb19qrCG-Vxw</td>\n",
       "      <td>33.973630</td>\n",
       "      <td>-118.249890</td>\n",
       "      <td>Brigadier Sweets</td>\n",
       "      <td>+12132811821</td>\n",
       "      <td>$$</td>\n",
       "      <td>5.0</td>\n",
       "      <td>90001</td>\n",
       "    </tr>\n",
       "    <tr>\n",
       "      <th>118</th>\n",
       "      <td>None</td>\n",
       "      <td>foodtrucks</td>\n",
       "      <td>african</td>\n",
       "      <td>NaN</td>\n",
       "      <td>NaN</td>\n",
       "      <td>NaN</td>\n",
       "      <td>Los Angeles</td>\n",
       "      <td>E02jtyN7b9LJW8bJwX97kA</td>\n",
       "      <td>33.978530</td>\n",
       "      <td>-118.249700</td>\n",
       "      <td>African Chop</td>\n",
       "      <td>+14084295458</td>\n",
       "      <td>None</td>\n",
       "      <td>4.5</td>\n",
       "      <td>90001</td>\n",
       "    </tr>\n",
       "    <tr>\n",
       "      <th>129</th>\n",
       "      <td>757 S La Brea Ave</td>\n",
       "      <td>foodtrucks</td>\n",
       "      <td>mexican</td>\n",
       "      <td>NaN</td>\n",
       "      <td>NaN</td>\n",
       "      <td>NaN</td>\n",
       "      <td>Los Angeles</td>\n",
       "      <td>KWKkQHHwVBPS_4abj-DaYw</td>\n",
       "      <td>34.060716</td>\n",
       "      <td>-118.344931</td>\n",
       "      <td>Huitlacoche</td>\n",
       "      <td>+13233810688</td>\n",
       "      <td>$</td>\n",
       "      <td>4.5</td>\n",
       "      <td>90017</td>\n",
       "    </tr>\n",
       "  </tbody>\n",
       "</table>\n",
       "</div>"
      ],
      "text/plain": [
       "                 address   category1    category2   category3 category4  \\\n",
       "71   1517 E Florence Ave     mexican          NaN         NaN       NaN   \n",
       "109      7600 Graham Ave       parks  playgrounds  recreation       NaN   \n",
       "111                 None    desserts    chocolate         NaN       NaN   \n",
       "118                 None  foodtrucks      african         NaN       NaN   \n",
       "129    757 S La Brea Ave  foodtrucks      mexican         NaN       NaN   \n",
       "\n",
       "    category5         city                      id   latitude   longitude  \\\n",
       "71        NaN  Los Angeles  RVJ7CtzHbSIXySMJ7uJw9w  33.974990 -118.246960   \n",
       "109       NaN  Los Angeles  73_9SM3HCAPZi6VmjjY2Rg  33.970200 -118.242040   \n",
       "111       NaN  Los Angeles  XuDsBBkKMgyb19qrCG-Vxw  33.973630 -118.249890   \n",
       "118       NaN  Los Angeles  E02jtyN7b9LJW8bJwX97kA  33.978530 -118.249700   \n",
       "129       NaN  Los Angeles  KWKkQHHwVBPS_4abj-DaYw  34.060716 -118.344931   \n",
       "\n",
       "                          name         phone price  rating zip_code  \n",
       "71               El Senor Taco  +13235824709     $     3.5    90001  \n",
       "109  Franklin D Roosevelt Park  +13235867201  None     4.5    90001  \n",
       "111           Brigadier Sweets  +12132811821    $$     5.0    90001  \n",
       "118               African Chop  +14084295458  None     4.5    90001  \n",
       "129                Huitlacoche  +13233810688     $     4.5    90017  "
      ]
     },
     "execution_count": 28,
     "metadata": {},
     "output_type": "execute_result"
    }
   ],
   "source": [
    "post_info_df.head()"
   ]
  },
  {
   "cell_type": "code",
   "execution_count": 29,
   "metadata": {},
   "outputs": [],
   "source": [
    "post_info_df.to_csv('./datasets/CA')"
   ]
  },
  {
   "cell_type": "code",
   "execution_count": 33,
   "metadata": {},
   "outputs": [
    {
     "data": {
      "text/html": [
       "<div>\n",
       "<style scoped>\n",
       "    .dataframe tbody tr th:only-of-type {\n",
       "        vertical-align: middle;\n",
       "    }\n",
       "\n",
       "    .dataframe tbody tr th {\n",
       "        vertical-align: top;\n",
       "    }\n",
       "\n",
       "    .dataframe thead th {\n",
       "        text-align: right;\n",
       "    }\n",
       "</style>\n",
       "<table border=\"1\" class=\"dataframe\">\n",
       "  <thead>\n",
       "    <tr style=\"text-align: right;\">\n",
       "      <th></th>\n",
       "      <th>address</th>\n",
       "      <th>category1</th>\n",
       "      <th>category2</th>\n",
       "      <th>category3</th>\n",
       "      <th>category4</th>\n",
       "      <th>category5</th>\n",
       "      <th>city</th>\n",
       "      <th>id</th>\n",
       "      <th>latitude</th>\n",
       "      <th>longitude</th>\n",
       "      <th>name</th>\n",
       "      <th>phone</th>\n",
       "      <th>price</th>\n",
       "      <th>rating</th>\n",
       "      <th>zip_code</th>\n",
       "    </tr>\n",
       "  </thead>\n",
       "  <tbody>\n",
       "    <tr>\n",
       "      <th>8762</th>\n",
       "      <td>5257 Hollywood Blvd</td>\n",
       "      <td>thai</td>\n",
       "      <td>NaN</td>\n",
       "      <td>NaN</td>\n",
       "      <td>NaN</td>\n",
       "      <td>NaN</td>\n",
       "      <td>Los Angeles</td>\n",
       "      <td>UdpE_5k2c3zsGBFdcAjMGA</td>\n",
       "      <td>34.101885</td>\n",
       "      <td>-118.30513</td>\n",
       "      <td>Ruen Pair</td>\n",
       "      <td>+13234660153</td>\n",
       "      <td>$$</td>\n",
       "      <td>4.0</td>\n",
       "      <td>90027</td>\n",
       "    </tr>\n",
       "  </tbody>\n",
       "</table>\n",
       "</div>"
      ],
      "text/plain": [
       "                  address category1 category2 category3 category4 category5  \\\n",
       "8762  5257 Hollywood Blvd      thai       NaN       NaN       NaN       NaN   \n",
       "\n",
       "             city                      id   latitude  longitude       name  \\\n",
       "8762  Los Angeles  UdpE_5k2c3zsGBFdcAjMGA  34.101885 -118.30513  Ruen Pair   \n",
       "\n",
       "             phone price  rating zip_code  \n",
       "8762  +13234660153    $$     4.0    90027  "
      ]
     },
     "execution_count": 33,
     "metadata": {},
     "output_type": "execute_result"
    }
   ],
   "source": [
    "post_info_df[post_info_df['name'] == 'Ruen Pair']"
   ]
  },
  {
   "cell_type": "code",
   "execution_count": 38,
   "metadata": {},
   "outputs": [
    {
     "data": {
      "text/plain": [
       "3444"
      ]
     },
     "execution_count": 38,
     "metadata": {},
     "output_type": "execute_result"
    }
   ],
   "source": [
    "post_info_df['zip_code'].nunique()"
   ]
  },
  {
   "cell_type": "code",
   "execution_count": 39,
   "metadata": {},
   "outputs": [
    {
     "data": {
      "text/plain": [
       "           288\n",
       "96720      235\n",
       "92101      203\n",
       "96740      184\n",
       "96150      171\n",
       "92262      162\n",
       "94110      160\n",
       "95240      155\n",
       "98225      153\n",
       "96161      152\n",
       "93230      151\n",
       "98499      149\n",
       "95020      148\n",
       "98801      147\n",
       "93446      147\n",
       "95603      145\n",
       "99801      144\n",
       "96753      144\n",
       "94513      144\n",
       "95928      144\n",
       "91355      143\n",
       "92054      143\n",
       "92243      142\n",
       "96761      142\n",
       "95060      142\n",
       "93257      141\n",
       "95076      140\n",
       "95630      140\n",
       "95376      140\n",
       "95037      139\n",
       "          ... \n",
       "V2R 4E1      1\n",
       "V2R 4H2      1\n",
       "94595        1\n",
       "V2P 4N8      1\n",
       "V2S 4A5      1\n",
       "28075        1\n",
       "77031        1\n",
       "22116        1\n",
       "46032        1\n",
       "V0H 1B0      1\n",
       "44401        1\n",
       "V2P 2L7      1\n",
       "97461        1\n",
       "V0S 1N0      1\n",
       "98907        1\n",
       "95637        1\n",
       "V2P 7K6      1\n",
       "V2T 6K2      1\n",
       "V3S 9N8      1\n",
       "91008        1\n",
       "99707        1\n",
       "91399        1\n",
       "93932        1\n",
       "V2S 5A1      1\n",
       "V3S 9S4      1\n",
       "93201        1\n",
       "98504        1\n",
       "93450        1\n",
       "93276        1\n",
       "98643        1\n",
       "Name: zip_code, Length: 3444, dtype: int64"
      ]
     },
     "execution_count": 39,
     "metadata": {},
     "output_type": "execute_result"
    }
   ],
   "source": [
    "post_info_df['zip_code'].value_counts()"
   ]
  },
  {
   "cell_type": "code",
   "execution_count": null,
   "metadata": {},
   "outputs": [],
   "source": []
  }
 ],
 "metadata": {
  "kernelspec": {
   "display_name": "Python 3",
   "language": "python",
   "name": "python3"
  },
  "language_info": {
   "codemirror_mode": {
    "name": "ipython",
    "version": 3
   },
   "file_extension": ".py",
   "mimetype": "text/x-python",
   "name": "python",
   "nbconvert_exporter": "python",
   "pygments_lexer": "ipython3",
   "version": "3.7.1"
  }
 },
 "nbformat": 4,
 "nbformat_minor": 2
}
