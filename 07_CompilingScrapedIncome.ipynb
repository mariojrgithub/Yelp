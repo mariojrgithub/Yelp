{
 "cells": [
  {
   "cell_type": "markdown",
   "metadata": {},
   "source": [
    "# This notebook will combine the potential features with the median we scraped "
   ]
  },
  {
   "cell_type": "code",
   "execution_count": 1,
   "metadata": {},
   "outputs": [],
   "source": [
    "import pandas as pd"
   ]
  },
  {
   "cell_type": "code",
   "execution_count": 2,
   "metadata": {},
   "outputs": [
    {
     "data": {
      "text/html": [
       "<div>\n",
       "<style scoped>\n",
       "    .dataframe tbody tr th:only-of-type {\n",
       "        vertical-align: middle;\n",
       "    }\n",
       "\n",
       "    .dataframe tbody tr th {\n",
       "        vertical-align: top;\n",
       "    }\n",
       "\n",
       "    .dataframe thead th {\n",
       "        text-align: right;\n",
       "    }\n",
       "</style>\n",
       "<table border=\"1\" class=\"dataframe\">\n",
       "  <thead>\n",
       "    <tr style=\"text-align: right;\">\n",
       "      <th></th>\n",
       "      <th>Unnamed: 0</th>\n",
       "      <th>Unnamed: 0.1</th>\n",
       "      <th>Unnamed: 0.1.1</th>\n",
       "      <th>zip_code</th>\n",
       "      <th>count</th>\n",
       "      <th>latitude</th>\n",
       "      <th>longitude</th>\n",
       "      <th>Price_1</th>\n",
       "      <th>Price_2</th>\n",
       "      <th>Price_3</th>\n",
       "      <th>...</th>\n",
       "      <th>wine_bars</th>\n",
       "      <th>wineries</th>\n",
       "      <th>winetasteclasses</th>\n",
       "      <th>winetastingroom</th>\n",
       "      <th>winetours</th>\n",
       "      <th>womenscloth</th>\n",
       "      <th>wraps</th>\n",
       "      <th>yelpevents</th>\n",
       "      <th>yoga</th>\n",
       "      <th>zoos</th>\n",
       "    </tr>\n",
       "  </thead>\n",
       "  <tbody>\n",
       "    <tr>\n",
       "      <th>0</th>\n",
       "      <td>0</td>\n",
       "      <td>1</td>\n",
       "      <td>1</td>\n",
       "      <td>90001</td>\n",
       "      <td>30</td>\n",
       "      <td>33.976530</td>\n",
       "      <td>-118.249230</td>\n",
       "      <td>18</td>\n",
       "      <td>12</td>\n",
       "      <td>0</td>\n",
       "      <td>...</td>\n",
       "      <td>0</td>\n",
       "      <td>0</td>\n",
       "      <td>0</td>\n",
       "      <td>0</td>\n",
       "      <td>0</td>\n",
       "      <td>0</td>\n",
       "      <td>0</td>\n",
       "      <td>0</td>\n",
       "      <td>0</td>\n",
       "      <td>0</td>\n",
       "    </tr>\n",
       "    <tr>\n",
       "      <th>1</th>\n",
       "      <td>1</td>\n",
       "      <td>2</td>\n",
       "      <td>2</td>\n",
       "      <td>90002</td>\n",
       "      <td>4</td>\n",
       "      <td>33.948102</td>\n",
       "      <td>-118.248582</td>\n",
       "      <td>3</td>\n",
       "      <td>1</td>\n",
       "      <td>0</td>\n",
       "      <td>...</td>\n",
       "      <td>0</td>\n",
       "      <td>0</td>\n",
       "      <td>0</td>\n",
       "      <td>0</td>\n",
       "      <td>0</td>\n",
       "      <td>0</td>\n",
       "      <td>0</td>\n",
       "      <td>0</td>\n",
       "      <td>0</td>\n",
       "      <td>0</td>\n",
       "    </tr>\n",
       "    <tr>\n",
       "      <th>2</th>\n",
       "      <td>2</td>\n",
       "      <td>3</td>\n",
       "      <td>3</td>\n",
       "      <td>90003</td>\n",
       "      <td>20</td>\n",
       "      <td>33.971906</td>\n",
       "      <td>-118.272539</td>\n",
       "      <td>16</td>\n",
       "      <td>4</td>\n",
       "      <td>0</td>\n",
       "      <td>...</td>\n",
       "      <td>0</td>\n",
       "      <td>0</td>\n",
       "      <td>0</td>\n",
       "      <td>0</td>\n",
       "      <td>0</td>\n",
       "      <td>0</td>\n",
       "      <td>0</td>\n",
       "      <td>0</td>\n",
       "      <td>0</td>\n",
       "      <td>0</td>\n",
       "    </tr>\n",
       "    <tr>\n",
       "      <th>3</th>\n",
       "      <td>3</td>\n",
       "      <td>4</td>\n",
       "      <td>4</td>\n",
       "      <td>90004</td>\n",
       "      <td>29</td>\n",
       "      <td>34.076563</td>\n",
       "      <td>-118.310331</td>\n",
       "      <td>10</td>\n",
       "      <td>19</td>\n",
       "      <td>0</td>\n",
       "      <td>...</td>\n",
       "      <td>0</td>\n",
       "      <td>0</td>\n",
       "      <td>0</td>\n",
       "      <td>0</td>\n",
       "      <td>0</td>\n",
       "      <td>0</td>\n",
       "      <td>0</td>\n",
       "      <td>0</td>\n",
       "      <td>0</td>\n",
       "      <td>0</td>\n",
       "    </tr>\n",
       "    <tr>\n",
       "      <th>4</th>\n",
       "      <td>4</td>\n",
       "      <td>5</td>\n",
       "      <td>5</td>\n",
       "      <td>90005</td>\n",
       "      <td>45</td>\n",
       "      <td>34.059083</td>\n",
       "      <td>-118.298835</td>\n",
       "      <td>11</td>\n",
       "      <td>33</td>\n",
       "      <td>1</td>\n",
       "      <td>...</td>\n",
       "      <td>0</td>\n",
       "      <td>0</td>\n",
       "      <td>0</td>\n",
       "      <td>0</td>\n",
       "      <td>0</td>\n",
       "      <td>0</td>\n",
       "      <td>0</td>\n",
       "      <td>0</td>\n",
       "      <td>0</td>\n",
       "      <td>0</td>\n",
       "    </tr>\n",
       "  </tbody>\n",
       "</table>\n",
       "<p>5 rows × 501 columns</p>\n",
       "</div>"
      ],
      "text/plain": [
       "   Unnamed: 0  Unnamed: 0.1  Unnamed: 0.1.1  zip_code  count   latitude  \\\n",
       "0           0             1               1     90001     30  33.976530   \n",
       "1           1             2               2     90002      4  33.948102   \n",
       "2           2             3               3     90003     20  33.971906   \n",
       "3           3             4               4     90004     29  34.076563   \n",
       "4           4             5               5     90005     45  34.059083   \n",
       "\n",
       "    longitude  Price_1  Price_2  Price_3  ...   wine_bars  wineries  \\\n",
       "0 -118.249230       18       12        0  ...           0         0   \n",
       "1 -118.248582        3        1        0  ...           0         0   \n",
       "2 -118.272539       16        4        0  ...           0         0   \n",
       "3 -118.310331       10       19        0  ...           0         0   \n",
       "4 -118.298835       11       33        1  ...           0         0   \n",
       "\n",
       "   winetasteclasses  winetastingroom  winetours  womenscloth  wraps  \\\n",
       "0                 0                0          0            0      0   \n",
       "1                 0                0          0            0      0   \n",
       "2                 0                0          0            0      0   \n",
       "3                 0                0          0            0      0   \n",
       "4                 0                0          0            0      0   \n",
       "\n",
       "   yelpevents  yoga  zoos  \n",
       "0           0     0     0  \n",
       "1           0     0     0  \n",
       "2           0     0     0  \n",
       "3           0     0     0  \n",
       "4           0     0     0  \n",
       "\n",
       "[5 rows x 501 columns]"
      ]
     },
     "execution_count": 2,
     "metadata": {},
     "output_type": "execute_result"
    }
   ],
   "source": [
    "mother = pd.read_csv('./datasets/MOTHEROFMOTHERS.csv')\n",
    "mother.head()"
   ]
  },
  {
   "cell_type": "code",
   "execution_count": 3,
   "metadata": {},
   "outputs": [],
   "source": [
    "all_zips = list(mother['zip_code'])"
   ]
  },
  {
   "cell_type": "code",
   "execution_count": 4,
   "metadata": {},
   "outputs": [
    {
     "data": {
      "text/plain": [
       "2423"
      ]
     },
     "execution_count": 4,
     "metadata": {},
     "output_type": "execute_result"
    }
   ],
   "source": [
    "len(all_zips)"
   ]
  },
  {
   "cell_type": "markdown",
   "metadata": {},
   "source": [
    "### Reading all the target variables we scraped"
   ]
  },
  {
   "cell_type": "code",
   "execution_count": 5,
   "metadata": {},
   "outputs": [],
   "source": [
    "zip1 = pd.read_csv('./datasets/target1.csv')\n",
    "zip2 = pd.read_csv('./datasets/target2.csv')\n",
    "zip3 = pd.read_csv('./datasets/target3.csv')\n",
    "zip4 = pd.read_csv('./datasets/target4.csv')\n",
    "zip5 = pd.read_csv('./datasets/target5.csv')\n",
    "zip6 = pd.read_csv('./datasets/target6.csv')"
   ]
  },
  {
   "cell_type": "code",
   "execution_count": 6,
   "metadata": {},
   "outputs": [],
   "source": [
    "#dropping all Unnamed columns\n",
    "zip1.drop(labels = 'Unnamed: 0', axis = 'columns', inplace= True)\n",
    "zip2.drop(labels = 'Unnamed: 0', axis = 'columns', inplace= True)\n",
    "zip3.drop(labels = 'Unnamed: 0', axis = 'columns', inplace= True)\n",
    "zip4.drop(labels = 'Unnamed: 0', axis = 'columns', inplace= True)\n",
    "zip5.drop(labels = 'Unnamed: 0', axis = 'columns', inplace= True)\n",
    "zip6.drop(labels = 'Unnamed: 0', axis = 'columns', inplace= True)"
   ]
  },
  {
   "cell_type": "code",
   "execution_count": 7,
   "metadata": {},
   "outputs": [
    {
     "data": {
      "text/html": [
       "<div>\n",
       "<style scoped>\n",
       "    .dataframe tbody tr th:only-of-type {\n",
       "        vertical-align: middle;\n",
       "    }\n",
       "\n",
       "    .dataframe tbody tr th {\n",
       "        vertical-align: top;\n",
       "    }\n",
       "\n",
       "    .dataframe thead th {\n",
       "        text-align: right;\n",
       "    }\n",
       "</style>\n",
       "<table border=\"1\" class=\"dataframe\">\n",
       "  <thead>\n",
       "    <tr style=\"text-align: right;\">\n",
       "      <th></th>\n",
       "      <th>zip</th>\n",
       "      <th>income</th>\n",
       "    </tr>\n",
       "  </thead>\n",
       "  <tbody>\n",
       "    <tr>\n",
       "      <th>0</th>\n",
       "      <td>98601</td>\n",
       "      <td>61071</td>\n",
       "    </tr>\n",
       "    <tr>\n",
       "      <th>1</th>\n",
       "      <td>98604</td>\n",
       "      <td>76193</td>\n",
       "    </tr>\n",
       "    <tr>\n",
       "      <th>2</th>\n",
       "      <td>98605</td>\n",
       "      <td>53864</td>\n",
       "    </tr>\n",
       "    <tr>\n",
       "      <th>3</th>\n",
       "      <td>98607</td>\n",
       "      <td>96842</td>\n",
       "    </tr>\n",
       "    <tr>\n",
       "      <th>4</th>\n",
       "      <td>98610</td>\n",
       "      <td>38615</td>\n",
       "    </tr>\n",
       "  </tbody>\n",
       "</table>\n",
       "</div>"
      ],
      "text/plain": [
       "     zip  income\n",
       "0  98601   61071\n",
       "1  98604   76193\n",
       "2  98605   53864\n",
       "3  98607   96842\n",
       "4  98610   38615"
      ]
     },
     "execution_count": 7,
     "metadata": {},
     "output_type": "execute_result"
    }
   ],
   "source": [
    "#sanity\n",
    "zip6.head()"
   ]
  },
  {
   "cell_type": "code",
   "execution_count": 8,
   "metadata": {},
   "outputs": [],
   "source": [
    "#combining all 6 target variable DFs and calling it zips\n",
    "frames = [zip1, zip2, zip3, zip4, zip5, zip6]\n",
    "\n",
    "zips = pd.concat(frames)"
   ]
  },
  {
   "cell_type": "code",
   "execution_count": 9,
   "metadata": {},
   "outputs": [
    {
     "data": {
      "text/html": [
       "<div>\n",
       "<style scoped>\n",
       "    .dataframe tbody tr th:only-of-type {\n",
       "        vertical-align: middle;\n",
       "    }\n",
       "\n",
       "    .dataframe tbody tr th {\n",
       "        vertical-align: top;\n",
       "    }\n",
       "\n",
       "    .dataframe thead th {\n",
       "        text-align: right;\n",
       "    }\n",
       "</style>\n",
       "<table border=\"1\" class=\"dataframe\">\n",
       "  <thead>\n",
       "    <tr style=\"text-align: right;\">\n",
       "      <th></th>\n",
       "      <th>zip</th>\n",
       "      <th>income</th>\n",
       "    </tr>\n",
       "  </thead>\n",
       "  <tbody>\n",
       "    <tr>\n",
       "      <th>0</th>\n",
       "      <td>90001</td>\n",
       "      <td>35660</td>\n",
       "    </tr>\n",
       "    <tr>\n",
       "      <th>1</th>\n",
       "      <td>90002</td>\n",
       "      <td>34000</td>\n",
       "    </tr>\n",
       "    <tr>\n",
       "      <th>2</th>\n",
       "      <td>90003</td>\n",
       "      <td>34397</td>\n",
       "    </tr>\n",
       "    <tr>\n",
       "      <th>3</th>\n",
       "      <td>90004</td>\n",
       "      <td>46581</td>\n",
       "    </tr>\n",
       "    <tr>\n",
       "      <th>4</th>\n",
       "      <td>90005</td>\n",
       "      <td>32461</td>\n",
       "    </tr>\n",
       "  </tbody>\n",
       "</table>\n",
       "</div>"
      ],
      "text/plain": [
       "     zip  income\n",
       "0  90001   35660\n",
       "1  90002   34000\n",
       "2  90003   34397\n",
       "3  90004   46581\n",
       "4  90005   32461"
      ]
     },
     "execution_count": 9,
     "metadata": {},
     "output_type": "execute_result"
    }
   ],
   "source": [
    "#sanity check\n",
    "zips.head()"
   ]
  },
  {
   "cell_type": "code",
   "execution_count": 10,
   "metadata": {},
   "outputs": [
    {
     "data": {
      "text/plain": [
       "zip       int64\n",
       "income    int64\n",
       "dtype: object"
      ]
     },
     "execution_count": 10,
     "metadata": {},
     "output_type": "execute_result"
    }
   ],
   "source": [
    "#sanity check\n",
    "zips.dtypes"
   ]
  },
  {
   "cell_type": "code",
   "execution_count": 11,
   "metadata": {},
   "outputs": [
    {
     "data": {
      "text/plain": [
       "zip       0\n",
       "income    0\n",
       "dtype: int64"
      ]
     },
     "execution_count": 11,
     "metadata": {},
     "output_type": "execute_result"
    }
   ],
   "source": [
    "#sanity check\n",
    "zips.isnull().sum()"
   ]
  },
  {
   "cell_type": "code",
   "execution_count": 12,
   "metadata": {},
   "outputs": [
    {
     "data": {
      "text/plain": [
       "(2354, 2)"
      ]
     },
     "execution_count": 12,
     "metadata": {},
     "output_type": "execute_result"
    }
   ],
   "source": [
    "#sanity check\n",
    "zips.shape"
   ]
  },
  {
   "cell_type": "code",
   "execution_count": 13,
   "metadata": {},
   "outputs": [
    {
     "data": {
      "text/plain": [
       "2354"
      ]
     },
     "execution_count": 13,
     "metadata": {},
     "output_type": "execute_result"
    }
   ],
   "source": [
    "#sanity check\n",
    "zips['zip'].nunique()"
   ]
  },
  {
   "cell_type": "markdown",
   "metadata": {},
   "source": [
    "### Organizing list of zip codes to:\n",
    "- List of zip codes where target variable is 0 (called `zero_zips`)\n",
    "- List of zip codes where target variable is not zero (called `good_zips`)\n",
    "- List of zip codes where it is missing target variables completely (called `missing_zips`)"
   ]
  },
  {
   "cell_type": "code",
   "execution_count": 14,
   "metadata": {},
   "outputs": [],
   "source": [
    "#all zip codes that are zero \n",
    "zero_zips = zips[zips['income'] ==0]"
   ]
  },
  {
   "cell_type": "code",
   "execution_count": 15,
   "metadata": {},
   "outputs": [],
   "source": [
    "good_zips = zips[zips['income'] != 0] "
   ]
  },
  {
   "cell_type": "code",
   "execution_count": 16,
   "metadata": {},
   "outputs": [
    {
     "data": {
      "text/plain": [
       "55"
      ]
     },
     "execution_count": 16,
     "metadata": {},
     "output_type": "execute_result"
    }
   ],
   "source": [
    "len(zero_zips)"
   ]
  },
  {
   "cell_type": "code",
   "execution_count": 25,
   "metadata": {},
   "outputs": [],
   "source": [
    "zero_zips_only = list(zero_zips['zip'])"
   ]
  },
  {
   "cell_type": "code",
   "execution_count": 26,
   "metadata": {},
   "outputs": [],
   "source": [
    "good_zips_only = list(good_zips['zip'])"
   ]
  },
  {
   "cell_type": "code",
   "execution_count": 27,
   "metadata": {},
   "outputs": [
    {
     "data": {
      "text/plain": [
       "2299"
      ]
     },
     "execution_count": 27,
     "metadata": {},
     "output_type": "execute_result"
    }
   ],
   "source": [
    "len(good_zips_only)"
   ]
  },
  {
   "cell_type": "code",
   "execution_count": 30,
   "metadata": {},
   "outputs": [],
   "source": [
    "missing_zips = list(set(all_zips) - set(zero_zips_only)- set(good_zips_only))"
   ]
  },
  {
   "cell_type": "code",
   "execution_count": 31,
   "metadata": {},
   "outputs": [
    {
     "data": {
      "text/plain": [
       "69"
      ]
     },
     "execution_count": 31,
     "metadata": {},
     "output_type": "execute_result"
    }
   ],
   "source": [
    "len(missing_zips)"
   ]
  },
  {
   "cell_type": "code",
   "execution_count": 32,
   "metadata": {},
   "outputs": [
    {
     "data": {
      "text/plain": [
       "2423"
      ]
     },
     "execution_count": 32,
     "metadata": {},
     "output_type": "execute_result"
    }
   ],
   "source": [
    "#sanity check\n",
    "2299+69+55"
   ]
  },
  {
   "cell_type": "code",
   "execution_count": 33,
   "metadata": {
    "collapsed": true
   },
   "outputs": [
    {
     "data": {
      "text/plain": [
       "[97540,\n",
       " 98821,\n",
       " 98310,\n",
       " 92551,\n",
       " 98312,\n",
       " 95365,\n",
       " 95624,\n",
       " 98056,\n",
       " 91917,\n",
       " 96142,\n",
       " 97426,\n",
       " 97050,\n",
       " 92315,\n",
       " 98590,\n",
       " 98847,\n",
       " 92320,\n",
       " 95006,\n",
       " 95521,\n",
       " 95401,\n",
       " 97065,\n",
       " 93612,\n",
       " 92333,\n",
       " 98606,\n",
       " 95407,\n",
       " 94519,\n",
       " 98360,\n",
       " 98619,\n",
       " 94525,\n",
       " 96703,\n",
       " 92225,\n",
       " 91202,\n",
       " 95425,\n",
       " 95682,\n",
       " 93637,\n",
       " 92230,\n",
       " 95430,\n",
       " 97603,\n",
       " 97731,\n",
       " 98506,\n",
       " 90049,\n",
       " 92620,\n",
       " 92624,\n",
       " 94937,\n",
       " 99674,\n",
       " 91740,\n",
       " 94044,\n",
       " 95070,\n",
       " 92256,\n",
       " 92257,\n",
       " 96738,\n",
       " 98660,\n",
       " 95460,\n",
       " 98406,\n",
       " 98662,\n",
       " 93543,\n",
       " 98537,\n",
       " 94954,\n",
       " 99179,\n",
       " 95467,\n",
       " 95722,\n",
       " 97136,\n",
       " 95345,\n",
       " 94706,\n",
       " 97137,\n",
       " 98548,\n",
       " 97522,\n",
       " 98036,\n",
       " 93304,\n",
       " 90620]"
      ]
     },
     "execution_count": 33,
     "metadata": {},
     "output_type": "execute_result"
    }
   ],
   "source": [
    "#list of zip codes where we are missing our target variable \n",
    "missing_zips"
   ]
  },
  {
   "cell_type": "code",
   "execution_count": 34,
   "metadata": {
    "collapsed": true
   },
   "outputs": [
    {
     "data": {
      "text/plain": [
       "[90031,\n",
       " 90071,\n",
       " 90241,\n",
       " 91980,\n",
       " 92055,\n",
       " 92060,\n",
       " 92135,\n",
       " 92258,\n",
       " 92341,\n",
       " 93452,\n",
       " 93541,\n",
       " 93928,\n",
       " 94060,\n",
       " 94128,\n",
       " 94573,\n",
       " 94922,\n",
       " 94972,\n",
       " 95033,\n",
       " 95140,\n",
       " 95234,\n",
       " 95305,\n",
       " 95364,\n",
       " 95471,\n",
       " 95494,\n",
       " 95537,\n",
       " 95601,\n",
       " 95728,\n",
       " 95962,\n",
       " 96126,\n",
       " 96155,\n",
       " 96759,\n",
       " 96826,\n",
       " 96853,\n",
       " 96857,\n",
       " 96859,\n",
       " 96860,\n",
       " 97011,\n",
       " 97204,\n",
       " 97331,\n",
       " 97486,\n",
       " 98101,\n",
       " 98201,\n",
       " 98238,\n",
       " 98283,\n",
       " 98330,\n",
       " 98364,\n",
       " 98421,\n",
       " 98438,\n",
       " 98444,\n",
       " 98535,\n",
       " 98555,\n",
       " 98614,\n",
       " 98616,\n",
       " 99510,\n",
       " 99605]"
      ]
     },
     "execution_count": 34,
     "metadata": {},
     "output_type": "execute_result"
    }
   ],
   "source": [
    "#list of zip codes where target variable is 0\n",
    "zero_zips_only"
   ]
  },
  {
   "cell_type": "code",
   "execution_count": 35,
   "metadata": {},
   "outputs": [
    {
     "data": {
      "text/plain": [
       "124"
      ]
     },
     "execution_count": 35,
     "metadata": {},
     "output_type": "execute_result"
    }
   ],
   "source": [
    "#sanity\n",
    "69+55"
   ]
  },
  {
   "cell_type": "code",
   "execution_count": 37,
   "metadata": {},
   "outputs": [
    {
     "data": {
      "text/plain": [
       "2423"
      ]
     },
     "execution_count": 37,
     "metadata": {},
     "output_type": "execute_result"
    }
   ],
   "source": [
    "#sanity\n",
    "124+2299"
   ]
  },
  {
   "cell_type": "code",
   "execution_count": 39,
   "metadata": {},
   "outputs": [
    {
     "data": {
      "text/plain": [
       "(2299, 2)"
      ]
     },
     "execution_count": 39,
     "metadata": {},
     "output_type": "execute_result"
    }
   ],
   "source": [
    "#where we have the target variable for these zip codes\n",
    "good_zips.shape"
   ]
  },
  {
   "cell_type": "code",
   "execution_count": 41,
   "metadata": {},
   "outputs": [
    {
     "data": {
      "text/plain": [
       "124"
      ]
     },
     "execution_count": 41,
     "metadata": {},
     "output_type": "execute_result"
    }
   ],
   "source": [
    "#sanity\n",
    "2423-2299"
   ]
  },
  {
   "cell_type": "code",
   "execution_count": 42,
   "metadata": {},
   "outputs": [
    {
     "data": {
      "text/html": [
       "<div>\n",
       "<style scoped>\n",
       "    .dataframe tbody tr th:only-of-type {\n",
       "        vertical-align: middle;\n",
       "    }\n",
       "\n",
       "    .dataframe tbody tr th {\n",
       "        vertical-align: top;\n",
       "    }\n",
       "\n",
       "    .dataframe thead th {\n",
       "        text-align: right;\n",
       "    }\n",
       "</style>\n",
       "<table border=\"1\" class=\"dataframe\">\n",
       "  <thead>\n",
       "    <tr style=\"text-align: right;\">\n",
       "      <th></th>\n",
       "      <th>zip</th>\n",
       "      <th>income</th>\n",
       "    </tr>\n",
       "  </thead>\n",
       "  <tbody>\n",
       "    <tr>\n",
       "      <th>0</th>\n",
       "      <td>90001</td>\n",
       "      <td>35660</td>\n",
       "    </tr>\n",
       "    <tr>\n",
       "      <th>1</th>\n",
       "      <td>90002</td>\n",
       "      <td>34000</td>\n",
       "    </tr>\n",
       "    <tr>\n",
       "      <th>2</th>\n",
       "      <td>90003</td>\n",
       "      <td>34397</td>\n",
       "    </tr>\n",
       "    <tr>\n",
       "      <th>3</th>\n",
       "      <td>90004</td>\n",
       "      <td>46581</td>\n",
       "    </tr>\n",
       "    <tr>\n",
       "      <th>4</th>\n",
       "      <td>90005</td>\n",
       "      <td>32461</td>\n",
       "    </tr>\n",
       "  </tbody>\n",
       "</table>\n",
       "</div>"
      ],
      "text/plain": [
       "     zip  income\n",
       "0  90001   35660\n",
       "1  90002   34000\n",
       "2  90003   34397\n",
       "3  90004   46581\n",
       "4  90005   32461"
      ]
     },
     "execution_count": 42,
     "metadata": {},
     "output_type": "execute_result"
    }
   ],
   "source": [
    "#sanity\n",
    "good_zips.head()"
   ]
  },
  {
   "cell_type": "code",
   "execution_count": 43,
   "metadata": {},
   "outputs": [
    {
     "data": {
      "text/html": [
       "<div>\n",
       "<style scoped>\n",
       "    .dataframe tbody tr th:only-of-type {\n",
       "        vertical-align: middle;\n",
       "    }\n",
       "\n",
       "    .dataframe tbody tr th {\n",
       "        vertical-align: top;\n",
       "    }\n",
       "\n",
       "    .dataframe thead th {\n",
       "        text-align: right;\n",
       "    }\n",
       "</style>\n",
       "<table border=\"1\" class=\"dataframe\">\n",
       "  <thead>\n",
       "    <tr style=\"text-align: right;\">\n",
       "      <th></th>\n",
       "      <th>zip</th>\n",
       "      <th>income</th>\n",
       "    </tr>\n",
       "  </thead>\n",
       "  <tbody>\n",
       "    <tr>\n",
       "      <th>235</th>\n",
       "      <td>99835</td>\n",
       "      <td>70765</td>\n",
       "    </tr>\n",
       "    <tr>\n",
       "      <th>236</th>\n",
       "      <td>99840</td>\n",
       "      <td>70673</td>\n",
       "    </tr>\n",
       "    <tr>\n",
       "      <th>237</th>\n",
       "      <td>99901</td>\n",
       "      <td>67321</td>\n",
       "    </tr>\n",
       "    <tr>\n",
       "      <th>238</th>\n",
       "      <td>99921</td>\n",
       "      <td>58047</td>\n",
       "    </tr>\n",
       "    <tr>\n",
       "      <th>239</th>\n",
       "      <td>99929</td>\n",
       "      <td>55742</td>\n",
       "    </tr>\n",
       "  </tbody>\n",
       "</table>\n",
       "</div>"
      ],
      "text/plain": [
       "       zip  income\n",
       "235  99835   70765\n",
       "236  99840   70673\n",
       "237  99901   67321\n",
       "238  99921   58047\n",
       "239  99929   55742"
      ]
     },
     "execution_count": 43,
     "metadata": {},
     "output_type": "execute_result"
    }
   ],
   "source": [
    "#sanity\n",
    "good_zips.tail()"
   ]
  },
  {
   "cell_type": "code",
   "execution_count": 44,
   "metadata": {},
   "outputs": [],
   "source": [
    "good_zips.reset_index(inplace = True)"
   ]
  },
  {
   "cell_type": "code",
   "execution_count": 45,
   "metadata": {},
   "outputs": [
    {
     "data": {
      "text/html": [
       "<div>\n",
       "<style scoped>\n",
       "    .dataframe tbody tr th:only-of-type {\n",
       "        vertical-align: middle;\n",
       "    }\n",
       "\n",
       "    .dataframe tbody tr th {\n",
       "        vertical-align: top;\n",
       "    }\n",
       "\n",
       "    .dataframe thead th {\n",
       "        text-align: right;\n",
       "    }\n",
       "</style>\n",
       "<table border=\"1\" class=\"dataframe\">\n",
       "  <thead>\n",
       "    <tr style=\"text-align: right;\">\n",
       "      <th></th>\n",
       "      <th>index</th>\n",
       "      <th>zip</th>\n",
       "      <th>income</th>\n",
       "    </tr>\n",
       "  </thead>\n",
       "  <tbody>\n",
       "    <tr>\n",
       "      <th>0</th>\n",
       "      <td>0</td>\n",
       "      <td>90001</td>\n",
       "      <td>35660</td>\n",
       "    </tr>\n",
       "    <tr>\n",
       "      <th>1</th>\n",
       "      <td>1</td>\n",
       "      <td>90002</td>\n",
       "      <td>34000</td>\n",
       "    </tr>\n",
       "    <tr>\n",
       "      <th>2</th>\n",
       "      <td>2</td>\n",
       "      <td>90003</td>\n",
       "      <td>34397</td>\n",
       "    </tr>\n",
       "    <tr>\n",
       "      <th>3</th>\n",
       "      <td>3</td>\n",
       "      <td>90004</td>\n",
       "      <td>46581</td>\n",
       "    </tr>\n",
       "    <tr>\n",
       "      <th>4</th>\n",
       "      <td>4</td>\n",
       "      <td>90005</td>\n",
       "      <td>32461</td>\n",
       "    </tr>\n",
       "  </tbody>\n",
       "</table>\n",
       "</div>"
      ],
      "text/plain": [
       "   index    zip  income\n",
       "0      0  90001   35660\n",
       "1      1  90002   34000\n",
       "2      2  90003   34397\n",
       "3      3  90004   46581\n",
       "4      4  90005   32461"
      ]
     },
     "execution_count": 45,
     "metadata": {},
     "output_type": "execute_result"
    }
   ],
   "source": [
    "good_zips.head()"
   ]
  },
  {
   "cell_type": "code",
   "execution_count": 47,
   "metadata": {},
   "outputs": [
    {
     "data": {
      "text/plain": [
       "(2299, 3)"
      ]
     },
     "execution_count": 47,
     "metadata": {},
     "output_type": "execute_result"
    }
   ],
   "source": [
    "good_zips.shape"
   ]
  },
  {
   "cell_type": "code",
   "execution_count": 48,
   "metadata": {},
   "outputs": [],
   "source": [
    "#saving zip code and target variable where we scraped the income \n",
    "good_zips.to_csv('./datasets/GOODZIPS2299.CSV')"
   ]
  },
  {
   "cell_type": "code",
   "execution_count": 51,
   "metadata": {},
   "outputs": [
    {
     "data": {
      "text/plain": [
       "count      2299.000000\n",
       "mean      66859.515876\n",
       "std       28568.179233\n",
       "min        2500.000000\n",
       "25%       46729.500000\n",
       "50%       60754.000000\n",
       "75%       80758.500000\n",
       "max      250000.000000\n",
       "Name: income, dtype: float64"
      ]
     },
     "execution_count": 51,
     "metadata": {},
     "output_type": "execute_result"
    }
   ],
   "source": [
    "#sanity and seeing the min and max of median income... income disparity is a huge problem in America\n",
    "# but this is capitalism \n",
    "good_zips['income'].describe()"
   ]
  },
  {
   "cell_type": "code",
   "execution_count": 55,
   "metadata": {},
   "outputs": [
    {
     "data": {
      "text/html": [
       "<div>\n",
       "<style scoped>\n",
       "    .dataframe tbody tr th:only-of-type {\n",
       "        vertical-align: middle;\n",
       "    }\n",
       "\n",
       "    .dataframe tbody tr th {\n",
       "        vertical-align: top;\n",
       "    }\n",
       "\n",
       "    .dataframe thead th {\n",
       "        text-align: right;\n",
       "    }\n",
       "</style>\n",
       "<table border=\"1\" class=\"dataframe\">\n",
       "  <thead>\n",
       "    <tr style=\"text-align: right;\">\n",
       "      <th></th>\n",
       "      <th>index</th>\n",
       "      <th>zip</th>\n",
       "      <th>income</th>\n",
       "    </tr>\n",
       "  </thead>\n",
       "  <tbody>\n",
       "    <tr>\n",
       "      <th>1885</th>\n",
       "      <td>145</td>\n",
       "      <td>98164</td>\n",
       "      <td>250000</td>\n",
       "    </tr>\n",
       "  </tbody>\n",
       "</table>\n",
       "</div>"
      ],
      "text/plain": [
       "      index    zip  income\n",
       "1885    145  98164  250000"
      ]
     },
     "execution_count": 55,
     "metadata": {},
     "output_type": "execute_result"
    }
   ],
   "source": [
    "good_zips[good_zips['income'] == 250000]\n",
    "#in the heart of seattle"
   ]
  },
  {
   "cell_type": "code",
   "execution_count": 56,
   "metadata": {},
   "outputs": [
    {
     "data": {
      "text/html": [
       "<div>\n",
       "<style scoped>\n",
       "    .dataframe tbody tr th:only-of-type {\n",
       "        vertical-align: middle;\n",
       "    }\n",
       "\n",
       "    .dataframe tbody tr th {\n",
       "        vertical-align: top;\n",
       "    }\n",
       "\n",
       "    .dataframe thead th {\n",
       "        text-align: right;\n",
       "    }\n",
       "</style>\n",
       "<table border=\"1\" class=\"dataframe\">\n",
       "  <thead>\n",
       "    <tr style=\"text-align: right;\">\n",
       "      <th></th>\n",
       "      <th>index</th>\n",
       "      <th>zip</th>\n",
       "      <th>income</th>\n",
       "    </tr>\n",
       "  </thead>\n",
       "  <tbody>\n",
       "    <tr>\n",
       "      <th>58</th>\n",
       "      <td>60</td>\n",
       "      <td>90077</td>\n",
       "      <td>184722</td>\n",
       "    </tr>\n",
       "    <tr>\n",
       "      <th>61</th>\n",
       "      <td>63</td>\n",
       "      <td>90210</td>\n",
       "      <td>149732</td>\n",
       "    </tr>\n",
       "    <tr>\n",
       "      <th>81</th>\n",
       "      <td>84</td>\n",
       "      <td>90266</td>\n",
       "      <td>148899</td>\n",
       "    </tr>\n",
       "    <tr>\n",
       "      <th>83</th>\n",
       "      <td>86</td>\n",
       "      <td>90272</td>\n",
       "      <td>180962</td>\n",
       "    </tr>\n",
       "    <tr>\n",
       "      <th>84</th>\n",
       "      <td>87</td>\n",
       "      <td>90274</td>\n",
       "      <td>158497</td>\n",
       "    </tr>\n",
       "    <tr>\n",
       "      <th>99</th>\n",
       "      <td>102</td>\n",
       "      <td>90402</td>\n",
       "      <td>140179</td>\n",
       "    </tr>\n",
       "    <tr>\n",
       "      <th>160</th>\n",
       "      <td>163</td>\n",
       "      <td>91011</td>\n",
       "      <td>160288</td>\n",
       "    </tr>\n",
       "    <tr>\n",
       "      <th>173</th>\n",
       "      <td>176</td>\n",
       "      <td>91108</td>\n",
       "      <td>152553</td>\n",
       "    </tr>\n",
       "    <tr>\n",
       "      <th>181</th>\n",
       "      <td>184</td>\n",
       "      <td>91210</td>\n",
       "      <td>155833</td>\n",
       "    </tr>\n",
       "    <tr>\n",
       "      <th>226</th>\n",
       "      <td>229</td>\n",
       "      <td>91436</td>\n",
       "      <td>159965</td>\n",
       "    </tr>\n",
       "    <tr>\n",
       "      <th>371</th>\n",
       "      <td>377</td>\n",
       "      <td>92130</td>\n",
       "      <td>141926</td>\n",
       "    </tr>\n",
       "    <tr>\n",
       "      <th>527</th>\n",
       "      <td>536</td>\n",
       "      <td>92657</td>\n",
       "      <td>215000</td>\n",
       "    </tr>\n",
       "    <tr>\n",
       "      <th>533</th>\n",
       "      <td>542</td>\n",
       "      <td>92673</td>\n",
       "      <td>144331</td>\n",
       "    </tr>\n",
       "    <tr>\n",
       "      <th>538</th>\n",
       "      <td>547</td>\n",
       "      <td>92679</td>\n",
       "      <td>153053</td>\n",
       "    </tr>\n",
       "    <tr>\n",
       "      <th>543</th>\n",
       "      <td>552</td>\n",
       "      <td>92694</td>\n",
       "      <td>154384</td>\n",
       "    </tr>\n",
       "    <tr>\n",
       "      <th>572</th>\n",
       "      <td>581</td>\n",
       "      <td>92861</td>\n",
       "      <td>143077</td>\n",
       "    </tr>\n",
       "    <tr>\n",
       "      <th>816</th>\n",
       "      <td>828</td>\n",
       "      <td>94022</td>\n",
       "      <td>208984</td>\n",
       "    </tr>\n",
       "    <tr>\n",
       "      <th>817</th>\n",
       "      <td>829</td>\n",
       "      <td>94024</td>\n",
       "      <td>220970</td>\n",
       "    </tr>\n",
       "    <tr>\n",
       "      <th>819</th>\n",
       "      <td>831</td>\n",
       "      <td>94028</td>\n",
       "      <td>244671</td>\n",
       "    </tr>\n",
       "    <tr>\n",
       "      <th>827</th>\n",
       "      <td>840</td>\n",
       "      <td>94062</td>\n",
       "      <td>146450</td>\n",
       "    </tr>\n",
       "    <tr>\n",
       "      <th>829</th>\n",
       "      <td>842</td>\n",
       "      <td>94065</td>\n",
       "      <td>160313</td>\n",
       "    </tr>\n",
       "    <tr>\n",
       "      <th>831</th>\n",
       "      <td>844</td>\n",
       "      <td>94070</td>\n",
       "      <td>153291</td>\n",
       "    </tr>\n",
       "    <tr>\n",
       "      <th>840</th>\n",
       "      <td>853</td>\n",
       "      <td>94105</td>\n",
       "      <td>199364</td>\n",
       "    </tr>\n",
       "    <tr>\n",
       "      <th>841</th>\n",
       "      <td>854</td>\n",
       "      <td>94107</td>\n",
       "      <td>143467</td>\n",
       "    </tr>\n",
       "    <tr>\n",
       "      <th>847</th>\n",
       "      <td>860</td>\n",
       "      <td>94114</td>\n",
       "      <td>143902</td>\n",
       "    </tr>\n",
       "    <tr>\n",
       "      <th>856</th>\n",
       "      <td>869</td>\n",
       "      <td>94127</td>\n",
       "      <td>151094</td>\n",
       "    </tr>\n",
       "    <tr>\n",
       "      <th>857</th>\n",
       "      <td>871</td>\n",
       "      <td>94129</td>\n",
       "      <td>190167</td>\n",
       "    </tr>\n",
       "    <tr>\n",
       "      <th>864</th>\n",
       "      <td>878</td>\n",
       "      <td>94301</td>\n",
       "      <td>146488</td>\n",
       "    </tr>\n",
       "    <tr>\n",
       "      <th>870</th>\n",
       "      <td>884</td>\n",
       "      <td>94402</td>\n",
       "      <td>140186</td>\n",
       "    </tr>\n",
       "    <tr>\n",
       "      <th>877</th>\n",
       "      <td>891</td>\n",
       "      <td>94506</td>\n",
       "      <td>186378</td>\n",
       "    </tr>\n",
       "    <tr>\n",
       "      <th>878</th>\n",
       "      <td>892</td>\n",
       "      <td>94507</td>\n",
       "      <td>202336</td>\n",
       "    </tr>\n",
       "    <tr>\n",
       "      <th>886</th>\n",
       "      <td>900</td>\n",
       "      <td>94517</td>\n",
       "      <td>140361</td>\n",
       "    </tr>\n",
       "    <tr>\n",
       "      <th>891</th>\n",
       "      <td>905</td>\n",
       "      <td>94526</td>\n",
       "      <td>141761</td>\n",
       "    </tr>\n",
       "    <tr>\n",
       "      <th>899</th>\n",
       "      <td>913</td>\n",
       "      <td>94539</td>\n",
       "      <td>160542</td>\n",
       "    </tr>\n",
       "    <tr>\n",
       "      <th>906</th>\n",
       "      <td>3</td>\n",
       "      <td>94549</td>\n",
       "      <td>155225</td>\n",
       "    </tr>\n",
       "    <tr>\n",
       "      <th>917</th>\n",
       "      <td>14</td>\n",
       "      <td>94563</td>\n",
       "      <td>185066</td>\n",
       "    </tr>\n",
       "    <tr>\n",
       "      <th>922</th>\n",
       "      <td>19</td>\n",
       "      <td>94569</td>\n",
       "      <td>142905</td>\n",
       "    </tr>\n",
       "    <tr>\n",
       "      <th>930</th>\n",
       "      <td>28</td>\n",
       "      <td>94582</td>\n",
       "      <td>149859</td>\n",
       "    </tr>\n",
       "    <tr>\n",
       "      <th>962</th>\n",
       "      <td>60</td>\n",
       "      <td>94707</td>\n",
       "      <td>143297</td>\n",
       "    </tr>\n",
       "    <tr>\n",
       "      <th>973</th>\n",
       "      <td>71</td>\n",
       "      <td>94920</td>\n",
       "      <td>159423</td>\n",
       "    </tr>\n",
       "    <tr>\n",
       "      <th>991</th>\n",
       "      <td>90</td>\n",
       "      <td>94957</td>\n",
       "      <td>243214</td>\n",
       "    </tr>\n",
       "    <tr>\n",
       "      <th>1005</th>\n",
       "      <td>105</td>\n",
       "      <td>95014</td>\n",
       "      <td>150529</td>\n",
       "    </tr>\n",
       "    <tr>\n",
       "      <th>1011</th>\n",
       "      <td>111</td>\n",
       "      <td>95030</td>\n",
       "      <td>180222</td>\n",
       "    </tr>\n",
       "    <tr>\n",
       "      <th>1021</th>\n",
       "      <td>122</td>\n",
       "      <td>95054</td>\n",
       "      <td>140890</td>\n",
       "    </tr>\n",
       "    <tr>\n",
       "      <th>1038</th>\n",
       "      <td>139</td>\n",
       "      <td>95120</td>\n",
       "      <td>171908</td>\n",
       "    </tr>\n",
       "    <tr>\n",
       "      <th>1055</th>\n",
       "      <td>13</td>\n",
       "      <td>95138</td>\n",
       "      <td>159311</td>\n",
       "    </tr>\n",
       "    <tr>\n",
       "      <th>1316</th>\n",
       "      <td>283</td>\n",
       "      <td>95837</td>\n",
       "      <td>225000</td>\n",
       "    </tr>\n",
       "    <tr>\n",
       "      <th>1414</th>\n",
       "      <td>382</td>\n",
       "      <td>96125</td>\n",
       "      <td>159167</td>\n",
       "    </tr>\n",
       "    <tr>\n",
       "      <th>1854</th>\n",
       "      <td>113</td>\n",
       "      <td>98074</td>\n",
       "      <td>160618</td>\n",
       "    </tr>\n",
       "    <tr>\n",
       "      <th>1855</th>\n",
       "      <td>114</td>\n",
       "      <td>98075</td>\n",
       "      <td>163409</td>\n",
       "    </tr>\n",
       "    <tr>\n",
       "      <th>1856</th>\n",
       "      <td>115</td>\n",
       "      <td>98077</td>\n",
       "      <td>144193</td>\n",
       "    </tr>\n",
       "    <tr>\n",
       "      <th>1885</th>\n",
       "      <td>145</td>\n",
       "      <td>98164</td>\n",
       "      <td>250000</td>\n",
       "    </tr>\n",
       "  </tbody>\n",
       "</table>\n",
       "</div>"
      ],
      "text/plain": [
       "      index    zip  income\n",
       "58       60  90077  184722\n",
       "61       63  90210  149732\n",
       "81       84  90266  148899\n",
       "83       86  90272  180962\n",
       "84       87  90274  158497\n",
       "99      102  90402  140179\n",
       "160     163  91011  160288\n",
       "173     176  91108  152553\n",
       "181     184  91210  155833\n",
       "226     229  91436  159965\n",
       "371     377  92130  141926\n",
       "527     536  92657  215000\n",
       "533     542  92673  144331\n",
       "538     547  92679  153053\n",
       "543     552  92694  154384\n",
       "572     581  92861  143077\n",
       "816     828  94022  208984\n",
       "817     829  94024  220970\n",
       "819     831  94028  244671\n",
       "827     840  94062  146450\n",
       "829     842  94065  160313\n",
       "831     844  94070  153291\n",
       "840     853  94105  199364\n",
       "841     854  94107  143467\n",
       "847     860  94114  143902\n",
       "856     869  94127  151094\n",
       "857     871  94129  190167\n",
       "864     878  94301  146488\n",
       "870     884  94402  140186\n",
       "877     891  94506  186378\n",
       "878     892  94507  202336\n",
       "886     900  94517  140361\n",
       "891     905  94526  141761\n",
       "899     913  94539  160542\n",
       "906       3  94549  155225\n",
       "917      14  94563  185066\n",
       "922      19  94569  142905\n",
       "930      28  94582  149859\n",
       "962      60  94707  143297\n",
       "973      71  94920  159423\n",
       "991      90  94957  243214\n",
       "1005    105  95014  150529\n",
       "1011    111  95030  180222\n",
       "1021    122  95054  140890\n",
       "1038    139  95120  171908\n",
       "1055     13  95138  159311\n",
       "1316    283  95837  225000\n",
       "1414    382  96125  159167\n",
       "1854    113  98074  160618\n",
       "1855    114  98075  163409\n",
       "1856    115  98077  144193\n",
       "1885    145  98164  250000"
      ]
     },
     "execution_count": 56,
     "metadata": {},
     "output_type": "execute_result"
    }
   ],
   "source": [
    "good_zips[good_zips['income'] > 140000]\n",
    "#expensive neighorhoods will be talked about when going over feature selection "
   ]
  },
  {
   "cell_type": "code",
   "execution_count": null,
   "metadata": {},
   "outputs": [],
   "source": []
  }
 ],
 "metadata": {
  "kernelspec": {
   "display_name": "Python 3",
   "language": "python",
   "name": "python3"
  },
  "language_info": {
   "codemirror_mode": {
    "name": "ipython",
    "version": 3
   },
   "file_extension": ".py",
   "mimetype": "text/x-python",
   "name": "python",
   "nbconvert_exporter": "python",
   "pygments_lexer": "ipython3",
   "version": "3.7.3"
  }
 },
 "nbformat": 4,
 "nbformat_minor": 2
}
