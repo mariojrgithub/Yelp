{
 "cells": [
  {
   "cell_type": "code",
   "execution_count": null,
   "metadata": {},
   "outputs": [],
   "source": [
    "# run this command from terminal\n",
    "#\n",
    "# jupyter nbextension enable --py gmaps"
   ]
  },
  {
   "cell_type": "code",
   "execution_count": 1,
   "metadata": {},
   "outputs": [],
   "source": [
    "import pandas as pd\n",
    "import gmaps\n",
    "from IPython.display import clear_output\n",
    "gmaps.configure(api_key='API KEY')"
   ]
  },
  {
   "cell_type": "code",
   "execution_count": 2,
   "metadata": {},
   "outputs": [
    {
     "name": "stderr",
     "output_type": "stream",
     "text": [
      "/Users/jawaid/anaconda3/lib/python3.7/site-packages/IPython/core/interactiveshell.py:3057: DtypeWarning: Columns (6) have mixed types. Specify dtype option on import or set low_memory=False.\n",
      "  interactivity=interactivity, compiler=compiler, result=result)\n"
     ]
    },
    {
     "data": {
      "text/html": [
       "<div>\n",
       "<style scoped>\n",
       "    .dataframe tbody tr th:only-of-type {\n",
       "        vertical-align: middle;\n",
       "    }\n",
       "\n",
       "    .dataframe tbody tr th {\n",
       "        vertical-align: top;\n",
       "    }\n",
       "\n",
       "    .dataframe thead th {\n",
       "        text-align: right;\n",
       "    }\n",
       "</style>\n",
       "<table border=\"1\" class=\"dataframe\">\n",
       "  <thead>\n",
       "    <tr style=\"text-align: right;\">\n",
       "      <th></th>\n",
       "      <th>Unnamed: 0</th>\n",
       "      <th>address</th>\n",
       "      <th>category1</th>\n",
       "      <th>category2</th>\n",
       "      <th>category3</th>\n",
       "      <th>category4</th>\n",
       "      <th>category5</th>\n",
       "      <th>city</th>\n",
       "      <th>id</th>\n",
       "      <th>latitude</th>\n",
       "      <th>longitude</th>\n",
       "      <th>name</th>\n",
       "      <th>phone</th>\n",
       "      <th>price</th>\n",
       "      <th>rating</th>\n",
       "      <th>zip_code</th>\n",
       "    </tr>\n",
       "  </thead>\n",
       "  <tbody>\n",
       "    <tr>\n",
       "      <th>0</th>\n",
       "      <td>71</td>\n",
       "      <td>1517 E Florence Ave</td>\n",
       "      <td>mexican</td>\n",
       "      <td>NaN</td>\n",
       "      <td>NaN</td>\n",
       "      <td>NaN</td>\n",
       "      <td>NaN</td>\n",
       "      <td>Los Angeles</td>\n",
       "      <td>RVJ7CtzHbSIXySMJ7uJw9w</td>\n",
       "      <td>33.974990</td>\n",
       "      <td>-118.246960</td>\n",
       "      <td>El Senor Taco</td>\n",
       "      <td>1.323582e+10</td>\n",
       "      <td>$</td>\n",
       "      <td>3.5</td>\n",
       "      <td>90001</td>\n",
       "    </tr>\n",
       "    <tr>\n",
       "      <th>1</th>\n",
       "      <td>109</td>\n",
       "      <td>7600 Graham Ave</td>\n",
       "      <td>parks</td>\n",
       "      <td>playgrounds</td>\n",
       "      <td>recreation</td>\n",
       "      <td>NaN</td>\n",
       "      <td>NaN</td>\n",
       "      <td>Los Angeles</td>\n",
       "      <td>73_9SM3HCAPZi6VmjjY2Rg</td>\n",
       "      <td>33.970200</td>\n",
       "      <td>-118.242040</td>\n",
       "      <td>Franklin D Roosevelt Park</td>\n",
       "      <td>1.323587e+10</td>\n",
       "      <td>NaN</td>\n",
       "      <td>4.5</td>\n",
       "      <td>90001</td>\n",
       "    </tr>\n",
       "    <tr>\n",
       "      <th>2</th>\n",
       "      <td>111</td>\n",
       "      <td>NaN</td>\n",
       "      <td>desserts</td>\n",
       "      <td>chocolate</td>\n",
       "      <td>NaN</td>\n",
       "      <td>NaN</td>\n",
       "      <td>NaN</td>\n",
       "      <td>Los Angeles</td>\n",
       "      <td>XuDsBBkKMgyb19qrCG-Vxw</td>\n",
       "      <td>33.973630</td>\n",
       "      <td>-118.249890</td>\n",
       "      <td>Brigadier Sweets</td>\n",
       "      <td>1.213281e+10</td>\n",
       "      <td>$$</td>\n",
       "      <td>5.0</td>\n",
       "      <td>90001</td>\n",
       "    </tr>\n",
       "    <tr>\n",
       "      <th>3</th>\n",
       "      <td>118</td>\n",
       "      <td>NaN</td>\n",
       "      <td>foodtrucks</td>\n",
       "      <td>african</td>\n",
       "      <td>NaN</td>\n",
       "      <td>NaN</td>\n",
       "      <td>NaN</td>\n",
       "      <td>Los Angeles</td>\n",
       "      <td>E02jtyN7b9LJW8bJwX97kA</td>\n",
       "      <td>33.978530</td>\n",
       "      <td>-118.249700</td>\n",
       "      <td>African Chop</td>\n",
       "      <td>1.408430e+10</td>\n",
       "      <td>NaN</td>\n",
       "      <td>4.5</td>\n",
       "      <td>90001</td>\n",
       "    </tr>\n",
       "    <tr>\n",
       "      <th>4</th>\n",
       "      <td>129</td>\n",
       "      <td>757 S La Brea Ave</td>\n",
       "      <td>foodtrucks</td>\n",
       "      <td>mexican</td>\n",
       "      <td>NaN</td>\n",
       "      <td>NaN</td>\n",
       "      <td>NaN</td>\n",
       "      <td>Los Angeles</td>\n",
       "      <td>KWKkQHHwVBPS_4abj-DaYw</td>\n",
       "      <td>34.060716</td>\n",
       "      <td>-118.344931</td>\n",
       "      <td>Huitlacoche</td>\n",
       "      <td>1.323381e+10</td>\n",
       "      <td>$</td>\n",
       "      <td>4.5</td>\n",
       "      <td>90017</td>\n",
       "    </tr>\n",
       "  </tbody>\n",
       "</table>\n",
       "</div>"
      ],
      "text/plain": [
       "   Unnamed: 0              address   category1    category2   category3  \\\n",
       "0          71  1517 E Florence Ave     mexican          NaN         NaN   \n",
       "1         109      7600 Graham Ave       parks  playgrounds  recreation   \n",
       "2         111                  NaN    desserts    chocolate         NaN   \n",
       "3         118                  NaN  foodtrucks      african         NaN   \n",
       "4         129    757 S La Brea Ave  foodtrucks      mexican         NaN   \n",
       "\n",
       "  category4 category5         city                      id   latitude  \\\n",
       "0       NaN       NaN  Los Angeles  RVJ7CtzHbSIXySMJ7uJw9w  33.974990   \n",
       "1       NaN       NaN  Los Angeles  73_9SM3HCAPZi6VmjjY2Rg  33.970200   \n",
       "2       NaN       NaN  Los Angeles  XuDsBBkKMgyb19qrCG-Vxw  33.973630   \n",
       "3       NaN       NaN  Los Angeles  E02jtyN7b9LJW8bJwX97kA  33.978530   \n",
       "4       NaN       NaN  Los Angeles  KWKkQHHwVBPS_4abj-DaYw  34.060716   \n",
       "\n",
       "    longitude                       name         phone price  rating zip_code  \n",
       "0 -118.246960              El Senor Taco  1.323582e+10     $     3.5    90001  \n",
       "1 -118.242040  Franklin D Roosevelt Park  1.323587e+10   NaN     4.5    90001  \n",
       "2 -118.249890           Brigadier Sweets  1.213281e+10    $$     5.0    90001  \n",
       "3 -118.249700               African Chop  1.408430e+10   NaN     4.5    90001  \n",
       "4 -118.344931                Huitlacoche  1.323381e+10     $     4.5    90017  "
      ]
     },
     "execution_count": 2,
     "metadata": {},
     "output_type": "execute_result"
    }
   ],
   "source": [
    "df = pd.read_csv('./datasets/WestCoast.csv');\n",
    "df.head()"
   ]
  },
  {
   "cell_type": "code",
   "execution_count": 3,
   "metadata": {},
   "outputs": [
    {
     "data": {
      "text/plain": [
       "Unnamed: 0      int64\n",
       "address        object\n",
       "category1      object\n",
       "category2      object\n",
       "category3      object\n",
       "category4      object\n",
       "category5      object\n",
       "city           object\n",
       "id             object\n",
       "latitude      float64\n",
       "longitude     float64\n",
       "name           object\n",
       "phone         float64\n",
       "price          object\n",
       "rating        float64\n",
       "zip_code       object\n",
       "dtype: object"
      ]
     },
     "execution_count": 3,
     "metadata": {},
     "output_type": "execute_result"
    }
   ],
   "source": [
    "df.dtypes"
   ]
  },
  {
   "cell_type": "code",
   "execution_count": 4,
   "metadata": {},
   "outputs": [],
   "source": [
    "#keeping only zip ocdes that start with 9\n",
    "df = df[df['zip_code'].astype(str).str.startswith('9')]"
   ]
  },
  {
   "cell_type": "code",
   "execution_count": 5,
   "metadata": {},
   "outputs": [
    {
     "data": {
      "text/plain": [
       "(82870, 16)"
      ]
     },
     "execution_count": 5,
     "metadata": {},
     "output_type": "execute_result"
    }
   ],
   "source": [
    "df.shape"
   ]
  },
  {
   "cell_type": "code",
   "execution_count": 6,
   "metadata": {},
   "outputs": [
    {
     "data": {
      "text/html": [
       "<div>\n",
       "<style scoped>\n",
       "    .dataframe tbody tr th:only-of-type {\n",
       "        vertical-align: middle;\n",
       "    }\n",
       "\n",
       "    .dataframe tbody tr th {\n",
       "        vertical-align: top;\n",
       "    }\n",
       "\n",
       "    .dataframe thead th {\n",
       "        text-align: right;\n",
       "    }\n",
       "</style>\n",
       "<table border=\"1\" class=\"dataframe\">\n",
       "  <thead>\n",
       "    <tr style=\"text-align: right;\">\n",
       "      <th></th>\n",
       "      <th>Unnamed: 0</th>\n",
       "      <th>address</th>\n",
       "      <th>category1</th>\n",
       "      <th>category2</th>\n",
       "      <th>category3</th>\n",
       "      <th>category4</th>\n",
       "      <th>category5</th>\n",
       "      <th>city</th>\n",
       "      <th>id</th>\n",
       "      <th>latitude</th>\n",
       "      <th>longitude</th>\n",
       "      <th>name</th>\n",
       "      <th>phone</th>\n",
       "      <th>price</th>\n",
       "      <th>rating</th>\n",
       "      <th>zip_code</th>\n",
       "    </tr>\n",
       "  </thead>\n",
       "  <tbody>\n",
       "    <tr>\n",
       "      <th>0</th>\n",
       "      <td>71</td>\n",
       "      <td>1517 E Florence Ave</td>\n",
       "      <td>mexican</td>\n",
       "      <td>NaN</td>\n",
       "      <td>NaN</td>\n",
       "      <td>NaN</td>\n",
       "      <td>NaN</td>\n",
       "      <td>Los Angeles</td>\n",
       "      <td>RVJ7CtzHbSIXySMJ7uJw9w</td>\n",
       "      <td>33.974990</td>\n",
       "      <td>-118.246960</td>\n",
       "      <td>El Senor Taco</td>\n",
       "      <td>1.323582e+10</td>\n",
       "      <td>$</td>\n",
       "      <td>3.5</td>\n",
       "      <td>90001</td>\n",
       "    </tr>\n",
       "    <tr>\n",
       "      <th>1</th>\n",
       "      <td>109</td>\n",
       "      <td>7600 Graham Ave</td>\n",
       "      <td>parks</td>\n",
       "      <td>playgrounds</td>\n",
       "      <td>recreation</td>\n",
       "      <td>NaN</td>\n",
       "      <td>NaN</td>\n",
       "      <td>Los Angeles</td>\n",
       "      <td>73_9SM3HCAPZi6VmjjY2Rg</td>\n",
       "      <td>33.970200</td>\n",
       "      <td>-118.242040</td>\n",
       "      <td>Franklin D Roosevelt Park</td>\n",
       "      <td>1.323587e+10</td>\n",
       "      <td>NaN</td>\n",
       "      <td>4.5</td>\n",
       "      <td>90001</td>\n",
       "    </tr>\n",
       "    <tr>\n",
       "      <th>2</th>\n",
       "      <td>111</td>\n",
       "      <td>NaN</td>\n",
       "      <td>desserts</td>\n",
       "      <td>chocolate</td>\n",
       "      <td>NaN</td>\n",
       "      <td>NaN</td>\n",
       "      <td>NaN</td>\n",
       "      <td>Los Angeles</td>\n",
       "      <td>XuDsBBkKMgyb19qrCG-Vxw</td>\n",
       "      <td>33.973630</td>\n",
       "      <td>-118.249890</td>\n",
       "      <td>Brigadier Sweets</td>\n",
       "      <td>1.213281e+10</td>\n",
       "      <td>$$</td>\n",
       "      <td>5.0</td>\n",
       "      <td>90001</td>\n",
       "    </tr>\n",
       "    <tr>\n",
       "      <th>3</th>\n",
       "      <td>118</td>\n",
       "      <td>NaN</td>\n",
       "      <td>foodtrucks</td>\n",
       "      <td>african</td>\n",
       "      <td>NaN</td>\n",
       "      <td>NaN</td>\n",
       "      <td>NaN</td>\n",
       "      <td>Los Angeles</td>\n",
       "      <td>E02jtyN7b9LJW8bJwX97kA</td>\n",
       "      <td>33.978530</td>\n",
       "      <td>-118.249700</td>\n",
       "      <td>African Chop</td>\n",
       "      <td>1.408430e+10</td>\n",
       "      <td>NaN</td>\n",
       "      <td>4.5</td>\n",
       "      <td>90001</td>\n",
       "    </tr>\n",
       "    <tr>\n",
       "      <th>4</th>\n",
       "      <td>129</td>\n",
       "      <td>757 S La Brea Ave</td>\n",
       "      <td>foodtrucks</td>\n",
       "      <td>mexican</td>\n",
       "      <td>NaN</td>\n",
       "      <td>NaN</td>\n",
       "      <td>NaN</td>\n",
       "      <td>Los Angeles</td>\n",
       "      <td>KWKkQHHwVBPS_4abj-DaYw</td>\n",
       "      <td>34.060716</td>\n",
       "      <td>-118.344931</td>\n",
       "      <td>Huitlacoche</td>\n",
       "      <td>1.323381e+10</td>\n",
       "      <td>$</td>\n",
       "      <td>4.5</td>\n",
       "      <td>90017</td>\n",
       "    </tr>\n",
       "  </tbody>\n",
       "</table>\n",
       "</div>"
      ],
      "text/plain": [
       "   Unnamed: 0              address   category1    category2   category3  \\\n",
       "0          71  1517 E Florence Ave     mexican          NaN         NaN   \n",
       "1         109      7600 Graham Ave       parks  playgrounds  recreation   \n",
       "2         111                  NaN    desserts    chocolate         NaN   \n",
       "3         118                  NaN  foodtrucks      african         NaN   \n",
       "4         129    757 S La Brea Ave  foodtrucks      mexican         NaN   \n",
       "\n",
       "  category4 category5         city                      id   latitude  \\\n",
       "0       NaN       NaN  Los Angeles  RVJ7CtzHbSIXySMJ7uJw9w  33.974990   \n",
       "1       NaN       NaN  Los Angeles  73_9SM3HCAPZi6VmjjY2Rg  33.970200   \n",
       "2       NaN       NaN  Los Angeles  XuDsBBkKMgyb19qrCG-Vxw  33.973630   \n",
       "3       NaN       NaN  Los Angeles  E02jtyN7b9LJW8bJwX97kA  33.978530   \n",
       "4       NaN       NaN  Los Angeles  KWKkQHHwVBPS_4abj-DaYw  34.060716   \n",
       "\n",
       "    longitude                       name         phone price  rating zip_code  \n",
       "0 -118.246960              El Senor Taco  1.323582e+10     $     3.5    90001  \n",
       "1 -118.242040  Franklin D Roosevelt Park  1.323587e+10   NaN     4.5    90001  \n",
       "2 -118.249890           Brigadier Sweets  1.213281e+10    $$     5.0    90001  \n",
       "3 -118.249700               African Chop  1.408430e+10   NaN     4.5    90001  \n",
       "4 -118.344931                Huitlacoche  1.323381e+10     $     4.5    90017  "
      ]
     },
     "execution_count": 6,
     "metadata": {},
     "output_type": "execute_result"
    }
   ],
   "source": [
    "df.head()"
   ]
  },
  {
   "cell_type": "code",
   "execution_count": 7,
   "metadata": {},
   "outputs": [
    {
     "data": {
      "text/plain": [
       "True"
      ]
     },
     "execution_count": 7,
     "metadata": {},
     "output_type": "execute_result"
    }
   ],
   "source": [
    "#sanity check\n",
    "df.index.is_monotonic"
   ]
  },
  {
   "cell_type": "code",
   "execution_count": 8,
   "metadata": {},
   "outputs": [],
   "source": [
    "df['price'] = df['price'].map({'$': 1, '$$': 2, '$$$': 3, '$$$$': 4})"
   ]
  },
  {
   "cell_type": "code",
   "execution_count": 9,
   "metadata": {},
   "outputs": [
    {
     "data": {
      "text/plain": [
       "2.0    37719\n",
       "1.0    29171\n",
       "NaN    13535\n",
       "3.0     2086\n",
       "4.0      359\n",
       "Name: price, dtype: int64"
      ]
     },
     "execution_count": 9,
     "metadata": {},
     "output_type": "execute_result"
    }
   ],
   "source": [
    "df['price'].value_counts(dropna = False)"
   ]
  },
  {
   "cell_type": "code",
   "execution_count": 10,
   "metadata": {},
   "outputs": [
    {
     "data": {
      "text/plain": [
       "0"
      ]
     },
     "execution_count": 10,
     "metadata": {},
     "output_type": "execute_result"
    }
   ],
   "source": [
    "df['zip_code'].isnull().sum()"
   ]
  },
  {
   "cell_type": "code",
   "execution_count": 13,
   "metadata": {},
   "outputs": [],
   "source": [
    "while True:\n",
    "    zip = input('Enter a zip code: ')\n",
    "    clear_output()\n",
    "    \n",
    "    if zip == '':\n",
    "        break\n",
    "       \n",
    "    yelp = df[df['zip_code'] == zip ]\n",
    "    \n",
    "    red = yelp[yelp['price']==1][['latitude', 'longitude']]\n",
    "    green = yelp[yelp['price']==2][['latitude', 'longitude']]\n",
    "    blue = yelp[yelp['price']==3][['latitude', 'longitude']]\n",
    "    purple = yelp[yelp['price']==4][['latitude', 'longitude']]\n",
    "\n",
    "    fig = gmaps.figure()\n",
    "    fig.add_layer(gmaps.symbol_layer(red, stroke_color='red'))\n",
    "    fig.add_layer(gmaps.symbol_layer(green, stroke_color='green'))\n",
    "    fig.add_layer(gmaps.symbol_layer(blue, stroke_color='blue'))\n",
    "    fig.add_layer(gmaps.symbol_layer(purple, stroke_color='purple'))\n",
    "    display(fig)"
   ]
  }
 ],
 "metadata": {
  "kernelspec": {
   "display_name": "Python 3",
   "language": "python",
   "name": "python3"
  },
  "language_info": {
   "codemirror_mode": {
    "name": "ipython",
    "version": 3
   },
   "file_extension": ".py",
   "mimetype": "text/x-python",
   "name": "python",
   "nbconvert_exporter": "python",
   "pygments_lexer": "ipython3",
   "version": "3.7.3"
  }
 },
 "nbformat": 4,
 "nbformat_minor": 2
}
